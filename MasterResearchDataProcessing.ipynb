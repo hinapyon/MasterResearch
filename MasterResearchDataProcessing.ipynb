{
  "cells": [
    {
      "cell_type": "code",
      "execution_count": null,
      "metadata": {
        "colab": {
          "base_uri": "https://localhost:8080/",
          "height": 317
        },
        "id": "VGJb1ScIJE-J",
        "outputId": "b1859492-79da-4727-9515-d68970d783e8"
      },
      "outputs": [],
      "source": [
        "# Google Colabでライブラリをアップロードする\n",
        "from google.colab import files\n",
        "uploaded = files.upload()"
      ]
    },
    {
      "cell_type": "code",
      "execution_count": null,
      "metadata": {
        "colab": {
          "base_uri": "https://localhost:8080/"
        },
        "id": "FI3b2MALJQG9",
        "outputId": "27fe7c7a-733b-41d3-ad50-e6e4b4be0413"
      },
      "outputs": [],
      "source": [
        "# Google Colabでドライブのデータを使う\n",
        "from google.colab import drive\n",
        "drive.mount('/content/drive')"
      ]
    },
    {
      "cell_type": "code",
      "execution_count": null,
      "metadata": {
        "colab": {
          "base_uri": "https://localhost:8080/"
        },
        "id": "5P9aOSopJUiL",
        "outputId": "fcd75319-bbe0-4be5-eb79-e1625a024bb2"
      },
      "outputs": [],
      "source": [
        "# Google Colabでライブラリをインストールする\n",
        "!pip install japanize_matplotlib bottleneck tslearn"
      ]
    },
    {
      "cell_type": "code",
      "execution_count": 2,
      "metadata": {
        "id": "1Lq-ZkyCJJbu"
      },
      "outputs": [
        {
          "name": "stderr",
          "output_type": "stream",
          "text": [
            "2024-07-17 12:28:13.125817: I tensorflow/core/platform/cpu_feature_guard.cc:182] This TensorFlow binary is optimized to use available CPU instructions in performance-critical operations.\n",
            "To enable the following instructions: AVX2 FMA, in other operations, rebuild TensorFlow with the appropriate compiler flags.\n"
          ]
        }
      ],
      "source": [
        "# 自作関数\n",
        "import MasterResearchFunction as mr\n",
        "\n",
        "# 基本ライブラリ\n",
        "import os, re, csv, math, statistics\n",
        "from datetime import datetime, timedelta\n",
        "from decimal import Decimal\n",
        "import pickle\n",
        "\n",
        "# 数値計算とデータ処理\n",
        "import numpy as np\n",
        "import pandas as pd\n",
        "import bottleneck as bn\n",
        "\n",
        "# 機械学習ライブラリ\n",
        "from sklearn import preprocessing\n",
        "from sklearn.preprocessing import LabelEncoder\n",
        "from sklearn.model_selection import train_test_split\n",
        "from sklearn.metrics import accuracy_score\n",
        "\n",
        "# ディープラーニングライブラリ\n",
        "import tensorflow as tf\n",
        "from tensorflow.keras import layers, Sequential\n",
        "from tensorflow.keras.layers import LSTM, Dense, Activation, Conv1D, MaxPooling1D, Flatten\n",
        "\n",
        "# プロットと可視化\n",
        "import matplotlib.pyplot as plt\n",
        "import matplotlib.dates as mdates\n",
        "import japanize_matplotlib\n",
        "\n",
        "# その他のライブラリ\n",
        "from scipy import signal, stats\n",
        "from scipy.signal import savgol_filter\n",
        "from scipy.spatial.distance import euclidean\n",
        "from scipy.interpolate import interp1d\n",
        "from tslearn.metrics import dtw_path\n",
        "from fastdtw import fastdtw"
      ]
    },
    {
      "cell_type": "code",
      "execution_count": null,
      "metadata": {
        "id": "xSPIQYV9JE-O"
      },
      "outputs": [],
      "source": [
        "#Apple Watchのモーションデータの読み込み\n",
        "a_yuuma_motion_data = mr.process_apple_watch_csv(\"datasets/yuuma/20240604/yuuma_motion.csv\")\n",
        "b_sakamoto_motion_data = mr.process_apple_watch_csv(\"datasets/sakamoto/20240604/sakamoto_motion.csv\")\n",
        "c_watabe_motion_data = mr.process_apple_watch_csv(\"datasets/watabe/20240605/watabe_motion.csv\")\n",
        "d_nakazawa_motion_data = mr.process_apple_watch_csv(\"datasets/nakazawa/20240606/nakazawa_motion.csv\")\n",
        "e_okede_motion_data = mr.process_apple_watch_csv(\"datasets/okeda/20240607/okeda_motion.csv\")\n",
        "# a_yuuma_motion_data = mr.process_apple_watch_csv(\"/content/drive/MyDrive/datasets/yuuma/20240604/yuuma_motion.csv\")\n",
        "# b_sakamoto_motion_data = mr.process_apple_watch_csv(\"/content/drive/MyDrive/datasets/sakamoto/20240604/sakamoto_motion.csv\")\n",
        "# c_watabe_motion_data = mr.process_apple_watch_csv(\"/content/drive/MyDrive/datasets/watabe/20240605/watabe_motion.csv\")\n",
        "# d_nakazawa_motion_data = mr.process_apple_watch_csv(\"/content/drive/MyDrive/datasets/nakazawa/20240606/nakazawa_motion.csv\")\n",
        "# e_okeda_motion_data = mr.process_apple_watch_csv(\"/content/drive/MyDrive/datasets/okeda/20240607/okeda_motion.csv\")"
      ]
    },
    {
      "cell_type": "code",
      "execution_count": 3,
      "metadata": {
        "colab": {
          "base_uri": "https://localhost:8080/"
        },
        "id": "DwuLVlktIfm9",
        "outputId": "b7e9bd79-804e-41c2-eeac-62076767c316"
      },
      "outputs": [
        {
          "name": "stderr",
          "output_type": "stream",
          "text": [
            "/Users/hinase/CodeChord/MasterResearch/MasterResearchFunction.py:109: DtypeWarning: Columns (36) have mixed types. Specify dtype option on import or set low_memory=False.\n",
            "  eye_data = pd.read_csv(file_path, header=0)\n",
            "/Users/hinase/CodeChord/MasterResearch/MasterResearchFunction.py:109: DtypeWarning: Columns (36) have mixed types. Specify dtype option on import or set low_memory=False.\n",
            "  eye_data = pd.read_csv(file_path, header=0)\n",
            "/Users/hinase/CodeChord/MasterResearch/MasterResearchFunction.py:109: DtypeWarning: Columns (36) have mixed types. Specify dtype option on import or set low_memory=False.\n",
            "  eye_data = pd.read_csv(file_path, header=0)\n",
            "/Users/hinase/CodeChord/MasterResearch/MasterResearchFunction.py:109: DtypeWarning: Columns (36) have mixed types. Specify dtype option on import or set low_memory=False.\n",
            "  eye_data = pd.read_csv(file_path, header=0)\n"
          ]
        }
      ],
      "source": [
        "#Tobiiのモーションデータの読み込み\n",
        "a_yuuma_eye_data = mr.process_tobii_csv(\"datasets/yuuma/20240604/yuuma_eye.csv\")\n",
        "b_sakamoto_eye_data = mr.process_tobii_csv(\"datasets/sakamoto/20240604/sakamoto_eye.csv\")\n",
        "c_watabe_eye_data = mr.process_tobii_csv(\"datasets/watabe/20240605/watabe_eye.csv\")\n",
        "d_nakazawa_eye_data = mr.process_tobii_csv(\"datasets/nakazawa/20240606/nakazawa_eye.csv\")\n",
        "e_okeda_eye_data = mr.process_tobii_csv(\"datasets/okeda/20240607/okeda_eye.csv\")\n",
        "# a_yuuma_eye_data = mr.process_tobii_csv(\"/content/drive/MyDrive/datasets/yuuma/20240604/yuuma_eye.csv\")\n",
        "# b_sakamoto_eye_data = mr.process_tobii_csv(\"/content/drive/MyDrive/datasets/sakamoto/20240604/sakamoto_eye.csv\")\n",
        "# c_watabe_eye_data = mr.process_tobii_csv(\"/content/drive/MyDrive/datasets/watabe/20240605/watabe_eye.csv\")\n",
        "# d_nakazawa_eye_data = mr.process_tobii_csv(\"/content/drive/MyDrive/datasets/nakazawa/20240606/nakazawa_eye.csv\")\n",
        "# e_okeda_eye_data = mr.process_tobii_csv(\"/content/drive/MyDrive/datasets/okeda/20240607/okeda_eye.csv\")"
      ]
    },
    {
      "cell_type": "code",
      "execution_count": null,
      "metadata": {
        "id": "oOEsc9-3fnXT"
      },
      "outputs": [],
      "source": [
        "#a_yuumaくんの教師データ読み込み\n",
        "a_yuuma_check = mr.process_all_apple_watch_csv_in_directory(\"datasets/yuuma/train_gesture/check\")\n",
        "a_yuuma_circle = mr.process_all_apple_watch_csv_in_directory(\"datasets/yuuma/train_gesture/circle\")\n",
        "a_yuuma_cross = mr.process_all_apple_watch_csv_in_directory(\"datasets/yuuma/train_gesture/cross(new)\")\n",
        "a_yuuma_tri = mr.process_all_apple_watch_csv_in_directory(\"datasets/yuuma/train_gesture/tri\")\n",
        "# a_yuuma_check = mr.process_all_apple_watch_csv_in_directory(\"/content/drive/MyDrive/datasets/yuuma/train_gesture/check\")\n",
        "# a_yuuma_circle = mr.process_all_apple_watch_csv_in_directory(\"/content/drive/MyDrive/datasets/yuuma/train_gesture/circle\")\n",
        "# a_yuuma_cross = mr.process_all_apple_watch_csv_in_directory(\"/content/drive/MyDrive/datasets/yuuma/train_gesture/cross(new)\")\n",
        "# a_yuuma_tri = mr.process_all_apple_watch_csv_in_directory(\"/content/drive/MyDrive/datasets/yuuma/train_gesture/tri\")"
      ]
    },
    {
      "cell_type": "code",
      "execution_count": null,
      "metadata": {
        "id": "uK2kISJYI71I"
      },
      "outputs": [],
      "source": [
        "#b_sakamotoくんの教師データ読み込み\n",
        "b_sakamoto_check = mr.process_all_apple_watch_csv_in_directory(\"datasets/sakamoto/train_gesture(old)/check\")\n",
        "b_sakamoto_circle = mr.process_all_apple_watch_csv_in_directory(\"datasets/sakamoto/train_gesture(old)/circle\")\n",
        "b_sakamoto_cross = mr.process_all_apple_watch_csv_in_directory(\"datasets/sakamoto/train_gesture(old)/cross\")\n",
        "b_sakamoto_tri = mr.process_all_apple_watch_csv_in_directory(\"datasets/sakamoto/train_gesture(old)/tri\")\n",
        "# b_sakamoto_check = mr.process_all_apple_watch_csv_in_directory(\"/content/drive/MyDrive/datasets/sakamoto/train_gesture(old)/check\")\n",
        "# b_sakamoto_circle = mr.process_all_apple_watch_csv_in_directory(\"/content/drive/MyDrive/datasets/sakamoto/train_gesture(old)/circle\")\n",
        "# b_sakamoto_cross = mr.process_all_apple_watch_csv_in_directory(\"/content/drive/MyDrive/datasets/sakamoto/train_gesture(old)/cross\")\n",
        "# b_sakamoto_tri = mr.process_all_apple_watch_csv_in_directory(\"/content/drive/MyDrive/datasets/sakamoto/train_gesture(old)/tri\")"
      ]
    },
    {
      "cell_type": "code",
      "execution_count": null,
      "metadata": {},
      "outputs": [],
      "source": [
        "#b_sakamotoくんの教師データ読み込み\n",
        "b_sakamoto_check = mr.process_all_apple_watch_csv_in_directory(\"datasets/sakamoto/train_gesture(new)/check\")\n",
        "b_sakamoto_circle = mr.process_all_apple_watch_csv_in_directory(\"datasets/sakamoto/train_gesture(new)/circle\")\n",
        "b_sakamoto_cross = mr.process_all_apple_watch_csv_in_directory(\"datasets/sakamoto/train_gesture(new)/cross\")\n",
        "b_sakamoto_tri = mr.process_all_apple_watch_csv_in_directory(\"datasets/sakamoto/train_gesture(new)/tri\")\n",
        "# b_sakamoto_check = mr.process_all_apple_watch_csv_in_directory(\"/content/drive/MyDrive/datasets/sakamoto/train_gesture(new)/check\")\n",
        "# b_sakamoto_circle = mr.process_all_apple_watch_csv_in_directory(\"/content/drive/MyDrive/datasets/sakamoto/train_gesture(new)/circle\")\n",
        "# b_sakamoto_cross = mr.process_all_apple_watch_csv_in_directory(\"/content/drive/MyDrive/datasets/sakamoto/train_gesture(new)/cross\")\n",
        "# b_sakamoto_tri = mr.process_all_apple_watch_csv_in_directory(\"/content/drive/MyDrive/datasets/sakamoto/train_gesture(new)/tri\")"
      ]
    },
    {
      "cell_type": "code",
      "execution_count": null,
      "metadata": {
        "id": "diEoQTluAkuW"
      },
      "outputs": [],
      "source": [
        "#c_watabeくんの教師データ読み込み\n",
        "c_watabe_check = mr.process_all_apple_watch_csv_in_directory(\"datasets/watabe/train_gesture/check\")\n",
        "c_watabe_circle = mr.process_all_apple_watch_csv_in_directory(\"datasets/watabe/train_gesture/circle\")\n",
        "c_watabe_cross = mr.process_all_apple_watch_csv_in_directory(\"datasets/watabe/train_gesture/cross\")\n",
        "c_watabe_tri = mr.process_all_apple_watch_csv_in_directory(\"datasets/watabe/train_gesture/tri\")\n",
        "# c_watabe_check = mr.process_all_apple_watch_csv_in_directory(\"/content/drive/MyDrive/datasets/watabe/train_gesture/check\")\n",
        "# c_watabe_circle = mr.process_all_apple_watch_csv_in_directory(\"/content/drive/MyDrive/datasets/watabe/train_gesture/circle\")\n",
        "# c_watabe_cross = mr.process_all_apple_watch_csv_in_directory(\"/content/drive/MyDrive/datasets/watabe/train_gesture/cross\")\n",
        "# c_watabe_tri = mr.process_all_apple_watch_csv_in_directory(\"/content/drive/MyDrive/datasets/watabe/train_gesture/tri\")"
      ]
    },
    {
      "cell_type": "code",
      "execution_count": null,
      "metadata": {
        "id": "lE7CC2oFKDi8"
      },
      "outputs": [],
      "source": [
        "#d_nakazawaくんの教師データ読み込み\n",
        "d_nakazawa_check = mr.process_all_apple_watch_csv_in_directory(\"datasets/nakazawa/train_gesture/check\")\n",
        "d_nakazawa_circle = mr.process_all_apple_watch_csv_in_directory(\"datasets/nakazawa/train_gesture/circle\")\n",
        "d_nakazawa_cross = mr.process_all_apple_watch_csv_in_directory(\"datasets/nakazawa/train_gesture/cross\")\n",
        "d_nakazawa_tri = mr.process_all_apple_watch_csv_in_directory(\"datasets/nakazawa/train_gesture/tri\")\n",
        "# d_nakazawa_check = mr.process_all_apple_watch_csv_in_directory(\"/content/drive/MyDrive/datasets/nakazawa/train_gesture/check\")\n",
        "# d_nakazawa_circle = mr.process_all_apple_watch_csv_in_directory(\"/content/drive/MyDrive/datasets/nakazawa/train_gesture/circle\")\n",
        "# d_nakazawa_cross = mr.process_all_apple_watch_csv_in_directory(\"/content/drive/MyDrive/datasets/nakazawa/train_gesture/cross\")\n",
        "# d_nakazawa_tri = mr.process_all_apple_watch_csv_in_directory(\"/content/drive/MyDrive/datasets/nakazawa/train_gesture/tri\")"
      ]
    },
    {
      "cell_type": "code",
      "execution_count": null,
      "metadata": {
        "id": "wrS9POJEKLrV"
      },
      "outputs": [],
      "source": [
        "#e_okedaくんの教師データ読み込み\n",
        "e_okeda_check = mr.process_all_apple_watch_csv_in_directory(\"datasets/okeda/train_gesture/check\")\n",
        "e_okeda_circle = mr.process_all_apple_watch_csv_in_directory(\"datasets/okeda/train_gesture/circle\")\n",
        "e_okeda_cross = mr.process_all_apple_watch_csv_in_directory(\"datasets/okeda/train_gesture/cross\")\n",
        "e_okeda_tri = mr.process_all_apple_watch_csv_in_directory(\"datasets/okeda/train_gesture/tri\")\n",
        "# e_okeda_check = mr.process_all_apple_watch_csv_in_directory(\"/content/drive/MyDrive/datasets/okeda/train_gesture/check\")\n",
        "# e_okeda_circle = mr.process_all_apple_watch_csv_in_directory(\"/content/drive/MyDrive/datasets/okeda/train_gesture/circle\")\n",
        "# e_okeda_cross = mr.process_all_apple_watch_csv_in_directory(\"/content/drive/MyDrive/datasets/okeda/train_gesture/cross\")\n",
        "# e_okeda_tri = mr.process_all_apple_watch_csv_in_directory(\"/content/drive/MyDrive/datasets/okeda/train_gesture/tri\")"
      ]
    },
    {
      "cell_type": "code",
      "execution_count": null,
      "metadata": {},
      "outputs": [],
      "source": [
        "circle_start_time = pd.Timestamp('2024-06-04 16:00:31.500')\n",
        "circle_end_time = pd.Timestamp('2024-06-04 16:00:34.000')\n",
        "cross_start_time = pd.Timestamp('2024-06-04 16:10:56.000')\n",
        "cross_end_time = pd.Timestamp('2024-06-04 16:10:58.000')\n",
        "tri_start_time = pd.Timestamp('2024-06-04 16:31:37.000')\n",
        "tri_end_time = pd.Timestamp('2024-06-04 16:31:39.750')\n",
        "check_start_time = pd.Timestamp('2024-06-04 16:46:43.500')\n",
        "check_end_time = pd.Timestamp('2024-06-04 16:46:45.000')\n"
      ]
    },
    {
      "cell_type": "code",
      "execution_count": null,
      "metadata": {},
      "outputs": [],
      "source": [
        "data = a_yuuma_motion_data[\n",
        "    (a_yuuma_motion_data['Timestamp'] >= (check_start_time - pd.Timedelta(seconds=5))) &\n",
        "    (a_yuuma_motion_data['Timestamp'] <= (check_end_time + pd.Timedelta(seconds=5)))\n",
        "]"
      ]
    },
    {
      "cell_type": "code",
      "execution_count": null,
      "metadata": {},
      "outputs": [],
      "source": [
        "plt.plot(data['GyroX'])\n",
        "plt.plot(data['GyroY'])\n",
        "plt.plot(data['GyroZ'])\n",
        "plt.ylim([-5, 5]) #X軸調整\n",
        "print(len(data))\n",
        "plt.show\n",
        "\n",
        "for i in range(len(c_watabe_cross)):\n",
        "  plt.figure()\n",
        "  plt.plot(c_watabe_cross[i]['GyroX'])\n",
        "  plt.plot(c_watabe_cross[i]['GyroY'])\n",
        "  plt.plot(c_watabe_cross[i]['GyroZ'])\n",
        "  plt.ylim([-5, 5]) #X軸調整\n",
        "\n",
        "  print(len(c_watabe_cross[i]))\n",
        "  plt.show"
      ]
    },
    {
      "cell_type": "code",
      "execution_count": null,
      "metadata": {},
      "outputs": [],
      "source": [
        "a = []\n",
        "for i in range(5):\n",
        "  print(len(a_yuuma_check[i]))\n",
        "  a.append(len(a_yuuma_check[i]))\n",
        "sum(a)/5"
      ]
    },
    {
      "cell_type": "code",
      "execution_count": null,
      "metadata": {},
      "outputs": [],
      "source": [
        "circle_start_time = pd.Timestamp('2024-06-06 13:44:14.000')\n",
        "circle_end_time = pd.Timestamp('2024-06-06 13:44:16.500')\n",
        "cross_start_time = pd.Timestamp('2024-06-06 13:54:44.000')\n",
        "cross_end_time = pd.Timestamp('2024-06-06 13:54:46.500')\n",
        "tri_start_time = pd.Timestamp('2024-06-06 14:14:52.000')\n",
        "tri_end_time = pd.Timestamp('2024-06-06 14:14:54.500')\n",
        "check_start_time = pd.Timestamp('2024-06-06 14:30:23.250')\n",
        "check_end_time = pd.Timestamp('2024-06-06 14:30:24.500')\n",
        "\n",
        "data = d_nakazawa_motion_data[\n",
        "    (d_nakazawa_motion_data['Timestamp'] >= (check_start_time - pd.Timedelta(seconds=5))) &\n",
        "    (d_nakazawa_motion_data['Timestamp'] <= (check_end_time + pd.Timedelta(seconds=5)))\n",
        "]"
      ]
    },
    {
      "cell_type": "code",
      "execution_count": null,
      "metadata": {},
      "outputs": [],
      "source": [
        "train_data = d_nakazawa_motion_data[\n",
        "    (d_nakazawa_motion_data['Timestamp'] >= (check_start_time - pd.Timedelta(seconds=0.2))) &\n",
        "    (d_nakazawa_motion_data['Timestamp'] <= (check_end_time + pd.Timedelta(seconds=0.2)))\n",
        "]"
      ]
    },
    {
      "cell_type": "code",
      "execution_count": null,
      "metadata": {},
      "outputs": [],
      "source": [
        "# データをスケーリングする関数\n",
        "def scale_data(data, scale_factor):\n",
        "    return data * scale_factor\n",
        "\n",
        "def add_noise(data, noise_level=0.1):\n",
        "    noise = np.random.normal(0, noise_level, size=data.shape)\n",
        "    return data + noise\n",
        "\n",
        "\n",
        "train_data['AccelerationX'] = scale_data(train_data['AccelerationX'], 1.08)\n",
        "train_data['AccelerationX'] = add_noise(train_data['AccelerationX'], noise_level=0.055)\n",
        "train_data['GyroX'] = scale_data(train_data['GyroX'], 1.08)\n",
        "train_data['GyroX'] = add_noise(train_data['GyroX'], noise_level=0.055)\n",
        "\n",
        "train_data['AccelerationY'] = scale_data(train_data['AccelerationY'], 1.11)\n",
        "train_data['AccelerationY'] = add_noise(train_data['AccelerationY'], noise_level=0.058)\n",
        "train_data['GyroY'] = scale_data(train_data['GyroY'], 1.11)\n",
        "train_data['GyroY'] = add_noise(train_data['GyroY'], noise_level=0.058)\n",
        "\n",
        "train_data['AccelerationZ'] = scale_data(train_data['AccelerationZ'], 0.99)\n",
        "train_data['AccelerationZ'] = add_noise(train_data['AccelerationZ'], noise_level=0.063)\n",
        "train_data['GyroZ'] = scale_data(train_data['GyroZ'], 0.99)\n",
        "train_data['GyroZ'] = add_noise(train_data['GyroZ'], noise_level=0.063)"
      ]
    },
    {
      "cell_type": "code",
      "execution_count": null,
      "metadata": {},
      "outputs": [],
      "source": [
        "len(train_data)"
      ]
    },
    {
      "cell_type": "code",
      "execution_count": null,
      "metadata": {},
      "outputs": [],
      "source": [
        "d_nakazawa_check[2]['AccelerationX'] = train_data['AccelerationX'].reset_index(drop = True)\n",
        "d_nakazawa_check[2]['AccelerationY'] = train_data['AccelerationY'].reset_index(drop = True)\n",
        "d_nakazawa_check[2]['AccelerationZ'] = train_data['AccelerationZ'].reset_index(drop = True)\n",
        "d_nakazawa_check[2]['GyroX'] = train_data['GyroX'].reset_index(drop = True)\n",
        "d_nakazawa_check[2]['GyroY'] = train_data['GyroY'].reset_index(drop = True)\n",
        "d_nakazawa_check[2]['GyroZ'] = train_data['GyroZ'].reset_index(drop = True)"
      ]
    },
    {
      "cell_type": "code",
      "execution_count": null,
      "metadata": {},
      "outputs": [],
      "source": [
        "d_nakazawa_check[2]"
      ]
    },
    {
      "cell_type": "code",
      "execution_count": null,
      "metadata": {},
      "outputs": [],
      "source": [
        "selected_columns = d_nakazawa_check[2][['UnixTime', 'AccelerationX', 'AccelerationY', 'AccelerationZ', 'GyroX', 'GyroY', 'GyroZ']]  # 'Name'と'Age'カラムのみを選択"
      ]
    },
    {
      "cell_type": "code",
      "execution_count": null,
      "metadata": {},
      "outputs": [],
      "source": [
        "selected_columns.to_csv('datasets/nakazawa/train_gesture/check/MotionData_20240811_142113.csv', index=False)"
      ]
    },
    {
      "cell_type": "code",
      "execution_count": null,
      "metadata": {},
      "outputs": [],
      "source": [
        "Th = 2.6\n",
        "Th1 = 10\n",
        "Th2 = 10\n",
        "Th3 = 10\n",
        "min_time = 1\n",
        "max_time = 5"
      ]
    },
    {
      "cell_type": "code",
      "execution_count": null,
      "metadata": {},
      "outputs": [],
      "source": [
        "segx = mr.spring_ogawa(data['AccelerationX'].reset_index(drop = True), train_data['AccelerationX'].reset_index(drop = True), 10)\n",
        "segy = mr.spring_ogawa(data['AccelerationY'].reset_index(drop = True), train_data['AccelerationY'].reset_index(drop = True), 10)\n",
        "segz = mr.spring_ogawa(data['AccelerationZ'].reset_index(drop = True), train_data['AccelerationZ'].reset_index(drop = True), 10)"
      ]
    },
    {
      "cell_type": "code",
      "execution_count": null,
      "metadata": {},
      "outputs": [],
      "source": [
        "segx"
      ]
    },
    {
      "cell_type": "code",
      "execution_count": null,
      "metadata": {},
      "outputs": [],
      "source": [
        "segy"
      ]
    },
    {
      "cell_type": "code",
      "execution_count": null,
      "metadata": {},
      "outputs": [],
      "source": [
        "segz"
      ]
    },
    {
      "cell_type": "code",
      "execution_count": null,
      "metadata": {},
      "outputs": [],
      "source": [
        "data['Timestamp'].reset_index(drop=True)[262]\n",
        "#255~422"
      ]
    },
    {
      "cell_type": "code",
      "execution_count": null,
      "metadata": {},
      "outputs": [],
      "source": [
        "plt.plot(data['AccelerationX'])\n",
        "plt.plot(data['AccelerationY'])\n",
        "plt.plot(data['AccelerationZ'])\n",
        "plt.ylim([-1, 1]) #X軸調整\n",
        "plt.show"
      ]
    },
    {
      "cell_type": "code",
      "execution_count": null,
      "metadata": {},
      "outputs": [],
      "source": [
        "plt.plot(train_data['AccelerationX'])\n",
        "plt.plot(train_data['AccelerationY'])\n",
        "plt.plot(train_data['AccelerationZ'])\n",
        "plt.ylim([-1, 1]) #X軸調整\n",
        "plt.show"
      ]
    },
    {
      "cell_type": "code",
      "execution_count": null,
      "metadata": {},
      "outputs": [],
      "source": [
        "len(data)"
      ]
    },
    {
      "cell_type": "code",
      "execution_count": null,
      "metadata": {},
      "outputs": [],
      "source": [
        "\n",
        "for i in range(len(a_yuuma_cross)):\n",
        "  plt.figure()\n",
        "  plt.plot(a_yuuma_cross[i]['AccelerationX'])\n",
        "  plt.plot(a_yuuma_cross[i]['AccelerationY'])\n",
        "  plt.plot(a_yuuma_cross[i]['AccelerationZ'])\n",
        "  plt.ylim([-1, 1]) #X軸調整\n",
        "\n",
        "  print(len(a_yuuma_cross[i]))\n",
        "  plt.show"
      ]
    },
    {
      "cell_type": "code",
      "execution_count": null,
      "metadata": {},
      "outputs": [],
      "source": [
        "for i in range(len(a_yuuma_cross)):\n",
        "  plt.figure()\n",
        "  plt.plot(a_yuuma_cross[i]['AccelerationX'])\n",
        "  plt.plot(a_yuuma_cross[i]['AccelerationY'])\n",
        "  plt.plot(a_yuuma_cross[i]['AccelerationZ'])\n",
        "  plt.ylim([-1, 1]) #X軸調整\n",
        "\n",
        "  print(len(a_yuuma_cross[i]))\n",
        "  plt.show"
      ]
    },
    {
      "cell_type": "code",
      "execution_count": null,
      "metadata": {},
      "outputs": [],
      "source": [
        "circle_start_time = pd.Timestamp('2024-06-04 16:00:31.500')\n",
        "circle_end_time = pd.Timestamp('2024-06-04 16:00:34.000')\n",
        "cross_start_time = pd.Timestamp('2024-06-04 16:10:56.000')\n",
        "cross_end_time = pd.Timestamp('2024-06-04 16:10:58.000')\n",
        "tri_start_time = pd.Timestamp('2024-06-04 16:31:37.000')\n",
        "tri_end_time = pd.Timestamp('2024-06-04 16:31:39.750')\n",
        "check_start_time = pd.Timestamp('2024-06-04 16:46:43.500')\n",
        "check_end_time = pd.Timestamp('2024-06-04 16:46:45.000')\n",
        "\n",
        "data = a_yuuma_motion_data[\n",
        "    (a_yuuma_motion_data['Timestamp'] >= (check_start_time - pd.Timedelta(seconds=5))) &\n",
        "    (a_yuuma_motion_data['Timestamp'] <= (check_end_time + pd.Timedelta(seconds=5)))\n",
        "]"
      ]
    },
    {
      "cell_type": "code",
      "execution_count": null,
      "metadata": {},
      "outputs": [],
      "source": [
        "Th = 2.6\n",
        "Th1 = 3.5\n",
        "Th2 = 3.5\n",
        "Th3 = 3.5\n",
        "min_time = 1\n",
        "max_time = 5"
      ]
    },
    {
      "cell_type": "code",
      "execution_count": null,
      "metadata": {},
      "outputs": [],
      "source": [
        "segx, segy, segz = [], [], []\n",
        "for i in range(len(a_yuuma_tri)):\n",
        "    segx.append(mr.spring_ogawa(data['AccelerationX'].reset_index(drop = True), a_yuuma_tri[i]['AccelerationX'], Th1))\n",
        "    segy.append(mr.spring_ogawa(data['AccelerationY'].reset_index(drop = True), a_yuuma_tri[i]['AccelerationY'], Th2))\n",
        "    segz.append(mr.spring_ogawa(data['AccelerationZ'].reset_index(drop = True), a_yuuma_tri[i]['AccelerationZ'], Th3))"
      ]
    },
    {
      "cell_type": "code",
      "execution_count": null,
      "metadata": {},
      "outputs": [],
      "source": [
        "a_yuuma_cross_1 = mr.process_apple_watch_csv('datasets/yuuma/train_gesture/cross(new)/MotionData_20240721_160867.csv')"
      ]
    },
    {
      "cell_type": "code",
      "execution_count": null,
      "metadata": {},
      "outputs": [],
      "source": [
        "segx, segy, segz = mr.three_axis_spring_ogawa(a_yuuma_motion_data, a_yuuma_cross, 4.5, 4.5, 4.5, 'acc')"
      ]
    },
    {
      "cell_type": "code",
      "execution_count": null,
      "metadata": {},
      "outputs": [],
      "source": [
        "segx"
      ]
    },
    {
      "cell_type": "code",
      "execution_count": null,
      "metadata": {},
      "outputs": [],
      "source": [
        "segy"
      ]
    },
    {
      "cell_type": "code",
      "execution_count": null,
      "metadata": {},
      "outputs": [],
      "source": [
        "segz"
      ]
    },
    {
      "cell_type": "code",
      "execution_count": null,
      "metadata": {},
      "outputs": [],
      "source": [
        "data['Timestamp'].reset_index(drop=True)[386]\n",
        "#255~422"
      ]
    },
    {
      "cell_type": "code",
      "execution_count": null,
      "metadata": {},
      "outputs": [],
      "source": [
        "min_time = 1\n",
        "max_time = 4"
      ]
    },
    {
      "cell_type": "code",
      "execution_count": null,
      "metadata": {},
      "outputs": [],
      "source": [
        "segx = mr.filter_seg_by_elapsed_time(segx, a_yuuma_motion_data, min_time, max_time)\n",
        "segy = mr.filter_seg_by_elapsed_time(segy, a_yuuma_motion_data, min_time, max_time)\n",
        "segz = mr.filter_seg_by_elapsed_time(segz, a_yuuma_motion_data, min_time, max_time)"
      ]
    },
    {
      "cell_type": "code",
      "execution_count": null,
      "metadata": {},
      "outputs": [],
      "source": [
        "segx"
      ]
    },
    {
      "cell_type": "code",
      "execution_count": null,
      "metadata": {},
      "outputs": [],
      "source": [
        "segy"
      ]
    },
    {
      "cell_type": "code",
      "execution_count": null,
      "metadata": {},
      "outputs": [],
      "source": [
        "segz"
      ]
    },
    {
      "cell_type": "code",
      "execution_count": null,
      "metadata": {},
      "outputs": [],
      "source": [
        "# 各教師データの結果ごとにオーバーラップを検出\n",
        "overlap = []\n",
        "for i in range(len(segx)):\n",
        "    overlap.append(mr.combine_and_find_overlapping_filtered_segments(segx[i], segy[i], segz[i]))"
      ]
    },
    {
      "cell_type": "code",
      "execution_count": null,
      "metadata": {},
      "outputs": [],
      "source": [
        "overlap"
      ]
    },
    {
      "cell_type": "code",
      "execution_count": null,
      "metadata": {},
      "outputs": [],
      "source": [
        "filtered_overlap = mr.filter_overlap_by_elapsed_time(overlap, a_yuuma_motion_data, min_time, max_time)"
      ]
    },
    {
      "cell_type": "code",
      "execution_count": null,
      "metadata": {},
      "outputs": [],
      "source": [
        "filtered_overlap"
      ]
    },
    {
      "cell_type": "code",
      "execution_count": null,
      "metadata": {},
      "outputs": [],
      "source": [
        "combine_overlap = mr.new_combine_all_overlaps(filtered_overlap)"
      ]
    },
    {
      "cell_type": "code",
      "execution_count": null,
      "metadata": {},
      "outputs": [],
      "source": [
        "combine_overlap"
      ]
    },
    {
      "cell_type": "code",
      "execution_count": null,
      "metadata": {},
      "outputs": [],
      "source": [
        "results =  mr.extract_timestamp_from_overlap(a_yuuma_motion_data, combine_overlap)"
      ]
    },
    {
      "cell_type": "code",
      "execution_count": null,
      "metadata": {},
      "outputs": [],
      "source": [
        "results"
      ]
    },
    {
      "cell_type": "code",
      "execution_count": null,
      "metadata": {},
      "outputs": [],
      "source": [
        "min_time"
      ]
    },
    {
      "cell_type": "code",
      "execution_count": null,
      "metadata": {},
      "outputs": [],
      "source": [
        "max_time"
      ]
    },
    {
      "cell_type": "code",
      "execution_count": null,
      "metadata": {},
      "outputs": [],
      "source": [
        "Th1, Th2, Th3"
      ]
    },
    {
      "cell_type": "code",
      "execution_count": null,
      "metadata": {},
      "outputs": [],
      "source": [
        "#  pickleファイルを読み込む\n",
        "with open('/Users/hinase/Downloads/Th-s/d_nakazawa_acc_check_segments4.7new.pkl', 'rb') as f:\n",
        "    data = pickle.load(f)\n",
        "\n",
        "segx = data['d_nakazawa_check_segx']\n",
        "segy = data['d_nakazawa_check_segy']\n",
        "segz = data['d_nakazawa_check_segz']"
      ]
    },
    {
      "cell_type": "code",
      "execution_count": null,
      "metadata": {},
      "outputs": [],
      "source": [
        "min_time = 0.5\n",
        "max_time = 2.5"
      ]
    },
    {
      "cell_type": "code",
      "execution_count": null,
      "metadata": {},
      "outputs": [],
      "source": [
        "filtered_segx = mr.filter_seg_by_elapsed_time(segx, d_nakazawa_motion_data, min_time, max_time)\n",
        "filtered_segy = mr.filter_seg_by_elapsed_time(segy, d_nakazawa_motion_data, min_time, max_time)\n",
        "filtered_segz = mr.filter_seg_by_elapsed_time(segz, d_nakazawa_motion_data, min_time, max_time)"
      ]
    },
    {
      "cell_type": "code",
      "execution_count": null,
      "metadata": {},
      "outputs": [],
      "source": [
        "filtered_segx"
      ]
    },
    {
      "cell_type": "code",
      "execution_count": null,
      "metadata": {},
      "outputs": [],
      "source": [
        "filtered_segy"
      ]
    },
    {
      "cell_type": "code",
      "execution_count": null,
      "metadata": {},
      "outputs": [],
      "source": [
        "filtered_segz"
      ]
    },
    {
      "cell_type": "code",
      "execution_count": null,
      "metadata": {},
      "outputs": [],
      "source": [
        "#フィルタリングされたセグメントを統合\n",
        "def a_combine_and_find_overlapping_filtered_segments(segx, segy, segz):\n",
        "    # Combine all segments\n",
        "    all_segments = []\n",
        "    for seg in [segx, segy, segz]:\n",
        "        for (t_s, t_e) in seg:\n",
        "            all_segments.append((t_s, t_e))\n",
        "\n",
        "    # Sort segments\n",
        "    all_segments.sort()\n",
        "\n",
        "    # Find overlapping segments\n",
        "    overlap_ranges = []\n",
        "    current_overlap = None\n",
        "    current_count = 0\n",
        "\n",
        "    for start, end in all_segments:\n",
        "        if current_overlap is None:\n",
        "            current_overlap = (start, end)\n",
        "            current_count = 1\n",
        "        else:\n",
        "            current_start, current_end = current_overlap\n",
        "            if start <= current_end:\n",
        "                current_overlap = (current_start, max(current_end, end))\n",
        "                current_count += 1\n",
        "            else:\n",
        "                if current_count >= 2:\n",
        "                    overlap_ranges.append(current_overlap)\n",
        "                current_overlap = (start, end)\n",
        "                current_count = 1\n",
        "\n",
        "    if current_count >= 2:\n",
        "        overlap_ranges.append(current_overlap)\n",
        "\n",
        "    return overlap_ranges"
      ]
    },
    {
      "cell_type": "code",
      "execution_count": null,
      "metadata": {},
      "outputs": [],
      "source": [
        "# 各教師データの結果ごとにオーバーラップを検出\n",
        "overlap = []\n",
        "for i in range(len(filtered_segx)):\n",
        "    overlap.append(a_combine_and_find_overlapping_filtered_segments(filtered_segx[i], filtered_segy[i], filtered_segz[i]))"
      ]
    },
    {
      "cell_type": "code",
      "execution_count": null,
      "metadata": {},
      "outputs": [],
      "source": [
        "overlap"
      ]
    },
    {
      "cell_type": "code",
      "execution_count": null,
      "metadata": {},
      "outputs": [],
      "source": [
        "filtered_overlap = mr.filter_overlap_by_elapsed_time(overlap, d_nakazawa_motion_data, min_time, max_time)"
      ]
    },
    {
      "cell_type": "code",
      "execution_count": null,
      "metadata": {},
      "outputs": [],
      "source": [
        "filtered_overlap"
      ]
    },
    {
      "cell_type": "code",
      "execution_count": null,
      "metadata": {},
      "outputs": [],
      "source": [
        "d_nakazawa_combine_overlap = mr.new_combine_all_overlaps(filtered_overlap)"
      ]
    },
    {
      "cell_type": "code",
      "execution_count": null,
      "metadata": {},
      "outputs": [],
      "source": [
        "d_nakazawa_combine_overlap"
      ]
    },
    {
      "cell_type": "code",
      "execution_count": null,
      "metadata": {},
      "outputs": [],
      "source": [
        "d_nakazawa_results =  mr.extract_timestamp_from_overlap(d_nakazawa_motion_data, d_nakazawa_combine_overlap)"
      ]
    },
    {
      "cell_type": "code",
      "execution_count": null,
      "metadata": {},
      "outputs": [],
      "source": [
        "d_nakazawa_results"
      ]
    },
    {
      "cell_type": "code",
      "execution_count": null,
      "metadata": {},
      "outputs": [],
      "source": [
        "d_nakazawa_check_filtered_results = mr.filter_segments_by_time_length(d_nakazawa_results, 1.5, 1.75)"
      ]
    },
    {
      "cell_type": "code",
      "execution_count": null,
      "metadata": {},
      "outputs": [],
      "source": [
        "d_nakazawa_check_filtered_results"
      ]
    },
    {
      "cell_type": "code",
      "execution_count": null,
      "metadata": {},
      "outputs": [],
      "source": [
        "len(d_nakazawa_check_filtered_results)"
      ]
    },
    {
      "cell_type": "code",
      "execution_count": null,
      "metadata": {},
      "outputs": [],
      "source": [
        "a_yuuma_circle_filtered_results\n",
        "a_yuuma_cross_filtered_results\n",
        "a_yuuma_check_filtered_results\n",
        "b_sakamoto_circle_filtered_results\n",
        "b_sakamoto_check_filtered_results\n",
        "c_watabe_circle_filtered_results\n",
        "c_watabe_cross_filtered_results\n",
        "c_watabe_tri_filtered_results\n",
        "c_watabe_check_filtered_results\n",
        "d_nakazawa_circle_filtered_results\n",
        "d_nakazawa_check_filtered_results"
      ]
    },
    {
      "cell_type": "code",
      "execution_count": null,
      "metadata": {},
      "outputs": [],
      "source": [
        "import pickle\n",
        "\n",
        "# 保存する変数を辞書にまとめる\n",
        "data = {\n",
        "    'a_yuuma_circle_filtered_results': a_yuuma_circle_filtered_results,\n",
        "    'a_yuuma_cross_filtered_results': a_yuuma_cross_filtered_results,\n",
        "    #'a_yuuma_tri_filtered_results': a_yuuma_tri_filtered_results,\n",
        "    'a_yuuma_check_filtered_results': a_yuuma_check_filtered_results,\n",
        "    'b_sakamoto_circle_filtered_results': b_sakamoto_circle_filtered_results,\n",
        "    #'b_sakamoto_cross_filtered_results': b_sakamoto_cross_filtered_results,\n",
        "    #'b_sakamoto_tri_filtered_results': b_sakamoto_tri_filtered_results,\n",
        "    'b_sakamoto_check_filtered_results': b_sakamoto_check_filtered_results,\n",
        "    'c_watabe_circle_filtered_results': c_watabe_circle_filtered_results,\n",
        "    'c_watabe_cross_filtered_results': c_watabe_cross_filtered_results,\n",
        "    'c_watabe_tri_filtered_results': c_watabe_tri_filtered_results,\n",
        "    'c_watabe_check_filtered_results': c_watabe_check_filtered_results,\n",
        "    'd_nakazawa_circle_filtered_results': d_nakazawa_circle_filtered_results,\n",
        "    #'d_nakazawa_cross_filtered_results': d_nakazawa_cross_filtered_results,\n",
        "    #'d_nakazawa_tri_filtered_results': d_nakazawa_tri_filtered_results,\n",
        "    'd_nakazawa_check_filtered_results': d_nakazawa_check_filtered_results,\n",
        "\n",
        "}\n",
        "\n",
        "# 変数をpickleファイルに保存\n",
        "with open('filter_results_segments.pkl', 'wb') as f:\n",
        "    pickle.dump(data, f)"
      ]
    },
    {
      "cell_type": "code",
      "execution_count": 193,
      "metadata": {},
      "outputs": [],
      "source": [
        "#  pickleファイルを読み込む\n",
        "with open('filter_results_segments.pkl', 'rb') as f:\n",
        "    data = pickle.load(f)\n",
        "\n",
        "a_yuuma_circle_filtered_results = data['a_yuuma_circle_filtered_results']\n",
        "a_yuuma_cross_filtered_results = data['a_yuuma_cross_filtered_results']\n",
        "a_yuuma_check_filtered_results = data['a_yuuma_check_filtered_results']\n",
        "b_sakamoto_circle_filtered_results = data['b_sakamoto_circle_filtered_results']\n",
        "b_sakamoto_check_filtered_results = data['b_sakamoto_check_filtered_results']\n",
        "c_watabe_circle_filtered_results = data['c_watabe_circle_filtered_results']\n",
        "c_watabe_cross_filtered_results = data['c_watabe_cross_filtered_results']\n",
        "c_watabe_tri_filtered_results = data['c_watabe_tri_filtered_results']\n",
        "c_watabe_check_filtered_results = data['c_watabe_check_filtered_results']\n",
        "d_nakazawa_circle_filtered_results = data['d_nakazawa_circle_filtered_results']\n",
        "d_nakazawa_check_filtered_results = data['d_nakazawa_check_filtered_results']"
      ]
    },
    {
      "cell_type": "code",
      "execution_count": 223,
      "metadata": {},
      "outputs": [
        {
          "data": {
            "text/plain": [
              "[[Timestamp('2024-06-04 16:05:57.447689984'),\n",
              "  Timestamp('2024-06-04 16:05:59.246906112')],\n",
              " [Timestamp('2024-06-04 16:06:33.527065088'),\n",
              "  Timestamp('2024-06-04 16:06:35.206267904')],\n",
              " [Timestamp('2024-06-04 16:10:55.110580992'),\n",
              "  Timestamp('2024-06-04 16:10:57.788923136')]]"
            ]
          },
          "execution_count": 223,
          "metadata": {},
          "output_type": "execute_result"
        }
      ],
      "source": [
        "a_yuuma_cross_filtered_results"
      ]
    },
    {
      "cell_type": "code",
      "execution_count": 224,
      "metadata": {},
      "outputs": [],
      "source": [
        "a_yuuma_extracted_eye_data = mr.extract_eye_data_within_intervals(a_yuuma_cross_filtered_results, a_yuuma_eye_data)"
      ]
    },
    {
      "cell_type": "code",
      "execution_count": 225,
      "metadata": {},
      "outputs": [
        {
          "name": "stdout",
          "output_type": "stream",
          "text": [
            "      Gaze2D   Fixation      Gaze3D     Pupil  GazeDire  PupilPosi\n",
            "0  26.451517  23.198136  112.141796  0.043259  0.019601   0.246866\n",
            "1  43.165919  21.880709  101.169760  0.053301  0.020054   0.170437\n",
            "2  31.307750  22.770013   90.030728  0.046802  0.046244   0.277823\n"
          ]
        }
      ],
      "source": [
        "std_devs = []\n",
        "data = a_yuuma_extracted_eye_data\n",
        "for i in range(len(data)):\n",
        "    #視線2D\n",
        "    diff_x = data[i]['Gaze point X'].interpolate(method='linear').diff()\n",
        "    diff_y = data[i]['Gaze point Y'].interpolate(method='linear').diff()\n",
        "    distance_gaze2d = np.sqrt(diff_x**2 + diff_y**2)  # ユークリッド距離\n",
        "\n",
        "    #固視点\n",
        "    diff_x = data[i]['Fixation point X'].interpolate(method='linear').diff()\n",
        "    diff_y = data[i]['Fixation point Y'].interpolate(method='linear').diff()\n",
        "    distance_fixa = np.sqrt(diff_x**2 + diff_y**2)  # ユークリッド距離\n",
        "\n",
        "    #視線3D\n",
        "    diff_x = data[i]['Gaze point 3D X'].interpolate(method='linear').diff()\n",
        "    diff_y = data[i]['Gaze point 3D Y'].interpolate(method='linear').diff()\n",
        "    diff_z = data[i]['Gaze point 3D Z'].interpolate(method='linear').diff()\n",
        "    distance_gaze3d = np.sqrt(diff_x**2 + diff_y**2 + diff_z**2)  # ユークリッド距離\n",
        "\n",
        "    #瞳孔径変化\n",
        "    diff_r = data[i]['Pupil diameter right'].interpolate(method='linear').diff()\n",
        "    diff_l = data[i]['Pupil diameter left'].interpolate(method='linear').diff()\n",
        "    diff_pupil = (diff_r + diff_l) / 2\n",
        "\n",
        "    #視線方向\n",
        "    rx = data[i]['Gaze direction right X'].interpolate(method='linear').diff()\n",
        "    ry = data[i]['Gaze direction right Y'].interpolate(method='linear').diff()\n",
        "    rz = data[i]['Gaze direction right Z'].interpolate(method='linear').diff()\n",
        "    distance_r = np.sqrt(rx**2 + ry**2 + rz**2)\n",
        "    lx = data[i]['Gaze direction left X'].interpolate(method='linear').diff()\n",
        "    ly = data[i]['Gaze direction left Y'].interpolate(method='linear').diff()\n",
        "    lz = data[i]['Gaze direction left Z'].interpolate(method='linear').diff()\n",
        "    distance_l = np.sqrt(lx**2 + ly**2 + lz**2)\n",
        "    distance_dire = (distance_l + distance_r) / 2\n",
        "\n",
        "    #瞳孔位置\n",
        "    rx = data[i]['Pupil position right X'].interpolate(method='linear').diff()\n",
        "    ry = data[i]['Pupil position right Y'].interpolate(method='linear').diff()\n",
        "    rz = data[i]['Pupil position right Z'].interpolate(method='linear').diff()\n",
        "    distance_r = np.sqrt(rx**2 + ry**2 + rz**2)\n",
        "    lx = data[i]['Pupil position left X'].interpolate(method='linear').diff()\n",
        "    ly = data[i]['Pupil position left Y'].interpolate(method='linear').diff()\n",
        "    lz = data[i]['Pupil position left Z'].interpolate(method='linear').diff()\n",
        "    distance_l = np.sqrt(lx**2 + ly**2 + lz**2)\n",
        "    distance_pupilposi = (distance_r + distance_l) / 2\n",
        "\n",
        "    std_devs.append((distance_gaze2d.std(), distance_fixa.std(), distance_gaze3d.std(), diff_pupil.std(), distance_dire.std(), distance_pupilposi.std()))\n",
        "\n",
        "# 結果を出力\n",
        "std_dev_df = pd.DataFrame(std_devs, columns=['Gaze2D', 'Fixation', 'Gaze3D', 'Pupil', 'GazeDire', 'PupilPosi'])\n",
        "print(std_dev_df)"
      ]
    },
    {
      "cell_type": "code",
      "execution_count": null,
      "metadata": {},
      "outputs": [],
      "source": [
        "#a_yuuma\n",
        "31.357146\t17.128518\t252.933112\t0.035630\t0.019700\t0.188904\n",
        "47.035719\t25.692777\t379.399668\t0.053445\t0.029550\t0.283357"
      ]
    },
    {
      "cell_type": "code",
      "execution_count": null,
      "metadata": {},
      "outputs": [],
      "source": [
        "#c_watabe\n",
        "33.598278\t19.835990\t1128.404414\t0.040697\t0.021167\t0.135077\n",
        "50.397417\t29.753985\t1692.606621\t0.061046\t0.031751\t0.202616"
      ]
    },
    {
      "cell_type": "code",
      "execution_count": null,
      "metadata": {},
      "outputs": [],
      "source": [
        "51.477452\t20.256947\t458.404219\t0.067809\t0.025246\t0.197897\n",
        "77.216178\t30.385420\t687.606328\t0.101713\t0.037868\t0.296846"
      ]
    },
    {
      "cell_type": "code",
      "execution_count": null,
      "metadata": {},
      "outputs": [],
      "source": [
        "41.504050\t23.024699\t1727.433623\t0.064335\t0.027218\t0.126574\n",
        "62.256076\t34.537048\t2591.150434\t0.096502\t0.040827\t0.189861"
      ]
    },
    {
      "cell_type": "code",
      "execution_count": 115,
      "metadata": {},
      "outputs": [],
      "source": [
        "std = pd.concat([std_individual_a, std_individual_b, std_individual_c, std_individual_d])"
      ]
    },
    {
      "cell_type": "code",
      "execution_count": 116,
      "metadata": {},
      "outputs": [],
      "source": [
        "mean = pd.concat([mean_individual_a, mean_individual_b, mean_individual_c, mean_individual_d])"
      ]
    },
    {
      "cell_type": "code",
      "execution_count": 222,
      "metadata": {},
      "outputs": [
        {
          "data": {
            "text/html": [
              "<div>\n",
              "<style scoped>\n",
              "    .dataframe tbody tr th:only-of-type {\n",
              "        vertical-align: middle;\n",
              "    }\n",
              "\n",
              "    .dataframe tbody tr th {\n",
              "        vertical-align: top;\n",
              "    }\n",
              "\n",
              "    .dataframe thead th {\n",
              "        text-align: right;\n",
              "    }\n",
              "</style>\n",
              "<table border=\"1\" class=\"dataframe\">\n",
              "  <thead>\n",
              "    <tr style=\"text-align: right;\">\n",
              "      <th></th>\n",
              "      <th>Gaze2D</th>\n",
              "      <th>Fixation</th>\n",
              "      <th>Gaze3D</th>\n",
              "      <th>Pupil</th>\n",
              "      <th>GazeDire</th>\n",
              "      <th>PupilPosi</th>\n",
              "    </tr>\n",
              "  </thead>\n",
              "  <tbody>\n",
              "    <tr>\n",
              "      <th>0</th>\n",
              "      <td>47.035719</td>\n",
              "      <td>25.692777</td>\n",
              "      <td>379.399668</td>\n",
              "      <td>0.053445</td>\n",
              "      <td>0.029550</td>\n",
              "      <td>0.283357</td>\n",
              "    </tr>\n",
              "    <tr>\n",
              "      <th>0</th>\n",
              "      <td>77.216178</td>\n",
              "      <td>30.385420</td>\n",
              "      <td>687.606328</td>\n",
              "      <td>0.101713</td>\n",
              "      <td>0.037868</td>\n",
              "      <td>0.296846</td>\n",
              "    </tr>\n",
              "    <tr>\n",
              "      <th>0</th>\n",
              "      <td>50.397417</td>\n",
              "      <td>29.753985</td>\n",
              "      <td>1692.606621</td>\n",
              "      <td>0.061046</td>\n",
              "      <td>0.031751</td>\n",
              "      <td>0.202616</td>\n",
              "    </tr>\n",
              "    <tr>\n",
              "      <th>0</th>\n",
              "      <td>62.256076</td>\n",
              "      <td>34.537048</td>\n",
              "      <td>2591.150434</td>\n",
              "      <td>0.096502</td>\n",
              "      <td>0.040827</td>\n",
              "      <td>0.189861</td>\n",
              "    </tr>\n",
              "  </tbody>\n",
              "</table>\n",
              "</div>"
            ],
            "text/plain": [
              "      Gaze2D   Fixation       Gaze3D     Pupil  GazeDire  PupilPosi\n",
              "0  47.035719  25.692777   379.399668  0.053445  0.029550   0.283357\n",
              "0  77.216178  30.385420   687.606328  0.101713  0.037868   0.296846\n",
              "0  50.397417  29.753985  1692.606621  0.061046  0.031751   0.202616\n",
              "0  62.256076  34.537048  2591.150434  0.096502  0.040827   0.189861"
            ]
          },
          "execution_count": 222,
          "metadata": {},
          "output_type": "execute_result"
        }
      ],
      "source": [
        "1.5 * std.drop('Subjects', axis = 1)"
      ]
    },
    {
      "cell_type": "code",
      "execution_count": 142,
      "metadata": {},
      "outputs": [
        {
          "data": {
            "text/html": [
              "<div>\n",
              "<style scoped>\n",
              "    .dataframe tbody tr th:only-of-type {\n",
              "        vertical-align: middle;\n",
              "    }\n",
              "\n",
              "    .dataframe tbody tr th {\n",
              "        vertical-align: top;\n",
              "    }\n",
              "\n",
              "    .dataframe thead th {\n",
              "        text-align: right;\n",
              "    }\n",
              "</style>\n",
              "<table border=\"1\" class=\"dataframe\">\n",
              "  <thead>\n",
              "    <tr style=\"text-align: right;\">\n",
              "      <th></th>\n",
              "      <th>Gaze2D</th>\n",
              "      <th>Fixation</th>\n",
              "      <th>Gaze3D</th>\n",
              "      <th>Pupil</th>\n",
              "      <th>GazeDire</th>\n",
              "      <th>PupilPosi</th>\n",
              "    </tr>\n",
              "  </thead>\n",
              "  <tbody>\n",
              "    <tr>\n",
              "      <th>0</th>\n",
              "      <td>47.633867</td>\n",
              "      <td>22.766478</td>\n",
              "      <td>294.703173</td>\n",
              "      <td>0.035626</td>\n",
              "      <td>0.030478</td>\n",
              "      <td>0.295448</td>\n",
              "    </tr>\n",
              "    <tr>\n",
              "      <th>0</th>\n",
              "      <td>81.457902</td>\n",
              "      <td>29.315471</td>\n",
              "      <td>516.686438</td>\n",
              "      <td>0.067801</td>\n",
              "      <td>0.042397</td>\n",
              "      <td>0.337577</td>\n",
              "    </tr>\n",
              "    <tr>\n",
              "      <th>0</th>\n",
              "      <td>50.971037</td>\n",
              "      <td>26.422673</td>\n",
              "      <td>1252.450929</td>\n",
              "      <td>0.040692</td>\n",
              "      <td>0.032839</td>\n",
              "      <td>0.208719</td>\n",
              "    </tr>\n",
              "    <tr>\n",
              "      <th>0</th>\n",
              "      <td>63.756067</td>\n",
              "      <td>31.389409</td>\n",
              "      <td>1813.956114</td>\n",
              "      <td>0.064332</td>\n",
              "      <td>0.042972</td>\n",
              "      <td>0.204533</td>\n",
              "    </tr>\n",
              "  </tbody>\n",
              "</table>\n",
              "</div>"
            ],
            "text/plain": [
              "      Gaze2D   Fixation       Gaze3D     Pupil  GazeDire  PupilPosi\n",
              "0  47.633867  22.766478   294.703173  0.035626  0.030478   0.295448\n",
              "0  81.457902  29.315471   516.686438  0.067801  0.042397   0.337577\n",
              "0  50.971037  26.422673  1252.450929  0.040692  0.032839   0.208719\n",
              "0  63.756067  31.389409  1813.956114  0.064332  0.042972   0.204533"
            ]
          },
          "execution_count": 142,
          "metadata": {},
          "output_type": "execute_result"
        }
      ],
      "source": [
        "mean.drop('Subjects', axis = 1) + std.drop('Subjects', axis = 1)"
      ]
    },
    {
      "cell_type": "code",
      "execution_count": 114,
      "metadata": {},
      "outputs": [
        {
          "data": {
            "text/html": [
              "<div>\n",
              "<style scoped>\n",
              "    .dataframe tbody tr th:only-of-type {\n",
              "        vertical-align: middle;\n",
              "    }\n",
              "\n",
              "    .dataframe tbody tr th {\n",
              "        vertical-align: top;\n",
              "    }\n",
              "\n",
              "    .dataframe thead th {\n",
              "        text-align: right;\n",
              "    }\n",
              "</style>\n",
              "<table border=\"1\" class=\"dataframe\">\n",
              "  <thead>\n",
              "    <tr style=\"text-align: right;\">\n",
              "      <th></th>\n",
              "      <th>Gaze2D</th>\n",
              "      <th>Fixation</th>\n",
              "      <th>Gaze3D</th>\n",
              "      <th>Pupil</th>\n",
              "      <th>GazeDire</th>\n",
              "      <th>PupilPosi</th>\n",
              "    </tr>\n",
              "  </thead>\n",
              "  <tbody>\n",
              "    <tr>\n",
              "      <th>0</th>\n",
              "      <td>0.598148</td>\n",
              "      <td>-2.926300</td>\n",
              "      <td>-84.696495</td>\n",
              "      <td>-0.017820</td>\n",
              "      <td>0.000929</td>\n",
              "      <td>0.012091</td>\n",
              "    </tr>\n",
              "    <tr>\n",
              "      <th>0</th>\n",
              "      <td>4.241724</td>\n",
              "      <td>-1.069950</td>\n",
              "      <td>-170.919890</td>\n",
              "      <td>-0.033913</td>\n",
              "      <td>0.004529</td>\n",
              "      <td>0.040731</td>\n",
              "    </tr>\n",
              "    <tr>\n",
              "      <th>0</th>\n",
              "      <td>0.573619</td>\n",
              "      <td>-3.331312</td>\n",
              "      <td>-440.155693</td>\n",
              "      <td>-0.020355</td>\n",
              "      <td>0.001088</td>\n",
              "      <td>0.006103</td>\n",
              "    </tr>\n",
              "    <tr>\n",
              "      <th>0</th>\n",
              "      <td>1.499991</td>\n",
              "      <td>-3.147639</td>\n",
              "      <td>-777.194320</td>\n",
              "      <td>-0.032170</td>\n",
              "      <td>0.002145</td>\n",
              "      <td>0.014671</td>\n",
              "    </tr>\n",
              "  </tbody>\n",
              "</table>\n",
              "</div>"
            ],
            "text/plain": [
              "     Gaze2D  Fixation      Gaze3D     Pupil  GazeDire  PupilPosi\n",
              "0  0.598148 -2.926300  -84.696495 -0.017820  0.000929   0.012091\n",
              "0  4.241724 -1.069950 -170.919890 -0.033913  0.004529   0.040731\n",
              "0  0.573619 -3.331312 -440.155693 -0.020355  0.001088   0.006103\n",
              "0  1.499991 -3.147639 -777.194320 -0.032170  0.002145   0.014671"
            ]
          },
          "execution_count": 114,
          "metadata": {},
          "output_type": "execute_result"
        }
      ],
      "source": [
        "mean.drop('Subjects', axis = 1) - 0.5 * std.drop('Subjects', axis = 1)"
      ]
    },
    {
      "cell_type": "code",
      "execution_count": 105,
      "metadata": {},
      "outputs": [
        {
          "data": {
            "text/html": [
              "<div>\n",
              "<style scoped>\n",
              "    .dataframe tbody tr th:only-of-type {\n",
              "        vertical-align: middle;\n",
              "    }\n",
              "\n",
              "    .dataframe tbody tr th {\n",
              "        vertical-align: top;\n",
              "    }\n",
              "\n",
              "    .dataframe thead th {\n",
              "        text-align: right;\n",
              "    }\n",
              "</style>\n",
              "<table border=\"1\" class=\"dataframe\">\n",
              "  <thead>\n",
              "    <tr style=\"text-align: right;\">\n",
              "      <th></th>\n",
              "      <th>Subjects</th>\n",
              "      <th>Gaze2D</th>\n",
              "      <th>Fixation</th>\n",
              "      <th>Gaze3D</th>\n",
              "      <th>Pupil</th>\n",
              "      <th>GazeDire</th>\n",
              "      <th>PupilPosi</th>\n",
              "    </tr>\n",
              "  </thead>\n",
              "  <tbody>\n",
              "    <tr>\n",
              "      <th>0</th>\n",
              "      <td>a_yuumaa_yuuma</td>\n",
              "      <td>47.633867</td>\n",
              "      <td>22.766478</td>\n",
              "      <td>294.703173</td>\n",
              "      <td>0.035626</td>\n",
              "      <td>0.030478</td>\n",
              "      <td>0.295448</td>\n",
              "    </tr>\n",
              "    <tr>\n",
              "      <th>0</th>\n",
              "      <td>b_sakamotob_sakamoto</td>\n",
              "      <td>81.457902</td>\n",
              "      <td>29.315471</td>\n",
              "      <td>516.686438</td>\n",
              "      <td>0.067801</td>\n",
              "      <td>0.042397</td>\n",
              "      <td>0.337577</td>\n",
              "    </tr>\n",
              "    <tr>\n",
              "      <th>0</th>\n",
              "      <td>c_watabec_watabe</td>\n",
              "      <td>50.971037</td>\n",
              "      <td>26.422673</td>\n",
              "      <td>1252.450929</td>\n",
              "      <td>0.040692</td>\n",
              "      <td>0.032839</td>\n",
              "      <td>0.208719</td>\n",
              "    </tr>\n",
              "    <tr>\n",
              "      <th>0</th>\n",
              "      <td>d_nakazawad_nakazawa</td>\n",
              "      <td>63.756067</td>\n",
              "      <td>31.389409</td>\n",
              "      <td>1813.956114</td>\n",
              "      <td>0.064332</td>\n",
              "      <td>0.042972</td>\n",
              "      <td>0.204533</td>\n",
              "    </tr>\n",
              "  </tbody>\n",
              "</table>\n",
              "</div>"
            ],
            "text/plain": [
              "               Subjects     Gaze2D   Fixation       Gaze3D     Pupil   \n",
              "0        a_yuumaa_yuuma  47.633867  22.766478   294.703173  0.035626  \\\n",
              "0  b_sakamotob_sakamoto  81.457902  29.315471   516.686438  0.067801   \n",
              "0      c_watabec_watabe  50.971037  26.422673  1252.450929  0.040692   \n",
              "0  d_nakazawad_nakazawa  63.756067  31.389409  1813.956114  0.064332   \n",
              "\n",
              "   GazeDire  PupilPosi  \n",
              "0  0.030478   0.295448  \n",
              "0  0.042397   0.337577  \n",
              "0  0.032839   0.208719  \n",
              "0  0.042972   0.204533  "
            ]
          },
          "execution_count": 105,
          "metadata": {},
          "output_type": "execute_result"
        }
      ],
      "source": [
        "std + mean"
      ]
    },
    {
      "cell_type": "code",
      "execution_count": null,
      "metadata": {},
      "outputs": [],
      "source": []
    },
    {
      "cell_type": "code",
      "execution_count": 86,
      "metadata": {},
      "outputs": [],
      "source": [
        "std_individual_a = []\n",
        "mean_individual_a = []\n",
        "#視線2D\n",
        "diff_x = a_yuuma_eye_data['Gaze point X'].interpolate(method='linear').diff()\n",
        "diff_y = a_yuuma_eye_data['Gaze point Y'].interpolate(method='linear').diff()\n",
        "distance_gaze2d = np.sqrt(diff_x**2 + diff_y**2)  # ユークリッド距離\n",
        "\n",
        "#固視点\n",
        "diff_x = a_yuuma_eye_data['Fixation point X'].interpolate(method='linear').diff()\n",
        "diff_y = a_yuuma_eye_data['Fixation point Y'].interpolate(method='linear').diff()\n",
        "distance_fixa = np.sqrt(diff_x**2 + diff_y**2)  # ユークリッド距離\n",
        "\n",
        "#視線3D\n",
        "diff_x = a_yuuma_eye_data['Gaze point 3D X'].interpolate(method='linear').diff()\n",
        "diff_y = a_yuuma_eye_data['Gaze point 3D Y'].interpolate(method='linear').diff()\n",
        "diff_z = a_yuuma_eye_data['Gaze point 3D Z'].interpolate(method='linear').diff()\n",
        "distance_gaze3d = np.sqrt(diff_x**2 + diff_y**2 + diff_z**2)  # ユークリッド距離\n",
        "\n",
        "#瞳孔径変化\n",
        "diff_r = a_yuuma_eye_data['Pupil diameter right'].interpolate(method='linear').diff()\n",
        "diff_l = a_yuuma_eye_data['Pupil diameter left'].interpolate(method='linear').diff()\n",
        "diff_pupil = (diff_r + diff_l) / 2\n",
        "\n",
        "#視線方向\n",
        "rx = a_yuuma_eye_data['Gaze direction right X'].interpolate(method='linear').diff()\n",
        "ry = a_yuuma_eye_data['Gaze direction right Y'].interpolate(method='linear').diff()\n",
        "rz = a_yuuma_eye_data['Gaze direction right Z'].interpolate(method='linear').diff()\n",
        "distance_r = np.sqrt(rx**2 + ry**2 + rz**2)\n",
        "lx = a_yuuma_eye_data['Gaze direction left X'].interpolate(method='linear').diff()\n",
        "ly = a_yuuma_eye_data['Gaze direction left Y'].interpolate(method='linear').diff()\n",
        "lz = a_yuuma_eye_data['Gaze direction left Z'].interpolate(method='linear').diff()\n",
        "distance_l = np.sqrt(lx**2 + ly**2 + lz**2)\n",
        "distance_dire = (distance_l + distance_r) / 2\n",
        "\n",
        "#瞳孔位置\n",
        "rx = a_yuuma_eye_data['Pupil position right X'].interpolate(method='linear').diff()\n",
        "ry = a_yuuma_eye_data['Pupil position right Y'].interpolate(method='linear').diff()\n",
        "rz = a_yuuma_eye_data['Pupil position right Z'].interpolate(method='linear').diff()\n",
        "distance_r = np.sqrt(rx**2 + ry**2 + rz**2)\n",
        "lx = a_yuuma_eye_data['Pupil position left X'].interpolate(method='linear').diff()\n",
        "ly = a_yuuma_eye_data['Pupil position left Y'].interpolate(method='linear').diff()\n",
        "lz = a_yuuma_eye_data['Pupil position left Z'].interpolate(method='linear').diff()\n",
        "distance_l = np.sqrt(lx**2 + ly**2 + lz**2)\n",
        "distance_pupilposi = (distance_r + distance_l) / 2\n",
        "\n",
        "std_individual_a.append(('a_yuuma', distance_gaze2d.std(), distance_fixa.std(), distance_gaze3d.std(), diff_pupil.std(), distance_dire.std(), distance_pupilposi.std()))\n",
        "mean_individual_a.append(('a_yuuma', distance_gaze2d.mean(), distance_fixa.mean(), distance_gaze3d.mean(), diff_pupil.mean(), distance_dire.mean(), distance_pupilposi.mean()))\n",
        "\n",
        "# 結果を出力\n",
        "std_individual_a = pd.DataFrame(std_individual_a, columns=['Subjects', 'Gaze2D', 'Fixation', 'Gaze3D', 'Pupil', 'GazeDire', 'PupilPosi'])\n",
        "# 結果を出力\n",
        "mean_individual_a = pd.DataFrame(mean_individual_a, columns=['Subjects', 'Gaze2D', 'Fixation', 'Gaze3D', 'Pupil', 'GazeDire', 'PupilPosi'])"
      ]
    },
    {
      "cell_type": "code",
      "execution_count": 87,
      "metadata": {},
      "outputs": [],
      "source": [
        "std_individual_b = []\n",
        "mean_individual_b = []\n",
        "#視線2D\n",
        "diff_x = b_sakamoto_eye_data['Gaze point X'].interpolate(method='linear').diff()\n",
        "diff_y = b_sakamoto_eye_data['Gaze point Y'].interpolate(method='linear').diff()\n",
        "distance_gaze2d = np.sqrt(diff_x**2 + diff_y**2)  # ユークリッド距離\n",
        "\n",
        "#固視点\n",
        "diff_x = b_sakamoto_eye_data['Fixation point X'].interpolate(method='linear').diff()\n",
        "diff_y = b_sakamoto_eye_data['Fixation point Y'].interpolate(method='linear').diff()\n",
        "distance_fixa = np.sqrt(diff_x**2 + diff_y**2)  # ユークリッド距離\n",
        "\n",
        "#視線3D\n",
        "diff_x = b_sakamoto_eye_data['Gaze point 3D X'].interpolate(method='linear').diff()\n",
        "diff_y = b_sakamoto_eye_data['Gaze point 3D Y'].interpolate(method='linear').diff()\n",
        "diff_z = b_sakamoto_eye_data['Gaze point 3D Z'].interpolate(method='linear').diff()\n",
        "distance_gaze3d = np.sqrt(diff_x**2 + diff_y**2 + diff_z**2)  # ユークリッド距離\n",
        "\n",
        "#瞳孔径変化\n",
        "diff_r = b_sakamoto_eye_data['Pupil diameter right'].interpolate(method='linear').diff()\n",
        "diff_l = b_sakamoto_eye_data['Pupil diameter left'].interpolate(method='linear').diff()\n",
        "diff_pupil = (diff_r + diff_l) / 2\n",
        "\n",
        "#視線方向\n",
        "rx = b_sakamoto_eye_data['Gaze direction right X'].interpolate(method='linear').diff()\n",
        "ry = b_sakamoto_eye_data['Gaze direction right Y'].interpolate(method='linear').diff()\n",
        "rz = b_sakamoto_eye_data['Gaze direction right Z'].interpolate(method='linear').diff()\n",
        "distance_r = np.sqrt(rx**2 + ry**2 + rz**2)\n",
        "lx = b_sakamoto_eye_data['Gaze direction left X'].interpolate(method='linear').diff()\n",
        "ly = b_sakamoto_eye_data['Gaze direction left Y'].interpolate(method='linear').diff()\n",
        "lz = b_sakamoto_eye_data['Gaze direction left Z'].interpolate(method='linear').diff()\n",
        "distance_l = np.sqrt(lx**2 + ly**2 + lz**2)\n",
        "distance_dire = (distance_l + distance_r) / 2\n",
        "\n",
        "#瞳孔位置\n",
        "rx = b_sakamoto_eye_data['Pupil position right X'].interpolate(method='linear').diff()\n",
        "ry = b_sakamoto_eye_data['Pupil position right Y'].interpolate(method='linear').diff()\n",
        "rz = b_sakamoto_eye_data['Pupil position right Z'].interpolate(method='linear').diff()\n",
        "distance_r = np.sqrt(rx**2 + ry**2 + rz**2)\n",
        "lx = b_sakamoto_eye_data['Pupil position left X'].interpolate(method='linear').diff()\n",
        "ly = b_sakamoto_eye_data['Pupil position left Y'].interpolate(method='linear').diff()\n",
        "lz = b_sakamoto_eye_data['Pupil position left Z'].interpolate(method='linear').diff()\n",
        "distance_l = np.sqrt(lx**2 + ly**2 + lz**2)\n",
        "distance_pupilposi = (distance_r + distance_l) / 2\n",
        "\n",
        "std_individual_b.append(('b_sakamoto', distance_gaze2d.std(), distance_fixa.std(), distance_gaze3d.std(), diff_pupil.std(), distance_dire.std(), distance_pupilposi.std()))\n",
        "mean_individual_b.append(('b_sakamoto', distance_gaze2d.mean(), distance_fixa.mean(), distance_gaze3d.mean(), diff_pupil.mean(), distance_dire.mean(), distance_pupilposi.mean()))\n",
        "\n",
        "# 結果を出力\n",
        "std_individual_b = pd.DataFrame(std_individual_b, columns=['Subjects', 'Gaze2D', 'Fixation', 'Gaze3D', 'Pupil', 'GazeDire', 'PupilPosi'])\n",
        "# 結果を出力\n",
        "mean_individual_b = pd.DataFrame(mean_individual_b, columns=['Subjects', 'Gaze2D', 'Fixation', 'Gaze3D', 'Pupil', 'GazeDire', 'PupilPosi'])"
      ]
    },
    {
      "cell_type": "code",
      "execution_count": 88,
      "metadata": {},
      "outputs": [],
      "source": [
        "std_individual_c = []\n",
        "mean_individual_c = []\n",
        "#視線2D\n",
        "diff_x = c_watabe_eye_data['Gaze point X'].interpolate(method='linear').diff()\n",
        "diff_y = c_watabe_eye_data['Gaze point Y'].interpolate(method='linear').diff()\n",
        "distance_gaze2d = np.sqrt(diff_x**2 + diff_y**2)  # ユークリッド距離\n",
        "\n",
        "#固視点\n",
        "diff_x = c_watabe_eye_data['Fixation point X'].interpolate(method='linear').diff()\n",
        "diff_y = c_watabe_eye_data['Fixation point Y'].interpolate(method='linear').diff()\n",
        "distance_fixa = np.sqrt(diff_x**2 + diff_y**2)  # ユークリッド距離\n",
        "\n",
        "#視線3D\n",
        "diff_x = c_watabe_eye_data['Gaze point 3D X'].interpolate(method='linear').diff()\n",
        "diff_y = c_watabe_eye_data['Gaze point 3D Y'].interpolate(method='linear').diff()\n",
        "diff_z = c_watabe_eye_data['Gaze point 3D Z'].interpolate(method='linear').diff()\n",
        "distance_gaze3d = np.sqrt(diff_x**2 + diff_y**2 + diff_z**2)  # ユークリッド距離\n",
        "\n",
        "#瞳孔径変化\n",
        "diff_r = c_watabe_eye_data['Pupil diameter right'].interpolate(method='linear').diff()\n",
        "diff_l = c_watabe_eye_data['Pupil diameter left'].interpolate(method='linear').diff()\n",
        "diff_pupil = (diff_r + diff_l) / 2\n",
        "\n",
        "#視線方向\n",
        "rx = c_watabe_eye_data['Gaze direction right X'].interpolate(method='linear').diff()\n",
        "ry = c_watabe_eye_data['Gaze direction right Y'].interpolate(method='linear').diff()\n",
        "rz = c_watabe_eye_data['Gaze direction right Z'].interpolate(method='linear').diff()\n",
        "distance_r = np.sqrt(rx**2 + ry**2 + rz**2)\n",
        "lx = c_watabe_eye_data['Gaze direction left X'].interpolate(method='linear').diff()\n",
        "ly = c_watabe_eye_data['Gaze direction left Y'].interpolate(method='linear').diff()\n",
        "lz = c_watabe_eye_data['Gaze direction left Z'].interpolate(method='linear').diff()\n",
        "distance_l = np.sqrt(lx**2 + ly**2 + lz**2)\n",
        "distance_dire = (distance_l + distance_r) / 2\n",
        "\n",
        "#瞳孔位置\n",
        "rx = c_watabe_eye_data['Pupil position right X'].interpolate(method='linear').diff()\n",
        "ry = c_watabe_eye_data['Pupil position right Y'].interpolate(method='linear').diff()\n",
        "rz = c_watabe_eye_data['Pupil position right Z'].interpolate(method='linear').diff()\n",
        "distance_r = np.sqrt(rx**2 + ry**2 + rz**2)\n",
        "lx = c_watabe_eye_data['Pupil position left X'].interpolate(method='linear').diff()\n",
        "ly = c_watabe_eye_data['Pupil position left Y'].interpolate(method='linear').diff()\n",
        "lz = c_watabe_eye_data['Pupil position left Z'].interpolate(method='linear').diff()\n",
        "distance_l = np.sqrt(lx**2 + ly**2 + lz**2)\n",
        "distance_pupilposi = (distance_r + distance_l) / 2\n",
        "\n",
        "\n",
        "std_individual_c.append(('c_watabe', distance_gaze2d.std(), distance_fixa.std(), distance_gaze3d.std(), diff_pupil.std(), distance_dire.std(), distance_pupilposi.std()))\n",
        "mean_individual_c.append(('c_watabe', distance_gaze2d.mean(), distance_fixa.mean(), distance_gaze3d.mean(), diff_pupil.mean(), distance_dire.mean(), distance_pupilposi.mean()))\n",
        "\n",
        "# 結果を出力\n",
        "std_individual_c = pd.DataFrame(std_individual_c, columns=['Subjects', 'Gaze2D', 'Fixation', 'Gaze3D', 'Pupil', 'GazeDire', 'PupilPosi'])\n",
        "# 結果を出力\n",
        "mean_individual_c = pd.DataFrame(mean_individual_c, columns=['Subjects', 'Gaze2D', 'Fixation', 'Gaze3D', 'Pupil', 'GazeDire', 'PupilPosi'])"
      ]
    },
    {
      "cell_type": "code",
      "execution_count": 89,
      "metadata": {},
      "outputs": [],
      "source": [
        "std_individual_d = []\n",
        "mean_individual_d = []\n",
        "#視線2D\n",
        "diff_x = d_nakazawa_eye_data['Gaze point X'].interpolate(method='linear').diff()\n",
        "diff_y = d_nakazawa_eye_data['Gaze point Y'].interpolate(method='linear').diff()\n",
        "distance_gaze2d = np.sqrt(diff_x**2 + diff_y**2)  # ユークリッド距離\n",
        "\n",
        "#固視点\n",
        "diff_x = d_nakazawa_eye_data['Fixation point X'].interpolate(method='linear').diff()\n",
        "diff_y = d_nakazawa_eye_data['Fixation point Y'].interpolate(method='linear').diff()\n",
        "distance_fixa = np.sqrt(diff_x**2 + diff_y**2)  # ユークリッド距離\n",
        "\n",
        "#視線3D\n",
        "diff_x = d_nakazawa_eye_data['Gaze point 3D X'].interpolate(method='linear').diff()\n",
        "diff_y = d_nakazawa_eye_data['Gaze point 3D Y'].interpolate(method='linear').diff()\n",
        "diff_z = d_nakazawa_eye_data['Gaze point 3D Z'].interpolate(method='linear').diff()\n",
        "distance_gaze3d = np.sqrt(diff_x**2 + diff_y**2 + diff_z**2)  # ユークリッド距離\n",
        "\n",
        "#瞳孔径変化\n",
        "diff_r = d_nakazawa_eye_data['Pupil diameter right'].interpolate(method='linear').diff()\n",
        "diff_l = d_nakazawa_eye_data['Pupil diameter left'].interpolate(method='linear').diff()\n",
        "diff_pupil = (diff_r + diff_l) / 2\n",
        "\n",
        "#視線方向\n",
        "rx = d_nakazawa_eye_data['Gaze direction right X'].interpolate(method='linear').diff()\n",
        "ry = d_nakazawa_eye_data['Gaze direction right Y'].interpolate(method='linear').diff()\n",
        "rz = d_nakazawa_eye_data['Gaze direction right Z'].interpolate(method='linear').diff()\n",
        "distance_r = np.sqrt(rx**2 + ry**2 + rz**2)\n",
        "lx = d_nakazawa_eye_data['Gaze direction left X'].interpolate(method='linear').diff()\n",
        "ly = d_nakazawa_eye_data['Gaze direction left Y'].interpolate(method='linear').diff()\n",
        "lz = d_nakazawa_eye_data['Gaze direction left Z'].interpolate(method='linear').diff()\n",
        "distance_l = np.sqrt(lx**2 + ly**2 + lz**2)\n",
        "distance_dire = (distance_l + distance_r) / 2\n",
        "\n",
        "#瞳孔位置\n",
        "rx = d_nakazawa_eye_data['Pupil position right X'].interpolate(method='linear').diff()\n",
        "ry = d_nakazawa_eye_data['Pupil position right Y'].interpolate(method='linear').diff()\n",
        "rz = d_nakazawa_eye_data['Pupil position right Z'].interpolate(method='linear').diff()\n",
        "distance_r = np.sqrt(rx**2 + ry**2 + rz**2)\n",
        "lx = d_nakazawa_eye_data['Pupil position left X'].interpolate(method='linear').diff()\n",
        "ly = d_nakazawa_eye_data['Pupil position left Y'].interpolate(method='linear').diff()\n",
        "lz = d_nakazawa_eye_data['Pupil position left Z'].interpolate(method='linear').diff()\n",
        "distance_l = np.sqrt(lx**2 + ly**2 + lz**2)\n",
        "distance_pupilposi = (distance_r + distance_l) / 2\n",
        "\n",
        "std_individual_d.append(('d_nakazawa', distance_gaze2d.std(), distance_fixa.std(), distance_gaze3d.std(), diff_pupil.std(), distance_dire.std(), distance_pupilposi.std()))\n",
        "mean_individual_d.append(('d_nakazawa', distance_gaze2d.mean(), distance_fixa.mean(), distance_gaze3d.mean(), diff_pupil.mean(), distance_dire.mean(), distance_pupilposi.mean()))\n",
        "\n",
        "# 結果を出力\n",
        "std_individual_d = pd.DataFrame(std_individual_d, columns=['Subjects', 'Gaze2D', 'Fixation', 'Gaze3D', 'Pupil', 'GazeDire', 'PupilPosi'])\n",
        "# 結果を出力\n",
        "mean_individual_d = pd.DataFrame(mean_individual_d, columns=['Subjects', 'Gaze2D', 'Fixation', 'Gaze3D', 'Pupil', 'GazeDire', 'PupilPosi'])"
      ]
    },
    {
      "cell_type": "code",
      "execution_count": null,
      "metadata": {},
      "outputs": [],
      "source": []
    },
    {
      "cell_type": "code",
      "execution_count": null,
      "metadata": {},
      "outputs": [],
      "source": []
    },
    {
      "cell_type": "code",
      "execution_count": null,
      "metadata": {},
      "outputs": [],
      "source": []
    },
    {
      "cell_type": "code",
      "execution_count": null,
      "metadata": {},
      "outputs": [],
      "source": [
        "a_yuuma_filtered_extracted_eye_data, a_yuuma_filtered_filtered_results = mr.filter_by_std_gaze(a_yuuma_extracted_eye_data, a_yuuma_filtered_results, 36)"
      ]
    },
    {
      "cell_type": "code",
      "execution_count": null,
      "metadata": {},
      "outputs": [],
      "source": [
        "a_yuuma_filtered_filtered_results"
      ]
    },
    {
      "cell_type": "code",
      "execution_count": null,
      "metadata": {},
      "outputs": [],
      "source": [
        "len(a_yuuma_filtered_filtered_results)"
      ]
    },
    {
      "cell_type": "code",
      "execution_count": null,
      "metadata": {},
      "outputs": [],
      "source": [
        "import matplotlib.pyplot as plt\n",
        "import numpy as np\n",
        "import pandas as pd\n",
        "\n",
        "# a_yuuma_filtered_results に格納されたタイムスタンプの組に基づいてプロット\n",
        "fig, axes = plt.subplots(len(a_yuuma_filtered_results), 1, figsize=(14, 7 * len(a_yuuma_filtered_results)))\n",
        "\n",
        "for i, (start_time, end_time) in enumerate(a_yuuma_filtered_results):\n",
        "    # -5秒から+5秒のデータを取得\n",
        "    data = a_yuuma_eye_data[\n",
        "        (a_yuuma_eye_data['Timestamp'] >= (start_time - pd.Timedelta(seconds=5))) &\n",
        "        (a_yuuma_eye_data['Timestamp'] <= (end_time + pd.Timedelta(seconds=5)))\n",
        "    ]\n",
        "\n",
        "    # 視線移動距離の計算\n",
        "    diff_x = data['Gaze point X'].interpolate(method='linear').diff()\n",
        "    diff_y = data['Gaze point Y'].interpolate(method='linear').diff()\n",
        "    distance = np.sqrt(diff_x**2 + diff_y**2)\n",
        "\n",
        "    # ハイライトされた区間のデータを抽出\n",
        "    highlighted_data = data[(data['Timestamp'] >= start_time) & (data['Timestamp'] <= end_time)]\n",
        "    highlighted_diff_x = highlighted_data['Gaze point X'].interpolate(method='linear').diff()\n",
        "    highlighted_diff_y = highlighted_data['Gaze point Y'].interpolate(method='linear').diff()\n",
        "    highlighted_distance = np.sqrt(highlighted_diff_x**2 + highlighted_diff_y**2)\n",
        "\n",
        "    # プロットの作成\n",
        "    ax = axes[i]\n",
        "    color = 'tab:blue'\n",
        "    ax.set_xlabel('Timestamp')\n",
        "    ax.set_ylabel('Gaze Movement Distance (pixels)', color=color)\n",
        "    ax.plot(data['Timestamp'], distance, label='Gaze Movement Distance', color=color)\n",
        "    ax.tick_params(axis='y', labelcolor=color)\n",
        "\n",
        "    # ハイライトされた区間のデータをプロット\n",
        "    ax.plot(highlighted_data['Timestamp'], highlighted_distance, label='Highlighted Gaze Movement Distance', color='tab:orange')\n",
        "    ax.axvspan(start_time, end_time, color='yellow', alpha=0.3, label='Gesture Performed Segment')\n",
        "\n",
        "    # Y軸の範囲を設定\n",
        "    ax.set_ylim(0, 400)  # 上限と下限を適切な値に設定\n",
        "\n",
        "    # タイトルと凡例\n",
        "    ax.set_title(f'Gaze Movement Distance and Highlighted Segment {i+1}')\n",
        "    ax.legend(loc='upper right')\n",
        "\n",
        "    # グリッドとレイアウト\n",
        "    ax.grid(True)\n",
        "    ax.tick_params(axis='x', rotation=45)\n",
        "\n",
        "fig.tight_layout()\n",
        "\n",
        "# プロットの保存（PNG形式）\n",
        "plt.savefig(\"/Users/hinase/Downloads/a_yuuma_gaze_movement_distance.png\", format='png', bbox_inches='tight')\n",
        "\n",
        "# プロットの表示\n",
        "plt.show()"
      ]
    },
    {
      "cell_type": "code",
      "execution_count": null,
      "metadata": {},
      "outputs": [],
      "source": [
        "len(c_watabe_filtered_filtered_results)"
      ]
    },
    {
      "cell_type": "code",
      "execution_count": null,
      "metadata": {},
      "outputs": [],
      "source": [
        "# Combine all segments from multiple lists into one list\n",
        "combined_segments = []\n",
        "for segments in filtered_overlap:\n",
        "    combined_segments.extend(segments)\n",
        "\n",
        "# Sort combined segments\n",
        "combined_segments.sort()"
      ]
    },
    {
      "cell_type": "code",
      "execution_count": null,
      "metadata": {},
      "outputs": [],
      "source": [
        "combined_segments"
      ]
    },
    {
      "cell_type": "code",
      "execution_count": null,
      "metadata": {},
      "outputs": [],
      "source": [
        "#  pickleファイルを読み込む\n",
        "with open('/Users/hinase/Downloads/Th-s/a_yuuma_acc_circle_segments2.75.pkl', 'rb') as f:\n",
        "    data = pickle.load(f)\n",
        "\n",
        "# 変数を復元する\n",
        "a_yuuma_tri_segx = data['a_yuuma_tri_segx']\n",
        "a_yuuma_tri_segy = data['a_yuuma_tri_segy']\n",
        "a_yuuma_tri_segz = data['a_yuuma_tri_segz']\n",
        "b_sakamoto_tri_segx = data['b_sakamoto_tri_segx']\n",
        "b_sakamoto_tri_segy = data['b_sakamoto_tri_segy']\n",
        "b_sakamoto_tri_segz = data['b_sakamoto_tri_segz']\n",
        "c_watabe_tri_segx = data['c_watabe_tri_segx']\n",
        "c_watabe_tri_segy = data['c_watabe_tri_segy']\n",
        "c_watabe_tri_segz = data['c_watabe_tri_segz']\n",
        "d_nakazawa_tri_segx = data['d_nakazawa_tri_segx']\n",
        "d_nakazawa_tri_segy = data['d_nakazawa_tri_segy']\n",
        "d_nakazawa_tri_segz = data['d_nakazawa_tri_segz']\n",
        "a_yuuma_tri_overlap = mr.overlap_from_three_segments(a_yuuma_tri_segx, a_yuuma_tri_segy, a_yuuma_tri_segz)\n",
        "b_sakamoto_tri_overlap = mr.overlap_from_three_segments(b_sakamoto_tri_segx, b_sakamoto_tri_segy, b_sakamoto_tri_segz)\n",
        "c_watabe_tri_overlap = mr.overlap_from_three_segments(c_watabe_tri_segx, c_watabe_tri_segy, c_watabe_tri_segz)\n",
        "d_nakazawa_tri_overlap = mr.overlap_from_three_segments(d_nakazawa_tri_segx, d_nakazawa_tri_segy, d_nakazawa_tri_segz)\n",
        "# 経過時間のフィルタリングを適用\n",
        "a_yuuma_filtered_overlap = mr.filter_overlap_by_elapsed_time(a_yuuma_tri_overlap, a_yuuma_motion_data, min_time, max_time)\n",
        "b_sakamoto_filtered_overlap = mr.filter_overlap_by_elapsed_time(b_sakamoto_tri_overlap, b_sakamoto_motion_data, min_time, max_time)\n",
        "c_watabe_filtered_overlap = mr.filter_overlap_by_elapsed_time(c_watabe_tri_overlap, c_watabe_motion_data, min_time, max_time)\n",
        "d_nakazawa_filtered_overlap = mr.filter_overlap_by_elapsed_time(d_nakazawa_tri_overlap, d_nakazawa_motion_data, min_time, max_time)\n",
        "# オーバーラップを統合\n",
        "a_yuuma_combine_overlap = mr.combine_all_overlaps(a_yuuma_filtered_overlap)\n",
        "b_sakamoto_combine_overlap = mr.combine_all_overlaps(b_sakamoto_filtered_overlap)\n",
        "c_watabe_combine_overlap = mr.combine_all_overlaps(c_watabe_filtered_overlap)\n",
        "d_nakazawa_combine_overlap = mr.combine_all_overlaps(d_nakazawa_filtered_overlap)\n",
        "# 統合された組からタイムスタンプの組を抽出する\n",
        "a_yuuma_results =  mr.extract_timestamp_from_overlap(a_yuuma_motion_data, a_yuuma_combine_overlap)\n",
        "b_sakamoto_results =  mr.extract_timestamp_from_overlap(b_sakamoto_motion_data, b_sakamoto_combine_overlap)\n",
        "c_watabe_results =  mr.extract_timestamp_from_overlap(c_watabe_motion_data, c_watabe_combine_overlap)\n",
        "d_nakazawa_results =  mr.extract_timestamp_from_overlap(d_nakazawa_motion_data, d_nakazawa_combine_overlap)\n",
        "# 各組の時間の長さが2秒以下と5秒以上のものを弾く\n",
        "a_yuuma_filtered_results = mr.filter_segments_by_time_length(a_yuuma_results, min_time, max_time)\n",
        "b_sakamoto_filtered_results = mr.filter_segments_by_time_length(b_sakamoto_results, min_time, max_time)\n",
        "c_watabe_filtered_results = mr.filter_segments_by_time_length(c_watabe_results, min_time, max_time)\n",
        "d_nakazawa_filtered_results = mr.filter_segments_by_time_length(d_nakazawa_results, min_time, max_time)"
      ]
    },
    {
      "cell_type": "code",
      "execution_count": null,
      "metadata": {},
      "outputs": [],
      "source": [
        "# 区間リストの定義\n",
        "intervals = [\n",
        "    (d_nakazawa_eye_data['Timestamp'].min(), circle_start_time, 'Stretch'),\n",
        "    (circle_start_time, circle_end_time, 'Circle'),\n",
        "    (circle_end_time, cross_start_time, 'Walking'),\n",
        "    (cross_start_time, cross_end_time, 'Cross'),\n",
        "    (cross_end_time, tri_start_time, 'Eating'),\n",
        "    (tri_start_time, tri_end_time, 'Triangle'),\n",
        "    (tri_end_time, check_start_time, 'Game'),\n",
        "    (check_start_time, check_end_time, 'Check'),\n",
        "    (check_end_time, d_nakazawa_eye_data['Timestamp'].max(), 'Desk work')\n",
        "]\n",
        "# 結果をカウントする辞書\n",
        "interval_counts = {label: 0 for _, _, label in intervals}\n",
        "a = 0\n",
        "# 各フィルタされた結果の区間をカウント\n",
        "for start, end in d_nakazawa_filtered_results:\n",
        "    for interval_start, interval_end, label in intervals:\n",
        "        if (interval_start <= start <= interval_end) or (interval_start <= end <= interval_end):\n",
        "            interval_counts[label] += 1\n",
        "            a+=1\n",
        "            break\n",
        "\n",
        "# 結果を表示\n",
        "print(interval_counts)\n",
        "print(a)"
      ]
    },
    {
      "cell_type": "code",
      "execution_count": null,
      "metadata": {},
      "outputs": [],
      "source": [
        "# 結果をカウントする辞書\n",
        "interval_counts = {label: 0 for _, _, label in intervals}\n",
        "\n",
        "a = 0\n",
        "# 各フィルタされた結果の区間をカウント\n",
        "for start, end in d_nakazawa_filtered_results:\n",
        "    for interval_start, interval_end, label in intervals:\n",
        "        if (interval_start <= start <= interval_end) or (interval_start <= end <= interval_end):\n",
        "            interval_counts[label] += 1\n",
        "            a+=1\n",
        "            break\n",
        "\n",
        "# 結果を表示\n",
        "print(interval_counts)\n",
        "print(a)"
      ]
    }
  ],
  "metadata": {
    "accelerator": "TPU",
    "colab": {
      "gpuType": "V28",
      "machine_shape": "hm",
      "provenance": []
    },
    "kernelspec": {
      "display_name": "Python 3",
      "name": "python3"
    },
    "language_info": {
      "codemirror_mode": {
        "name": "ipython",
        "version": 3
      },
      "file_extension": ".py",
      "mimetype": "text/x-python",
      "name": "python",
      "nbconvert_exporter": "python",
      "pygments_lexer": "ipython3",
      "version": "3.11.3"
    }
  },
  "nbformat": 4,
  "nbformat_minor": 0
}
