{
  "cells": [
    {
      "cell_type": "code",
      "execution_count": null,
      "metadata": {
        "colab": {
          "base_uri": "https://localhost:8080/",
          "height": 317
        },
        "id": "VGJb1ScIJE-J",
        "outputId": "b1859492-79da-4727-9515-d68970d783e8"
      },
      "outputs": [],
      "source": [
        "# Google Colabでライブラリをアップロードする\n",
        "from google.colab import files\n",
        "uploaded = files.upload()"
      ]
    },
    {
      "cell_type": "code",
      "execution_count": null,
      "metadata": {
        "colab": {
          "base_uri": "https://localhost:8080/"
        },
        "id": "FI3b2MALJQG9",
        "outputId": "27fe7c7a-733b-41d3-ad50-e6e4b4be0413"
      },
      "outputs": [],
      "source": [
        "# Google Colabでドライブのデータを使う\n",
        "from google.colab import drive\n",
        "drive.mount('/content/drive')"
      ]
    },
    {
      "cell_type": "code",
      "execution_count": null,
      "metadata": {
        "colab": {
          "base_uri": "https://localhost:8080/"
        },
        "id": "5P9aOSopJUiL",
        "outputId": "fcd75319-bbe0-4be5-eb79-e1625a024bb2"
      },
      "outputs": [],
      "source": [
        "# Google Colabでライブラリをインストールする\n",
        "!pip install japanize_matplotlib bottleneck tslearn"
      ]
    },
    {
      "cell_type": "code",
      "execution_count": 1,
      "metadata": {
        "id": "1Lq-ZkyCJJbu"
      },
      "outputs": [
        {
          "name": "stderr",
          "output_type": "stream",
          "text": [
            "2024-06-29 00:30:39.603472: I tensorflow/core/platform/cpu_feature_guard.cc:182] This TensorFlow binary is optimized to use available CPU instructions in performance-critical operations.\n",
            "To enable the following instructions: AVX2 FMA, in other operations, rebuild TensorFlow with the appropriate compiler flags.\n"
          ]
        }
      ],
      "source": [
        "# 自作関数\n",
        "import MasterResearchFunction as mr\n",
        "\n",
        "# 基本ライブラリ\n",
        "import os, re, csv, math, statistics\n",
        "from datetime import datetime, timedelta\n",
        "from decimal import Decimal\n",
        "import pickle\n",
        "\n",
        "# 数値計算とデータ処理\n",
        "import numpy as np\n",
        "import pandas as pd\n",
        "import bottleneck as bn\n",
        "\n",
        "# 機械学習ライブラリ\n",
        "from sklearn import preprocessing\n",
        "from sklearn.preprocessing import LabelEncoder\n",
        "from sklearn.model_selection import train_test_split\n",
        "from sklearn.metrics import accuracy_score\n",
        "\n",
        "# ディープラーニングライブラリ\n",
        "import tensorflow as tf\n",
        "from tensorflow.keras import layers, Sequential\n",
        "from tensorflow.keras.layers import LSTM, Dense, Activation, Conv1D, MaxPooling1D, Flatten\n",
        "\n",
        "# プロットと可視化\n",
        "import matplotlib.pyplot as plt\n",
        "import matplotlib.dates as mdates\n",
        "import japanize_matplotlib\n",
        "\n",
        "# その他のライブラリ\n",
        "from scipy import signal, stats\n",
        "from scipy.signal import savgol_filter\n",
        "from scipy.spatial.distance import euclidean\n",
        "from tslearn.metrics import dtw_path\n",
        "from fastdtw import fastdtw"
      ]
    },
    {
      "cell_type": "code",
      "execution_count": 4,
      "metadata": {
        "id": "xSPIQYV9JE-O"
      },
      "outputs": [],
      "source": [
        "#Apple Watchのモーションデータの読み込み\n",
        "a_yuuma_motion_data = mr.process_apple_watch_csv(\"datasets/yuuma/20240604/yuuma_motion.csv\")\n",
        "b_sakamoto_motion_data = mr.process_apple_watch_csv(\"datasets/sakamoto/20240604/sakamoto_motion.csv\")\n",
        "c_watabe_motion_data = mr.process_apple_watch_csv(\"datasets/watabe/20240605/watabe_motion.csv\")\n",
        "d_nakazawa_motion_data = mr.process_apple_watch_csv(\"datasets/nakazawa/20240606/nakazawa_motion.csv\")\n",
        "e_okede_motion_data = mr.process_apple_watch_csv(\"datasets/okeda/20240607/okeda_motion.csv\")\n",
        "# a_yuuma_motion_data = mr.process_apple_watch_csv(\"/content/drive/MyDrive/datasets/yuuma/20240604/yuuma_motion.csv\")\n",
        "# b_sakamoto_motion_data = mr.process_apple_watch_csv(\"/content/drive/MyDrive/datasets/sakamoto/20240604/sakamoto_motion.csv\")\n",
        "# c_watabe_motion_data = mr.process_apple_watch_csv(\"/content/drive/MyDrive/datasets/watabe/20240605/watabe_motion.csv\")\n",
        "# d_nakazawa_motion_data = mr.process_apple_watch_csv(\"/content/drive/MyDrive/datasets/nakazawa/20240606/nakazawa_motion.csv\")\n",
        "# e_okeda_motion_data = mr.process_apple_watch_csv(\"/content/drive/MyDrive/datasets/okeda/20240607/okeda_motion.csv\")"
      ]
    },
    {
      "cell_type": "code",
      "execution_count": 32,
      "metadata": {
        "colab": {
          "base_uri": "https://localhost:8080/"
        },
        "id": "DwuLVlktIfm9",
        "outputId": "b7e9bd79-804e-41c2-eeac-62076767c316"
      },
      "outputs": [
        {
          "name": "stderr",
          "output_type": "stream",
          "text": [
            "/Users/hinase/CodeChord/MasterResearch/MasterResearchFunction.py:109: DtypeWarning: Columns (36) have mixed types. Specify dtype option on import or set low_memory=False.\n",
            "  eye_data = pd.read_csv(file_path, header=0)\n",
            "/Users/hinase/CodeChord/MasterResearch/MasterResearchFunction.py:109: DtypeWarning: Columns (36) have mixed types. Specify dtype option on import or set low_memory=False.\n",
            "  eye_data = pd.read_csv(file_path, header=0)\n",
            "/Users/hinase/CodeChord/MasterResearch/MasterResearchFunction.py:109: DtypeWarning: Columns (36) have mixed types. Specify dtype option on import or set low_memory=False.\n",
            "  eye_data = pd.read_csv(file_path, header=0)\n",
            "/Users/hinase/CodeChord/MasterResearch/MasterResearchFunction.py:109: DtypeWarning: Columns (36) have mixed types. Specify dtype option on import or set low_memory=False.\n",
            "  eye_data = pd.read_csv(file_path, header=0)\n"
          ]
        }
      ],
      "source": [
        "#Tobiiのモーションデータの読み込み\n",
        "a_yuuma_eye_data = mr.process_tobii_csv(\"datasets/yuuma/20240604/yuuma_eye.csv\")\n",
        "b_sakamoto_eye_data = mr.process_tobii_csv(\"datasets/sakamoto/20240604/sakamoto_eye.csv\")\n",
        "c_watabe_eye_data = mr.process_tobii_csv(\"datasets/watabe/20240605/watabe_eye.csv\")\n",
        "d_nakazawa_eye_data = mr.process_tobii_csv(\"datasets/nakazawa/20240606/nakazawa_eye.csv\")\n",
        "e_okeda_eye_data = mr.process_tobii_csv(\"datasets/okeda/20240607/okeda_eye.csv\")\n",
        "# a_yuuma_eye_data = mr.process_tobii_csv(\"/content/drive/MyDrive/datasets/yuuma/20240604/yuuma_eye.csv\")\n",
        "# b_sakamoto_eye_data = mr.process_tobii_csv(\"/content/drive/MyDrive/datasets/sakamoto/20240604/sakamoto_eye.csv\")\n",
        "# c_watabe_eye_data = mr.process_tobii_csv(\"/content/drive/MyDrive/datasets/watabe/20240605/watabe_eye.csv\")\n",
        "# d_nakazawa_eye_data = mr.process_tobii_csv(\"/content/drive/MyDrive/datasets/nakazawa/20240606/nakazawa_eye.csv\")\n",
        "# e_okeda_eye_data = mr.process_tobii_csv(\"/content/drive/MyDrive/datasets/okeda/20240607/okeda_eye.csv\")"
      ]
    },
    {
      "cell_type": "code",
      "execution_count": 5,
      "metadata": {
        "id": "oOEsc9-3fnXT"
      },
      "outputs": [],
      "source": [
        "#a_yuumaくんの教師データ読み込み\n",
        "a_yuuma_check = mr.process_all_apple_watch_csv_in_directory(\"datasets/yuuma/train_gesture/check\")\n",
        "a_yuuma_circle = mr.process_all_apple_watch_csv_in_directory(\"datasets/yuuma/train_gesture/circle\")\n",
        "a_yuuma_cross = mr.process_all_apple_watch_csv_in_directory(\"datasets/yuuma/train_gesture/cross(new)\")\n",
        "a_yuuma_tri = mr.process_all_apple_watch_csv_in_directory(\"datasets/yuuma/train_gesture/tri\")\n",
        "# a_yuuma_check = mr.process_all_apple_watch_csv_in_directory(\"/content/drive/MyDrive/datasets/yuuma/train_gesture/check\")\n",
        "# a_yuuma_circle = mr.process_all_apple_watch_csv_in_directory(\"/content/drive/MyDrive/datasets/yuuma/train_gesture/circle\")\n",
        "# a_yuuma_cross = mr.process_all_apple_watch_csv_in_directory(\"/content/drive/MyDrive/datasets/yuuma/train_gesture/cross(new)\")\n",
        "# a_yuuma_tri = mr.process_all_apple_watch_csv_in_directory(\"/content/drive/MyDrive/datasets/yuuma/train_gesture/tri\")"
      ]
    },
    {
      "cell_type": "code",
      "execution_count": null,
      "metadata": {
        "id": "uK2kISJYI71I"
      },
      "outputs": [],
      "source": [
        "#b_sakamotoくんの教師データ読み込み\n",
        "b_sakamoto_check = mr.process_all_apple_watch_csv_in_directory(\"datasets/sakamoto/train_gesture(old)/check\")\n",
        "b_sakamoto_circle = mr.process_all_apple_watch_csv_in_directory(\"datasets/sakamoto/train_gesture(old)/circle\")\n",
        "b_sakamoto_cross = mr.process_all_apple_watch_csv_in_directory(\"datasets/sakamoto/train_gesture(old)/cross\")\n",
        "b_sakamoto_tri = mr.process_all_apple_watch_csv_in_directory(\"datasets/sakamoto/train_gesture(old)/tri\")\n",
        "# b_sakamoto_check = mr.process_all_apple_watch_csv_in_directory(\"/content/drive/MyDrive/datasets/sakamoto/train_gesture(old)/check\")\n",
        "# b_sakamoto_circle = mr.process_all_apple_watch_csv_in_directory(\"/content/drive/MyDrive/datasets/sakamoto/train_gesture(old)/circle\")\n",
        "# b_sakamoto_cross = mr.process_all_apple_watch_csv_in_directory(\"/content/drive/MyDrive/datasets/sakamoto/train_gesture(old)/cross\")\n",
        "# b_sakamoto_tri = mr.process_all_apple_watch_csv_in_directory(\"/content/drive/MyDrive/datasets/sakamoto/train_gesture(old)/tri\")"
      ]
    },
    {
      "cell_type": "code",
      "execution_count": null,
      "metadata": {},
      "outputs": [],
      "source": [
        "#b_sakamotoくんの教師データ読み込み\n",
        "b_sakamoto_check = mr.process_all_apple_watch_csv_in_directory(\"datasets/sakamoto/train_gesture(new)/check\")\n",
        "b_sakamoto_circle = mr.process_all_apple_watch_csv_in_directory(\"datasets/sakamoto/train_gesture(new)/circle\")\n",
        "b_sakamoto_cross = mr.process_all_apple_watch_csv_in_directory(\"datasets/sakamoto/train_gesture(new)/cross\")\n",
        "b_sakamoto_tri = mr.process_all_apple_watch_csv_in_directory(\"datasets/sakamoto/train_gesture(new)/tri\")\n",
        "# b_sakamoto_check = mr.process_all_apple_watch_csv_in_directory(\"/content/drive/MyDrive/datasets/sakamoto/train_gesture(new)/check\")\n",
        "# b_sakamoto_circle = mr.process_all_apple_watch_csv_in_directory(\"/content/drive/MyDrive/datasets/sakamoto/train_gesture(new)/circle\")\n",
        "# b_sakamoto_cross = mr.process_all_apple_watch_csv_in_directory(\"/content/drive/MyDrive/datasets/sakamoto/train_gesture(new)/cross\")\n",
        "# b_sakamoto_tri = mr.process_all_apple_watch_csv_in_directory(\"/content/drive/MyDrive/datasets/sakamoto/train_gesture(new)/tri\")"
      ]
    },
    {
      "cell_type": "code",
      "execution_count": null,
      "metadata": {
        "id": "diEoQTluAkuW"
      },
      "outputs": [],
      "source": [
        "#c_watabeくんの教師データ読み込み\n",
        "c_watabe_check = mr.process_all_apple_watch_csv_in_directory(\"datasets/watabe/train_gesture/check\")\n",
        "c_watabe_circle = mr.process_all_apple_watch_csv_in_directory(\"datasets/watabe/train_gesture/circle\")\n",
        "c_watabe_cross = mr.process_all_apple_watch_csv_in_directory(\"datasets/watabe/train_gesture/cross\")\n",
        "c_watabe_tri = mr.process_all_apple_watch_csv_in_directory(\"datasets/watabe/train_gesture/tri\")\n",
        "# c_watabe_check = mr.process_all_apple_watch_csv_in_directory(\"/content/drive/MyDrive/datasets/watabe/train_gesture/check\")\n",
        "# c_watabe_circle = mr.process_all_apple_watch_csv_in_directory(\"/content/drive/MyDrive/datasets/watabe/train_gesture/circle\")\n",
        "# c_watabe_cross = mr.process_all_apple_watch_csv_in_directory(\"/content/drive/MyDrive/datasets/watabe/train_gesture/cross\")\n",
        "# c_watabe_tri = mr.process_all_apple_watch_csv_in_directory(\"/content/drive/MyDrive/datasets/watabe/train_gesture/tri\")"
      ]
    },
    {
      "cell_type": "code",
      "execution_count": null,
      "metadata": {
        "id": "lE7CC2oFKDi8"
      },
      "outputs": [],
      "source": [
        "#d_nakazawaくんの教師データ読み込み\n",
        "d_nakazawa_check = mr.process_all_apple_watch_csv_in_directory(\"datasets/nakazawa/train_gesture/check\")\n",
        "d_nakazawa_circle = mr.process_all_apple_watch_csv_in_directory(\"datasets/nakazawa/train_gesture/circle\")\n",
        "d_nakazawa_cross = mr.process_all_apple_watch_csv_in_directory(\"datasets/nakazawa/train_gesture/cross\")\n",
        "d_nakazawa_tri = mr.process_all_apple_watch_csv_in_directory(\"datasets/nakazawa/train_gesture/tri\")\n",
        "# d_nakazawa_check = mr.process_all_apple_watch_csv_in_directory(\"/content/drive/MyDrive/datasets/nakazawa/train_gesture/check\")\n",
        "# d_nakazawa_circle = mr.process_all_apple_watch_csv_in_directory(\"/content/drive/MyDrive/datasets/nakazawa/train_gesture/circle\")\n",
        "# d_nakazawa_cross = mr.process_all_apple_watch_csv_in_directory(\"/content/drive/MyDrive/datasets/nakazawa/train_gesture/cross\")\n",
        "# d_nakazawa_tri = mr.process_all_apple_watch_csv_in_directory(\"/content/drive/MyDrive/datasets/nakazawa/train_gesture/tri\")"
      ]
    },
    {
      "cell_type": "code",
      "execution_count": null,
      "metadata": {
        "id": "wrS9POJEKLrV"
      },
      "outputs": [],
      "source": [
        "#e_okedaくんの教師データ読み込み\n",
        "e_okeda_check = mr.process_all_apple_watch_csv_in_directory(\"datasets/okeda/train_gesture/check\")\n",
        "e_okeda_circle = mr.process_all_apple_watch_csv_in_directory(\"datasets/okeda/train_gesture/circle\")\n",
        "e_okeda_cross = mr.process_all_apple_watch_csv_in_directory(\"datasets/okeda/train_gesture/cross\")\n",
        "e_okeda_tri = mr.process_all_apple_watch_csv_in_directory(\"datasets/okeda/train_gesture/tri\")\n",
        "# e_okeda_check = mr.process_all_apple_watch_csv_in_directory(\"/content/drive/MyDrive/datasets/okeda/train_gesture/check\")\n",
        "# e_okeda_circle = mr.process_all_apple_watch_csv_in_directory(\"/content/drive/MyDrive/datasets/okeda/train_gesture/circle\")\n",
        "# e_okeda_cross = mr.process_all_apple_watch_csv_in_directory(\"/content/drive/MyDrive/datasets/okeda/train_gesture/cross\")\n",
        "# e_okeda_tri = mr.process_all_apple_watch_csv_in_directory(\"/content/drive/MyDrive/datasets/okeda/train_gesture/tri\")"
      ]
    },
    {
      "cell_type": "code",
      "execution_count": null,
      "metadata": {},
      "outputs": [],
      "source": [
        "circle_start_time = pd.Timestamp('2024-06-04 18:34:55')\n",
        "circle_end_time = pd.Timestamp('2024-06-04 18:34:59')\n",
        "cross_start_time = pd.Timestamp('2024-06-04 18:45:10')\n",
        "cross_end_time = pd.Timestamp('2024-06-04 18:45:14')\n",
        "tri_start_time = pd.Timestamp('2024-06-04 19:06:48')\n",
        "tri_end_time = pd.Timestamp('2024-06-04 19:06:52')\n",
        "check_start_time = pd.Timestamp('2024-06-04 19:21:52')\n",
        "check_end_time = pd.Timestamp('2024-06-04 19:21:55')\n",
        "\n",
        "gestures = [\n",
        "    (circle_start_time, circle_end_time, \"Circle\"),\n",
        "    (cross_start_time, cross_end_time, \"Cross\"),\n",
        "    (tri_start_time, tri_end_time, \"Triangle\"),\n",
        "    (check_start_time, check_end_time, \"Check\")\n",
        "]\n",
        "\n",
        "data = b_sakamoto_motion_data[\n",
        "    (b_sakamoto_motion_data['Timestamp'] >= (circle_start_time - pd.Timedelta(seconds=5))) &\n",
        "    (b_sakamoto_motion_data['Timestamp'] <= (circle_end_time + pd.Timedelta(seconds=5)))\n",
        "]"
      ]
    },
    {
      "cell_type": "code",
      "execution_count": null,
      "metadata": {},
      "outputs": [],
      "source": [
        "Th = 170"
      ]
    },
    {
      "cell_type": "code",
      "execution_count": null,
      "metadata": {},
      "outputs": [],
      "source": [
        "segx, segy, segz = [], [], []\n",
        "for i in range(len(b_sakamoto_circle)):\n",
        "    segx.append(mr.spring_ogawa(data['GyroX'].reset_index(drop = True), b_sakamoto_circle[i]['GyroX'], Th))\n",
        "    segy.append(mr.spring_ogawa(data['GyroY'].reset_index(drop = True), b_sakamoto_circle[i]['GyroY'], Th))\n",
        "    segz.append(mr.spring_ogawa(data['GyroZ'].reset_index(drop = True), b_sakamoto_circle[i]['GyroZ'], Th))"
      ]
    },
    {
      "cell_type": "code",
      "execution_count": 7,
      "metadata": {},
      "outputs": [],
      "source": [
        "#  pickleファイルを読み込む\n",
        "with open('/Users/hinase/Downloads/a_yuuma_acc_circle_segments4.15.pkl', 'rb') as f:\n",
        "    data = pickle.load(f)\n",
        "\n",
        "segx = data['a_yuuma_circle_segx']\n",
        "segy = data['a_yuuma_circle_segy']\n",
        "segz = data['a_yuuma_circle_segz']"
      ]
    },
    {
      "cell_type": "code",
      "execution_count": 13,
      "metadata": {},
      "outputs": [],
      "source": [
        "filtered_segx = filter_seg_by_elapsed_time(segx, a_yuuma_motion_data, 2, 4)\n",
        "filtered_segy = filter_seg_by_elapsed_time(segy, a_yuuma_motion_data, 2, 4)\n",
        "filtered_segz = filter_seg_by_elapsed_time(segz, a_yuuma_motion_data, 2, 4)"
      ]
    },
    {
      "cell_type": "code",
      "execution_count": 15,
      "metadata": {},
      "outputs": [
        {
          "data": {
            "text/plain": [
              "[[(3264, 3388),\n",
              "  (8759, 8872),\n",
              "  (9809, 9912),\n",
              "  (12958, 13060),\n",
              "  (13452, 13557),\n",
              "  (14904, 15012),\n",
              "  (15263, 15418),\n",
              "  (15528, 15640),\n",
              "  (16395, 16503),\n",
              "  (20881, 20991),\n",
              "  (21865, 22032),\n",
              "  (22269, 22381),\n",
              "  (23650, 23770),\n",
              "  (25061, 25169),\n",
              "  (25967, 26091),\n",
              "  (26546, 26651),\n",
              "  (28286, 28394),\n",
              "  (28717, 28822),\n",
              "  (29444, 29560),\n",
              "  (31993, 32094),\n",
              "  (34745, 34921),\n",
              "  (34962, 35065),\n",
              "  (35922, 36023),\n",
              "  (36299, 36403),\n",
              "  (37339, 37453),\n",
              "  (37492, 37601),\n",
              "  (39387, 39511),\n",
              "  (73248, 73364),\n",
              "  (117652, 117766)],\n",
              " [(8759, 8871),\n",
              "  (9806, 9912),\n",
              "  (13451, 13557),\n",
              "  (14903, 15012),\n",
              "  (18742, 18846),\n",
              "  (20877, 20991),\n",
              "  (21393, 21498),\n",
              "  (21803, 21908),\n",
              "  (23649, 23770),\n",
              "  (25060, 25171),\n",
              "  (25964, 26082),\n",
              "  (26544, 26651),\n",
              "  (27466, 27574),\n",
              "  (28283, 28394),\n",
              "  (28717, 28823),\n",
              "  (28876, 28998),\n",
              "  (29441, 29560),\n",
              "  (31034, 31145),\n",
              "  (33861, 33966),\n",
              "  (34961, 35065),\n",
              "  (35190, 35292),\n",
              "  (35921, 36037),\n",
              "  (36358, 36485),\n",
              "  (37339, 37453),\n",
              "  (37488, 37620),\n",
              "  (39392, 39511),\n",
              "  (73247, 73364)],\n",
              " [(8759, 8871),\n",
              "  (9808, 9914),\n",
              "  (12958, 13061),\n",
              "  (14905, 15011),\n",
              "  (15263, 15385),\n",
              "  (15527, 15630),\n",
              "  (23649, 23770),\n",
              "  (24878, 24997),\n",
              "  (25964, 26082),\n",
              "  (26548, 26651),\n",
              "  (28285, 28387),\n",
              "  (29450, 29560),\n",
              "  (30175, 30292),\n",
              "  (34963, 35065),\n",
              "  (35921, 36034),\n",
              "  (36299, 36402),\n",
              "  (37339, 37446),\n",
              "  (37491, 37601),\n",
              "  (40752, 40887),\n",
              "  (65714, 65868),\n",
              "  (73249, 73364),\n",
              "  (123699, 123884)],\n",
              " [(8759, 8872),\n",
              "  (9806, 9914),\n",
              "  (13452, 13557),\n",
              "  (14905, 15011),\n",
              "  (15114, 15221),\n",
              "  (15263, 15385),\n",
              "  (15526, 15648),\n",
              "  (15900, 16010),\n",
              "  (16393, 16503),\n",
              "  (16536, 16639),\n",
              "  (16670, 16771),\n",
              "  (20878, 20991),\n",
              "  (21392, 21500),\n",
              "  (21806, 21908),\n",
              "  (23491, 23611),\n",
              "  (23649, 23770),\n",
              "  (24877, 24997),\n",
              "  (25061, 25172),\n",
              "  (25402, 25517),\n",
              "  (25964, 26091),\n",
              "  (26548, 26651),\n",
              "  (27468, 27574),\n",
              "  (28285, 28394),\n",
              "  (28717, 28822),\n",
              "  (29441, 29560),\n",
              "  (31034, 31145),\n",
              "  (33477, 33615),\n",
              "  (33927, 34037),\n",
              "  (34963, 35065),\n",
              "  (35534, 35651),\n",
              "  (35986, 36090),\n",
              "  (37009, 37124),\n",
              "  (37339, 37453),\n",
              "  (37490, 37620),\n",
              "  (38640, 38745),\n",
              "  (39393, 39511),\n",
              "  (50464, 50571),\n",
              "  (65729, 65885),\n",
              "  (72683, 72790),\n",
              "  (73249, 73364),\n",
              "  (117651, 117766)],\n",
              " [(8828, 8945),\n",
              "  (14905, 15011),\n",
              "  (15263, 15386),\n",
              "  (15527, 15631),\n",
              "  (16394, 16497),\n",
              "  (21393, 21495),\n",
              "  (21865, 22014),\n",
              "  (22194, 22310),\n",
              "  (23649, 23769),\n",
              "  (25964, 26081),\n",
              "  (26543, 26649),\n",
              "  (28285, 28388),\n",
              "  (28717, 28819),\n",
              "  (28876, 28995),\n",
              "  (29441, 29568),\n",
              "  (30175, 30303),\n",
              "  (31034, 31145),\n",
              "  (31628, 31730),\n",
              "  (33927, 34037),\n",
              "  (34963, 35065),\n",
              "  (35921, 36036),\n",
              "  (36299, 36402),\n",
              "  (37010, 37124),\n",
              "  (37491, 37620),\n",
              "  (38641, 38745),\n",
              "  (39394, 39510),\n",
              "  (73249, 73365),\n",
              "  (118254, 118372)]]"
            ]
          },
          "execution_count": 15,
          "metadata": {},
          "output_type": "execute_result"
        }
      ],
      "source": [
        "filtered_segz"
      ]
    },
    {
      "cell_type": "code",
      "execution_count": null,
      "metadata": {},
      "outputs": [],
      "source": [
        "segx = filter_seg_by_elapsed_time(segx, data.reset_index(drop = True), 2, 4)\n",
        "segy = filter_seg_by_elapsed_time(segy, data.reset_index(drop = True), 2, 4)\n",
        "segz = filter_seg_by_elapsed_time(segz, data.reset_index(drop = True), 2, 4)"
      ]
    },
    {
      "cell_type": "code",
      "execution_count": 17,
      "metadata": {},
      "outputs": [],
      "source": [
        "# 各教師データの結果ごとにオーバーラップを検出\n",
        "overlap = []\n",
        "for i in range(len(filtered_segx)):\n",
        "    overlap.append(mr.combine_and_find_overlapping_filtered_segments(filtered_segx[i], filtered_segy[i], filtered_segz[i]))"
      ]
    },
    {
      "cell_type": "code",
      "execution_count": 19,
      "metadata": {},
      "outputs": [],
      "source": [
        "filtered_overlap = mr.filter_overlap_by_elapsed_time(overlap, a_yuuma_motion_data, 2, 4)"
      ]
    },
    {
      "cell_type": "code",
      "execution_count": 24,
      "metadata": {},
      "outputs": [
        {
          "data": {
            "text/plain": [
              "[[(9808, 9935), (23632, 23770)],\n",
              " [(24806, 24997), (25363, 25517), (38640, 38832), (117632, 117766)],\n",
              " [(23632, 23769), (38641, 38832)]]"
            ]
          },
          "execution_count": 24,
          "metadata": {},
          "output_type": "execute_result"
        }
      ],
      "source": [
        "filtered_overlap"
      ]
    },
    {
      "cell_type": "code",
      "execution_count": null,
      "metadata": {},
      "outputs": [],
      "source": [
        "data['Timestamp'].reset_index(drop = True)[520]"
      ]
    },
    {
      "cell_type": "code",
      "execution_count": 23,
      "metadata": {},
      "outputs": [
        {
          "data": {
            "text/plain": [
              "Timestamp('2024-06-04 16:05:08.295982848')"
            ]
          },
          "execution_count": 23,
          "metadata": {},
          "output_type": "execute_result"
        }
      ],
      "source": [
        "a_yuuma_motion_data['Timestamp'][23632]"
      ]
    },
    {
      "cell_type": "code",
      "execution_count": 26,
      "metadata": {},
      "outputs": [],
      "source": [
        "a_yuuma_combine_overlap = mr.combine_all_overlaps(filtered_overlap)"
      ]
    },
    {
      "cell_type": "code",
      "execution_count": 27,
      "metadata": {},
      "outputs": [
        {
          "data": {
            "text/plain": [
              "[(9808, 9935),\n",
              " (23632, 23770),\n",
              " (24806, 24997),\n",
              " (25363, 25517),\n",
              " (38640, 38832),\n",
              " (117632, 117766)]"
            ]
          },
          "execution_count": 27,
          "metadata": {},
          "output_type": "execute_result"
        }
      ],
      "source": [
        "a_yuuma_combine_overlap"
      ]
    },
    {
      "cell_type": "code",
      "execution_count": 28,
      "metadata": {},
      "outputs": [],
      "source": [
        "a_yuuma_results =  mr.extract_timestamp_from_overlap(a_yuuma_motion_data, a_yuuma_combine_overlap)\n"
      ]
    },
    {
      "cell_type": "code",
      "execution_count": 29,
      "metadata": {},
      "outputs": [
        {
          "data": {
            "text/plain": [
              "[[Timestamp('2024-06-04 16:00:31.973660928'),\n",
              "  Timestamp('2024-06-04 16:00:34.512285952')],\n",
              " [Timestamp('2024-06-04 16:05:08.295982848'),\n",
              "  Timestamp('2024-06-04 16:05:11.054481920')],\n",
              " [Timestamp('2024-06-04 16:05:31.762555136'),\n",
              "  Timestamp('2024-06-04 16:05:35.580347904')],\n",
              " [Timestamp('2024-06-04 16:05:42.896267776'),\n",
              "  Timestamp('2024-06-04 16:05:45.974630144')],\n",
              " [Timestamp('2024-06-04 16:10:08.277480960'),\n",
              "  Timestamp('2024-06-04 16:10:12.115343104')],\n",
              " [Timestamp('2024-06-04 16:46:30.329495040'),\n",
              "  Timestamp('2024-06-04 16:46:33.008007168')]]"
            ]
          },
          "execution_count": 29,
          "metadata": {},
          "output_type": "execute_result"
        }
      ],
      "source": [
        "a_yuuma_results"
      ]
    },
    {
      "cell_type": "code",
      "execution_count": 30,
      "metadata": {},
      "outputs": [],
      "source": [
        "a_yuuma_filtered_results = mr.filter_segments_by_time_length(a_yuuma_results, 2, 4)"
      ]
    },
    {
      "cell_type": "code",
      "execution_count": 33,
      "metadata": {},
      "outputs": [],
      "source": [
        "a_yuuma_extracted_eye_data = mr.extract_eye_data_within_intervals(a_yuuma_filtered_results, a_yuuma_eye_data)"
      ]
    },
    {
      "cell_type": "code",
      "execution_count": 34,
      "metadata": {},
      "outputs": [
        {
          "name": "stdout",
          "output_type": "stream",
          "text": [
            "20.197152747937444 0.047566093699622516 0.04647790804788797\n",
            "28.980274791533372 0.060176911092773115 0.042423431139652044\n",
            "37.13098854623689 0.05964751808281649 0.1206253286067144\n",
            "37.62660385940788 0.04583107958536722 0.09941188444420056\n",
            "38.44841733956389 0.06272030126746692 0.09193915701102873\n",
            "41.62333612604336 0.03637718024289735 0.1022603569784091\n"
          ]
        }
      ],
      "source": [
        "a_yuuma_filtered_extracted_eye_data, a_yuuma_filtered_filtered_results = filter_by_std_gaze(a_yuuma_extracted_eye_data, a_yuuma_filtered_results, 20)"
      ]
    },
    {
      "cell_type": "code",
      "execution_count": null,
      "metadata": {},
      "outputs": [],
      "source": [
        "# Combine all segments from multiple lists into one list\n",
        "combined_segments = []\n",
        "for segments in filtered_overlap:\n",
        "    combined_segments.extend(segments)\n",
        "\n",
        "# Sort combined segments\n",
        "combined_segments.sort()"
      ]
    },
    {
      "cell_type": "code",
      "execution_count": null,
      "metadata": {},
      "outputs": [],
      "source": [
        "combined_segments"
      ]
    },
    {
      "cell_type": "code",
      "execution_count": null,
      "metadata": {},
      "outputs": [],
      "source": [
        "#  pickleファイルを読み込む\n",
        "with open('/Users/hinase/Downloads/gyro_tri_segments25.pkl', 'rb') as f:\n",
        "    data = pickle.load(f)\n",
        "\n",
        "# 変数を復元する\n",
        "a_yuuma_tri_segx = data['a_yuuma_tri_segx']\n",
        "a_yuuma_tri_segy = data['a_yuuma_tri_segy']\n",
        "a_yuuma_tri_segz = data['a_yuuma_tri_segz']\n",
        "b_sakamoto_tri_segx = data['b_sakamoto_tri_segx']\n",
        "b_sakamoto_tri_segy = data['b_sakamoto_tri_segy']\n",
        "b_sakamoto_tri_segz = data['b_sakamoto_tri_segz']\n",
        "c_watabe_tri_segx = data['c_watabe_tri_segx']\n",
        "c_watabe_tri_segy = data['c_watabe_tri_segy']\n",
        "c_watabe_tri_segz = data['c_watabe_tri_segz']\n",
        "d_nakazawa_tri_segx = data['d_nakazawa_tri_segx']\n",
        "d_nakazawa_tri_segy = data['d_nakazawa_tri_segy']\n",
        "d_nakazawa_tri_segz = data['d_nakazawa_tri_segz']\n",
        "a_yuuma_tri_overlap = mr.overlap_from_three_segments(a_yuuma_tri_segx, a_yuuma_tri_segy, a_yuuma_tri_segz)\n",
        "b_sakamoto_tri_overlap = mr.overlap_from_three_segments(b_sakamoto_tri_segx, b_sakamoto_tri_segy, b_sakamoto_tri_segz)\n",
        "c_watabe_tri_overlap = mr.overlap_from_three_segments(c_watabe_tri_segx, c_watabe_tri_segy, c_watabe_tri_segz)\n",
        "d_nakazawa_tri_overlap = mr.overlap_from_three_segments(d_nakazawa_tri_segx, d_nakazawa_tri_segy, d_nakazawa_tri_segz)\n",
        "# 経過時間のフィルタリングを適用\n",
        "a_yuuma_filtered_overlap = mr.filter_overlap_by_elapsed_time(a_yuuma_tri_overlap, a_yuuma_motion_data, min_time, max_time)\n",
        "b_sakamoto_filtered_overlap = mr.filter_overlap_by_elapsed_time(b_sakamoto_tri_overlap, b_sakamoto_motion_data, min_time, max_time)\n",
        "c_watabe_filtered_overlap = mr.filter_overlap_by_elapsed_time(c_watabe_tri_overlap, c_watabe_motion_data, min_time, max_time)\n",
        "d_nakazawa_filtered_overlap = mr.filter_overlap_by_elapsed_time(d_nakazawa_tri_overlap, d_nakazawa_motion_data, min_time, max_time)\n",
        "# オーバーラップを統合\n",
        "a_yuuma_combine_overlap = mr.combine_all_overlaps(a_yuuma_filtered_overlap)\n",
        "b_sakamoto_combine_overlap = mr.combine_all_overlaps(b_sakamoto_filtered_overlap)\n",
        "c_watabe_combine_overlap = mr.combine_all_overlaps(c_watabe_filtered_overlap)\n",
        "d_nakazawa_combine_overlap = mr.combine_all_overlaps(d_nakazawa_filtered_overlap)\n",
        "# 統合された組からタイムスタンプの組を抽出する\n",
        "a_yuuma_results =  mr.extract_timestamp_from_overlap(a_yuuma_motion_data, a_yuuma_combine_overlap)\n",
        "b_sakamoto_results =  mr.extract_timestamp_from_overlap(b_sakamoto_motion_data, b_sakamoto_combine_overlap)\n",
        "c_watabe_results =  mr.extract_timestamp_from_overlap(c_watabe_motion_data, c_watabe_combine_overlap)\n",
        "d_nakazawa_results =  mr.extract_timestamp_from_overlap(d_nakazawa_motion_data, d_nakazawa_combine_overlap)\n",
        "# 各組の時間の長さが2秒以下と5秒以上のものを弾く\n",
        "a_yuuma_filtered_results = mr.filter_segments_by_time_length(a_yuuma_results, min_time, max_time)\n",
        "b_sakamoto_filtered_results = mr.filter_segments_by_time_length(b_sakamoto_results, min_time, max_time)\n",
        "c_watabe_filtered_results = mr.filter_segments_by_time_length(c_watabe_results, min_time, max_time)\n",
        "d_nakazawa_filtered_results = mr.filter_segments_by_time_length(d_nakazawa_results, min_time, max_time)"
      ]
    },
    {
      "cell_type": "code",
      "execution_count": null,
      "metadata": {},
      "outputs": [],
      "source": [
        "# 区間リストの定義\n",
        "intervals = [\n",
        "    (d_nakazawa_eye_data['Timestamp'].min(), circle_start_time, 'Stretch'),\n",
        "    (circle_start_time, circle_end_time, 'Circle'),\n",
        "    (circle_end_time, cross_start_time, 'Walking'),\n",
        "    (cross_start_time, cross_end_time, 'Cross'),\n",
        "    (cross_end_time, tri_start_time, 'Eating'),\n",
        "    (tri_start_time, tri_end_time, 'Triangle'),\n",
        "    (tri_end_time, check_start_time, 'Game'),\n",
        "    (check_start_time, check_end_time, 'Check'),\n",
        "    (check_end_time, d_nakazawa_eye_data['Timestamp'].max(), 'Desk work')\n",
        "]\n",
        "# 結果をカウントする辞書\n",
        "interval_counts = {label: 0 for _, _, label in intervals}\n",
        "a = 0\n",
        "# 各フィルタされた結果の区間をカウント\n",
        "for start, end in d_nakazawa_filtered_results:\n",
        "    for interval_start, interval_end, label in intervals:\n",
        "        if (interval_start <= start <= interval_end) or (interval_start <= end <= interval_end):\n",
        "            interval_counts[label] += 1\n",
        "            a+=1\n",
        "            break\n",
        "\n",
        "# 結果を表示\n",
        "print(interval_counts)\n",
        "print(a)"
      ]
    },
    {
      "cell_type": "code",
      "execution_count": null,
      "metadata": {},
      "outputs": [],
      "source": [
        "# 結果をカウントする辞書\n",
        "interval_counts = {label: 0 for _, _, label in intervals}\n",
        "\n",
        "a = 0\n",
        "# 各フィルタされた結果の区間をカウント\n",
        "for start, end in d_nakazawa_filtered_results:\n",
        "    for interval_start, interval_end, label in intervals:\n",
        "        if (interval_start <= start <= interval_end) or (interval_start <= end <= interval_end):\n",
        "            interval_counts[label] += 1\n",
        "            a+=1\n",
        "            break\n",
        "\n",
        "# 結果を表示\n",
        "print(interval_counts)\n",
        "print(a)"
      ]
    }
  ],
  "metadata": {
    "accelerator": "TPU",
    "colab": {
      "gpuType": "V28",
      "machine_shape": "hm",
      "provenance": []
    },
    "kernelspec": {
      "display_name": "Python 3",
      "name": "python3"
    },
    "language_info": {
      "codemirror_mode": {
        "name": "ipython",
        "version": 3
      },
      "file_extension": ".py",
      "mimetype": "text/x-python",
      "name": "python",
      "nbconvert_exporter": "python",
      "pygments_lexer": "ipython3",
      "version": "3.11.3"
    }
  },
  "nbformat": 4,
  "nbformat_minor": 0
}
