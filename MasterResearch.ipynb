{
 "cells": [
  {
   "cell_type": "code",
   "execution_count": 18,
   "metadata": {},
   "outputs": [],
   "source": [
    "# 基本ライブラリ\n",
    "import os, re, csv, math, statistics\n",
    "from datetime import datetime, timedelta\n",
    "from decimal import Decimal\n",
    "\n",
    "# 数値計算とデータ処理\n",
    "import numpy as np\n",
    "import pandas as pd\n",
    "import bottleneck as bn\n",
    "\n",
    "# 機械学習ライブラリ\n",
    "from sklearn import preprocessing\n",
    "from sklearn.preprocessing import LabelEncoder\n",
    "from sklearn.model_selection import train_test_split\n",
    "from sklearn.metrics import accuracy_score\n",
    "\n",
    "# ディープラーニングライブラリ\n",
    "import tensorflow as tf\n",
    "from tensorflow.keras import layers, Sequential\n",
    "from tensorflow.keras.layers import LSTM, Dense, Activation, Conv1D, MaxPooling1D, Flatten\n",
    "\n",
    "# プロットと可視化\n",
    "import matplotlib.pyplot as plt\n",
    "import matplotlib.dates as mdates\n",
    "import japanize_matplotlib\n",
    "\n",
    "# その他のライブラリ\n",
    "from scipy import signal, stats\n",
    "from tslearn.metrics import dtw_path"
   ]
  },
  {
   "cell_type": "code",
   "execution_count": 19,
   "metadata": {},
   "outputs": [],
   "source": [
    "#Apple Watchからのモーションデータを読み込む関数\n",
    "def process_apple_watch_csv(file_path):\n",
    "    # CSVファイルの読み込み\n",
    "    motion_data = pd.read_csv(file_path, header=0, names=['UnixTime', 'AccelerationX', 'AccelerationY', 'AccelerationZ', 'GyroX', 'GyroY', 'GyroZ'])\n",
    "    # Unixタイムスタンプを日本時間に変換し、タイムゾーン情報を削除して表示する\n",
    "    motion_data['Timestamp'] = pd.to_datetime(motion_data['UnixTime'], unit='s').dt.tz_localize('UTC').dt.tz_convert('Asia/Tokyo').dt.tz_localize(None)\n",
    "    # 加速度のユークリッドノルムを計算してデータフレームに追加\n",
    "    motion_data['EuclideanNorm'] = np.sqrt(motion_data['AccelerationX']**2 + motion_data['AccelerationY']**2 + motion_data['AccelerationZ']**2)\n",
    "    # FFTのサンプル数を取得\n",
    "    N = len(motion_data)\n",
    "    # サンプリングレートを定義 (50Hzとする)\n",
    "    Fs = 50\n",
    "    # FFT解析を行い、3軸加速度のパワースペクトルを計算してデータフレームに追加\n",
    "    for axis in ['AccelerationX', 'AccelerationY', 'AccelerationZ', 'EuclideanNorm']:\n",
    "        accel_fft = np.fft.fft(motion_data[axis])\n",
    "        power_spectrum = np.abs(accel_fft)**2\n",
    "        motion_data[f'PowerSpectrum_{axis}'] = power_spectrum\n",
    "\n",
    "    return motion_data"
   ]
  },
  {
   "cell_type": "code",
   "execution_count": 20,
   "metadata": {},
   "outputs": [],
   "source": [
    "def all_process_apple_watch_csv(directory_path, gesture):\n",
    "    # ディレクトリ内のすべてのCSVファイルを検索\n",
    "    files = [os.path.join(directory_path, f) for f in os.listdir(directory_path) if f.endswith('.csv')]\n",
    "    # 全ファイルのデータを格納するリスト\n",
    "    all_data = []\n",
    "    # 各ファイルを処理\n",
    "    for file_path in files:\n",
    "        # ファイルを読み込み、初期処理を行う\n",
    "        data = process_apple_watch_csv(file_path)\n",
    "        #data = data.loc[:, ['AccelerationX', 'AccelerationY', 'AccelerationZ']]\n",
    "        data = data.loc[:, ['AccelerationX', 'AccelerationY', 'AccelerationZ', 'GyroX', 'GyroY', 'GyroZ']]\n",
    "\n",
    "        # 150行にデータを整形する\n",
    "        for start in range(0, len(data), 150):\n",
    "            segment = data.iloc[start:start + 150]\n",
    "\n",
    "            if len(segment) < 150:\n",
    "                # パディングが必要な場合\n",
    "                padding_length = 150 - len(segment)\n",
    "                padding = pd.DataFrame(np.zeros((padding_length, len(data.columns))), columns=data.columns)\n",
    "                segment = pd.concat([segment, padding], ignore_index=True)\n",
    "            elif len(segment) > 150:\n",
    "                # 150行を超えている場合は最初の150行のみを使用\n",
    "                segment = segment.iloc[:150]\n",
    "\n",
    "            # データを配列に追加\n",
    "            all_data.append(segment)\n",
    "\n",
    "    labels = np.full((len(all_data)), gesture)\n",
    "    # リストをNumPyの3次元配列に変換\n",
    "    return np.array(all_data), labels\n"
   ]
  },
  {
   "cell_type": "code",
   "execution_count": 21,
   "metadata": {},
   "outputs": [],
   "source": [
    "#Tobii Pro Glasses 2からのアイトラッキングデータを読み込む関数\n",
    "def process_tobii_csv(file_path):\n",
    "    # CSVファイルの読み込み\n",
    "    eye_data = pd.read_csv(file_path, header=0)\n",
    "    #タイムスタンプをYYYY-MM-DD HH:MM:SS.fff形式に変換\n",
    "    eye_data['Recording start time'] = pd.to_datetime(eye_data['Recording start time'], format='%H:%M:%S.%f')\n",
    "    eye_data['Recording date'] = pd.to_datetime(eye_data['Recording date'], format='%m/%d/%Y')\n",
    "    eye_data['Recording timestamp'] = pd.to_datetime(eye_data['Recording timestamp'], unit='us')\n",
    "    eye_data['Timestamp'] = eye_data['Recording date'] + pd.to_timedelta(eye_data['Recording start time'].dt.strftime('%H:%M:%S.%f')) + pd.to_timedelta(eye_data['Recording timestamp'].dt.strftime('%H:%M:%S.%f'))\n",
    "\n",
    "    return eye_data[(eye_data['Sensor'] == 'Eye Tracker')].drop(columns=['Recording timestamp', 'Computer timestamp', 'Recording start time UTC', 'Recording duration', 'Recording Fixation filter name', 'Project name', 'Export date', 'Recording name','Recording date', 'Recording date UTC', 'Recording start time', 'Recording media name', 'Recording media width', 'Recording media height', 'Gyro X', 'Gyro Y', 'Gyro Z', 'Accelerometer X', 'Accelerometer Y', 'Accelerometer Z'])"
   ]
  },
  {
   "cell_type": "code",
   "execution_count": 22,
   "metadata": {},
   "outputs": [],
   "source": [
    "def process_watch_and_tobii_data(motion_data, eye_data):\n",
    "    # データをマージ\n",
    "    merged_data = pd.merge(eye_data, motion_data, on=\"Timestamp\", how='outer')\n",
    "    # eye_dataとmotion_dataのタイムスタンプ範囲を取得\n",
    "    start_time = max(eye_data['Timestamp'].min(), motion_data['Timestamp'].min())\n",
    "    end_time = min(eye_data['Timestamp'].max(), motion_data['Timestamp'].max())\n",
    "\n",
    "    # マージ後のデータフレームを調整\n",
    "    filtered_data = merged_data[(merged_data['Timestamp'] >= start_time) & (merged_data['Timestamp'] <= end_time)]\n",
    "\n",
    "    return filtered_data"
   ]
  },
  {
   "cell_type": "code",
   "execution_count": 37,
   "metadata": {},
   "outputs": [],
   "source": [
    "def dist(x, y):\n",
    "    return (x - y)**2\n",
    "\n",
    "def get_min(m0, m1, m2, i, j):\n",
    "    if m0 < m1:\n",
    "        if m0 < m2:\n",
    "            return i - 1, j, m0\n",
    "        else:\n",
    "            return i - 1, j - 1, m2\n",
    "    else:\n",
    "        if m1 < m2:\n",
    "            return i, j - 1, m1\n",
    "        else:\n",
    "            return i - 1, j - 1, m2"
   ]
  },
  {
   "cell_type": "code",
   "execution_count": 38,
   "metadata": {},
   "outputs": [],
   "source": [
    "def spring(x, y, epsilon):\n",
    "    Tx = len(x)\n",
    "    Ty = len(y)\n",
    "\n",
    "    C = np.zeros((Tx, Ty))\n",
    "    B = np.zeros((Tx, Ty, 2), int)\n",
    "    S = np.zeros((Tx, Ty), int)\n",
    "\n",
    "    C[0, 0] = dist(x[0], y[0])\n",
    "\n",
    "    for j in range(1, Ty):\n",
    "        C[0, j] = C[0, j - 1] + dist(x[0], y[j])\n",
    "        B[0, j] = [0, j - 1]\n",
    "        S[0, j] = S[0, j - 1]\n",
    "\n",
    "    for i in range(1, Tx):\n",
    "        C[i, 0] = dist(x[i], y[0])\n",
    "        B[i, 0] = [0, 0]\n",
    "        S[i, 0] = i\n",
    "\n",
    "        for j in range(1, Ty):\n",
    "            pi, pj, m = get_min(C[i - 1, j],\n",
    "                                C[i, j - 1],\n",
    "                                C[i - 1, j - 1],\n",
    "                                i, j)\n",
    "            C[i, j] = dist(x[i], y[j]) + m\n",
    "            B[i, j] = [pi, pj]\n",
    "            S[i, j] = S[pi, pj]\n",
    "\n",
    "        imin = np.argmin(C[:(i+1), -1])\n",
    "        dmin = C[imin, -1]\n",
    "\n",
    "        if dmin > epsilon:\n",
    "            continue\n",
    "\n",
    "        for j in range(1, Ty):\n",
    "            if (C[i,j] < dmin) and (S[i, j] < imin):\n",
    "                break\n",
    "        else:\n",
    "            path = [[imin, Ty - 1]]\n",
    "            temp_i = imin\n",
    "            temp_j = Ty - 1\n",
    "\n",
    "            while (B[temp_i, temp_j][0] != 0 or B[temp_i, temp_j][1] != 0):\n",
    "                path.append(B[temp_i, temp_j])\n",
    "                temp_i, temp_j = B[temp_i, temp_j].astype(int)\n",
    "\n",
    "            C[S <= imin] = 100000000\n",
    "            yield np.array(path), dmin"
   ]
  },
  {
   "cell_type": "code",
   "execution_count": 29,
   "metadata": {},
   "outputs": [],
   "source": [
    "def plot_spring(data_x, data_y, timestamps, epsilon=0.06):\n",
    "    pathes = []\n",
    "    times = []\n",
    "\n",
    "    for path, cost in spring(data_x, data_y, epsilon):\n",
    "        plt.figure(figsize=(36, 6))  # グラフを横長にする\n",
    "\n",
    "        # マッチングパスをプロット\n",
    "        for line in path:\n",
    "            plt.plot([timestamps[line[0]], timestamps[line[1]]], [data_x[line[0]], data_y[line[1]]], linewidth=0.8, c=\"gray\")\n",
    "\n",
    "        # 長いストリームデータと短いパターンデータをプロット\n",
    "        plt.plot(timestamps, data_x, label='long data')\n",
    "        plt.plot(timestamps[:len(data_y)], data_y, label='gesture data')\n",
    "\n",
    "        # マッチングパスの部分をプロット\n",
    "        plt.plot(timestamps[path[:,0]], data_x[path[:,0]], c=\"C2\", label='similar')\n",
    "\n",
    "        plt.grid(True)  # グリッド表示\n",
    "        plt.legend()  # 凡例表示\n",
    "        plt.xticks(rotation=45)  # x軸のラベルを45度回転\n",
    "\n",
    "        plt.show()\n",
    "\n",
    "        times.append(timestamps[path[:,0]])\n",
    "        pathes.append(path)\n",
    "\n",
    "    return pathes, times"
   ]
  },
  {
   "cell_type": "code",
   "execution_count": 44,
   "metadata": {},
   "outputs": [],
   "source": [
    "def plot_spring_3axis(data_x, data_y, timestamps, epsilon=0.07):\n",
    "    results = {}\n",
    "\n",
    "    for axis in ['AccelerationX', 'AccelerationY', 'AccelerationZ']:\n",
    "        print(f'Processing axis: {axis}')\n",
    "        pathes, times = plot_spring(data_x[axis], data_y[axis], timestamps, epsilon)\n",
    "        results[axis] = {'pathes': pathes, 'times': times}\n",
    "\n",
    "    return results"
   ]
  },
  {
   "cell_type": "code",
   "execution_count": 40,
   "metadata": {},
   "outputs": [],
   "source": [
    "kawano_check, labels1 = all_process_apple_watch_csv(\"datasets/kawano/train_gesture/kawano_check\", \"check\")\n",
    "kawano_circle, labels2 = all_process_apple_watch_csv(\"datasets/kawano/train_gesture/kawano_circle\", \"circle\")\n",
    "kawano_cross, labels3 = all_process_apple_watch_csv(\"datasets/kawano/train_gesture/kawano_cross\", \"cross\")\n",
    "kawano_tri, labels4 = all_process_apple_watch_csv(\"datasets/kawano/train_gesture/kawano_tri\", \"tri\")"
   ]
  },
  {
   "cell_type": "code",
   "execution_count": 43,
   "metadata": {},
   "outputs": [],
   "source": [
    "kawano = np.concatenate([kawano_check, kawano_circle, kawano_cross, kawano_tri])\n",
    "label =  np.concatenate([labels1, labels2, labels3, labels4])"
   ]
  },
  {
   "cell_type": "code",
   "execution_count": null,
   "metadata": {},
   "outputs": [],
   "source": [
    "encoder = LabelEncoder()\n",
    "# データをフィットして変換\n",
    "label = encoder.fit_transform(label)"
   ]
  },
  {
   "cell_type": "code",
   "execution_count": null,
   "metadata": {},
   "outputs": [],
   "source": [
    "label"
   ]
  },
  {
   "cell_type": "code",
   "execution_count": null,
   "metadata": {},
   "outputs": [],
   "source": [
    "X_train, X_test, y_train, y_test = train_test_split(kawano, label, test_size=0.2) #random_state=42"
   ]
  },
  {
   "cell_type": "code",
   "execution_count": 40,
   "metadata": {},
   "outputs": [],
   "source": [
    "motion_data20240510 = process_apple_watch_csv(\"datasets/kawano/20240510/MotionData_20240510_151453.csv\")"
   ]
  },
  {
   "cell_type": "code",
   "execution_count": 31,
   "metadata": {},
   "outputs": [],
   "source": [
    "circle = process_apple_watch_csv(\"datasets/kawano/train_gesture/kawano_circle/acceleration_rotationrate_0.02s_20240510173949.csv\")"
   ]
  },
  {
   "cell_type": "code",
   "execution_count": 46,
   "metadata": {},
   "outputs": [
    {
     "data": {
      "image/png": "[encoded data removed]",
      "text/plain": [
       "<Figure size 3600x600 with 1 Axes>"
      ]
     },
     "metadata": {},
     "output_type": "display_data"
    },
    {
     "ename": "KeyboardInterrupt",
     "evalue": "",
     "output_type": "error",
     "traceback": [
      "\u001b[0;31m---------------------------------------------------------------------------\u001b[0m",
      "\u001b[0;31mKeyboardInterrupt\u001b[0m                         Traceback (most recent call last)",
      "Cell \u001b[0;32mIn[46], line 1\u001b[0m\n\u001b[0;32m----> 1\u001b[0m pathes, times \u001b[38;5;241m=\u001b[39m \u001b[43mplot_spring\u001b[49m\u001b[43m(\u001b[49m\u001b[43mmotion_data20240510\u001b[49m\u001b[43m[\u001b[49m\u001b[38;5;124;43m'\u001b[39;49m\u001b[38;5;124;43mEuclideanNorm\u001b[39;49m\u001b[38;5;124;43m'\u001b[39;49m\u001b[43m]\u001b[49m\u001b[43m,\u001b[49m\u001b[43m \u001b[49m\u001b[43mcircle\u001b[49m\u001b[43m[\u001b[49m\u001b[38;5;124;43m'\u001b[39;49m\u001b[38;5;124;43mEuclideanNorm\u001b[39;49m\u001b[38;5;124;43m'\u001b[39;49m\u001b[43m]\u001b[49m\u001b[43m,\u001b[49m\u001b[43m \u001b[49m\u001b[43mmotion_data20240510\u001b[49m\u001b[43m[\u001b[49m\u001b[38;5;124;43m'\u001b[39;49m\u001b[38;5;124;43mTimestamp\u001b[39;49m\u001b[38;5;124;43m'\u001b[39;49m\u001b[43m]\u001b[49m\u001b[43m)\u001b[49m\n",
      "Cell \u001b[0;32mIn[29], line 5\u001b[0m, in \u001b[0;36mplot_spring\u001b[0;34m(data, pattern, timestamps, epsilon)\u001b[0m\n\u001b[1;32m      2\u001b[0m pathes \u001b[38;5;241m=\u001b[39m []\n\u001b[1;32m      3\u001b[0m times \u001b[38;5;241m=\u001b[39m []\n\u001b[0;32m----> 5\u001b[0m \u001b[38;5;28;01mfor\u001b[39;00m path, cost \u001b[38;5;129;01min\u001b[39;00m spring(data, pattern, epsilon):\n\u001b[1;32m      6\u001b[0m     plt\u001b[38;5;241m.\u001b[39mfigure(figsize\u001b[38;5;241m=\u001b[39m(\u001b[38;5;241m36\u001b[39m, \u001b[38;5;241m6\u001b[39m))  \u001b[38;5;66;03m# グラフを横長にする\u001b[39;00m\n\u001b[1;32m      7\u001b[0m     \u001b[38;5;28;01mfor\u001b[39;00m line \u001b[38;5;129;01min\u001b[39;00m path:\n",
      "Cell \u001b[0;32mIn[38], line 22\u001b[0m, in \u001b[0;36mspring\u001b[0;34m(x, y, epsilon)\u001b[0m\n\u001b[1;32m     19\u001b[0m S[i, \u001b[38;5;241m0\u001b[39m] \u001b[38;5;241m=\u001b[39m i\n\u001b[1;32m     21\u001b[0m \u001b[38;5;28;01mfor\u001b[39;00m j \u001b[38;5;129;01min\u001b[39;00m \u001b[38;5;28mrange\u001b[39m(\u001b[38;5;241m1\u001b[39m, Ty):\n\u001b[0;32m---> 22\u001b[0m     pi, pj, m \u001b[38;5;241m=\u001b[39m \u001b[43mget_min\u001b[49m\u001b[43m(\u001b[49m\u001b[43mC\u001b[49m\u001b[43m[\u001b[49m\u001b[43mi\u001b[49m\u001b[43m \u001b[49m\u001b[38;5;241;43m-\u001b[39;49m\u001b[43m \u001b[49m\u001b[38;5;241;43m1\u001b[39;49m\u001b[43m,\u001b[49m\u001b[43m \u001b[49m\u001b[43mj\u001b[49m\u001b[43m]\u001b[49m\u001b[43m,\u001b[49m\n\u001b[1;32m     23\u001b[0m \u001b[43m                        \u001b[49m\u001b[43mC\u001b[49m\u001b[43m[\u001b[49m\u001b[43mi\u001b[49m\u001b[43m,\u001b[49m\u001b[43m \u001b[49m\u001b[43mj\u001b[49m\u001b[43m \u001b[49m\u001b[38;5;241;43m-\u001b[39;49m\u001b[43m \u001b[49m\u001b[38;5;241;43m1\u001b[39;49m\u001b[43m]\u001b[49m\u001b[43m,\u001b[49m\n\u001b[1;32m     24\u001b[0m \u001b[43m                        \u001b[49m\u001b[43mC\u001b[49m\u001b[43m[\u001b[49m\u001b[43mi\u001b[49m\u001b[43m \u001b[49m\u001b[38;5;241;43m-\u001b[39;49m\u001b[43m \u001b[49m\u001b[38;5;241;43m1\u001b[39;49m\u001b[43m,\u001b[49m\u001b[43m \u001b[49m\u001b[43mj\u001b[49m\u001b[43m \u001b[49m\u001b[38;5;241;43m-\u001b[39;49m\u001b[43m \u001b[49m\u001b[38;5;241;43m1\u001b[39;49m\u001b[43m]\u001b[49m\u001b[43m,\u001b[49m\n\u001b[1;32m     25\u001b[0m \u001b[43m                        \u001b[49m\u001b[43mi\u001b[49m\u001b[43m,\u001b[49m\u001b[43m \u001b[49m\u001b[43mj\u001b[49m\u001b[43m)\u001b[49m\n\u001b[1;32m     26\u001b[0m     C[i, j] \u001b[38;5;241m=\u001b[39m dist(x[i], y[j]) \u001b[38;5;241m+\u001b[39m m\n\u001b[1;32m     27\u001b[0m     B[i, j] \u001b[38;5;241m=\u001b[39m [pi, pj]\n",
      "Cell \u001b[0;32mIn[37], line 4\u001b[0m, in \u001b[0;36mget_min\u001b[0;34m(m0, m1, m2, i, j)\u001b[0m\n\u001b[1;32m      1\u001b[0m \u001b[38;5;28;01mdef\u001b[39;00m \u001b[38;5;21mdist\u001b[39m(x, y):\n\u001b[1;32m      2\u001b[0m     \u001b[38;5;28;01mreturn\u001b[39;00m (x \u001b[38;5;241m-\u001b[39m y)\u001b[38;5;241m*\u001b[39m\u001b[38;5;241m*\u001b[39m\u001b[38;5;241m2\u001b[39m\n\u001b[0;32m----> 4\u001b[0m \u001b[38;5;28;01mdef\u001b[39;00m \u001b[38;5;21mget_min\u001b[39m(m0, m1, m2, i, j):\n\u001b[1;32m      5\u001b[0m     \u001b[38;5;28;01mif\u001b[39;00m m0 \u001b[38;5;241m<\u001b[39m m1:\n\u001b[1;32m      6\u001b[0m         \u001b[38;5;28;01mif\u001b[39;00m m0 \u001b[38;5;241m<\u001b[39m m2:\n",
      "\u001b[0;31mKeyboardInterrupt\u001b[0m: "
     ]
    }
   ],
   "source": [
    "pathes, times = plot_spring(motion_data20240510['EuclideanNorm'], circle['EuclideanNorm'], motion_data20240510['Timestamp'])"
   ]
  },
  {
   "cell_type": "code",
   "execution_count": 15,
   "metadata": {},
   "outputs": [
    {
     "data": {
      "text/plain": [
       "[4519   2024-05-10 15:16:24.355884032\n",
       " 4519   2024-05-10 15:16:24.355884032\n",
       " 4519   2024-05-10 15:16:24.355884032\n",
       " 4518   2024-05-10 15:16:24.336016128\n",
       " 4517   2024-05-10 15:16:24.316177920\n",
       "                     ...             \n",
       " 4399   2024-05-10 15:16:21.957144064\n",
       " 4399   2024-05-10 15:16:21.957144064\n",
       " 4399   2024-05-10 15:16:21.957144064\n",
       " 4399   2024-05-10 15:16:21.957144064\n",
       " 4399   2024-05-10 15:16:21.957144064\n",
       " Name: Timestamp, Length: 203, dtype: datetime64[ns],\n",
       " 106065   2024-05-10 15:50:14.170479104\n",
       " 106065   2024-05-10 15:50:14.170479104\n",
       " 106065   2024-05-10 15:50:14.170479104\n",
       " 106065   2024-05-10 15:50:14.170479104\n",
       " 106064   2024-05-10 15:50:14.150525184\n",
       "                       ...             \n",
       " 106031   2024-05-10 15:50:13.490953984\n",
       " 106031   2024-05-10 15:50:13.490953984\n",
       " 106031   2024-05-10 15:50:13.490953984\n",
       " 106031   2024-05-10 15:50:13.490953984\n",
       " 106031   2024-05-10 15:50:13.490953984\n",
       " Name: Timestamp, Length: 155, dtype: datetime64[ns],\n",
       " 110634   2024-05-10 15:51:45.500536832\n",
       " 110634   2024-05-10 15:51:45.500536832\n",
       " 110634   2024-05-10 15:51:45.500536832\n",
       " 110634   2024-05-10 15:51:45.500536832\n",
       " 110633   2024-05-10 15:51:45.480515840\n",
       "                       ...             \n",
       " 110579   2024-05-10 15:51:44.401030912\n",
       " 110579   2024-05-10 15:51:44.401030912\n",
       " 110579   2024-05-10 15:51:44.401030912\n",
       " 110579   2024-05-10 15:51:44.401030912\n",
       " 110579   2024-05-10 15:51:44.401030912\n",
       " Name: Timestamp, Length: 151, dtype: datetime64[ns],\n",
       " 127337   2024-05-10 15:57:19.376710912\n",
       " 127336   2024-05-10 15:57:19.356728064\n",
       " 127335   2024-05-10 15:57:19.336709888\n",
       " 127334   2024-05-10 15:57:19.316712960\n",
       " 127333   2024-05-10 15:57:19.296760064\n",
       "                       ...             \n",
       " 127273   2024-05-10 15:57:18.097393920\n",
       " 127273   2024-05-10 15:57:18.097393920\n",
       " 127273   2024-05-10 15:57:18.097393920\n",
       " 127273   2024-05-10 15:57:18.097393920\n",
       " 127273   2024-05-10 15:57:18.097393920\n",
       " Name: Timestamp, Length: 163, dtype: datetime64[ns],\n",
       " 167149   2024-05-10 16:10:35.173615104\n",
       " 167149   2024-05-10 16:10:35.173615104\n",
       " 167149   2024-05-10 16:10:35.173615104\n",
       " 167148   2024-05-10 16:10:35.153577984\n",
       " 167147   2024-05-10 16:10:35.133605120\n",
       "                       ...             \n",
       " 166998   2024-05-10 16:10:32.155278080\n",
       " 166998   2024-05-10 16:10:32.155278080\n",
       " 166998   2024-05-10 16:10:32.155278080\n",
       " 166998   2024-05-10 16:10:32.155278080\n",
       " 166998   2024-05-10 16:10:32.155278080\n",
       " Name: Timestamp, Length: 250, dtype: datetime64[ns],\n",
       " 178538   2024-05-10 16:14:22.824965120\n",
       " 178537   2024-05-10 16:14:22.804976896\n",
       " 178536   2024-05-10 16:14:22.784998912\n",
       " 178535   2024-05-10 16:14:22.765037056\n",
       " 178534   2024-05-10 16:14:22.745019904\n",
       "                       ...             \n",
       " 178471   2024-05-10 16:14:21.485764864\n",
       " 178471   2024-05-10 16:14:21.485764864\n",
       " 178471   2024-05-10 16:14:21.485764864\n",
       " 178471   2024-05-10 16:14:21.485764864\n",
       " 178471   2024-05-10 16:14:21.485764864\n",
       " Name: Timestamp, Length: 168, dtype: datetime64[ns],\n",
       " 180704   2024-05-10 16:15:06.120340224\n",
       " 180704   2024-05-10 16:15:06.120340224\n",
       " 180704   2024-05-10 16:15:06.120340224\n",
       " 180704   2024-05-10 16:15:06.120340224\n",
       " 180704   2024-05-10 16:15:06.120340224\n",
       "                       ...             \n",
       " 180686   2024-05-10 16:15:05.760695808\n",
       " 180686   2024-05-10 16:15:05.760695808\n",
       " 180686   2024-05-10 16:15:05.760695808\n",
       " 180686   2024-05-10 16:15:05.760695808\n",
       " 180686   2024-05-10 16:15:05.760695808\n",
       " Name: Timestamp, Length: 142, dtype: datetime64[ns]]"
      ]
     },
     "execution_count": 15,
     "metadata": {},
     "output_type": "execute_result"
    }
   ],
   "source": [
    "times"
   ]
  },
  {
   "cell_type": "code",
   "execution_count": 50,
   "metadata": {},
   "outputs": [
    {
     "data": {
      "text/plain": [
       "3.25237124720773"
      ]
     },
     "execution_count": 50,
     "metadata": {},
     "output_type": "execute_result"
    }
   ],
   "source": [
    "motion_data20240510['EuclideanNorm'].max()"
   ]
  },
  {
   "cell_type": "code",
   "execution_count": null,
   "metadata": {},
   "outputs": [],
   "source": [
    "# モデルの定義\n",
    "model = Sequential([\n",
    "    LSTM(32, input_shape=(150, 6)),  # 64ユニットのLSTM層\n",
    "    Dense(4, activation='softmax')  # 出力層（4つのジェスチャクラス）\n",
    "])\n",
    "\n",
    "\n",
    "# モデルのコンパイル\n",
    "model.compile(\n",
    "optimizer='adam',\n",
    "loss='sparse_categorical_crossentropy',\n",
    "metrics=['accuracy']\n",
    ")\n"
   ]
  },
  {
   "cell_type": "code",
   "execution_count": null,
   "metadata": {},
   "outputs": [],
   "source": [
    "model = Sequential([\n",
    "    Conv1D(filters=64, kernel_size=3, activation='relu', input_shape=(150, 6)),\n",
    "    MaxPooling1D(pool_size=2),\n",
    "    Flatten(),\n",
    "    Dense(100, activation='relu'),\n",
    "    Dense(4, activation='softmax')\n",
    "])\n",
    "\n",
    "model.compile(optimizer='adam',\n",
    "              loss='sparse_categorical_crossentropy',\n",
    "              metrics=['accuracy'])"
   ]
  },
  {
   "cell_type": "code",
   "execution_count": null,
   "metadata": {},
   "outputs": [],
   "source": [
    "# モデルの訓練\n",
    "#model.fit(X_train, y_train, epochs=10, batch_size=32)\n",
    "model.fit(X_train, y_train, epochs=10, shuffle=True, batch_size=32, validation_split=0.2)\n",
    "#model.fit(kawano, label, epochs=10, shuffle=True, batch_size=32, validation_split=0.2)\n",
    "\n",
    "#y_pred = model.predict(X_test)\n"
   ]
  },
  {
   "cell_type": "code",
   "execution_count": null,
   "metadata": {},
   "outputs": [],
   "source": [
    "# 最も確率の高いクラスのインデックスを取得\n",
    "predicted_classes = np.argmax(y_pred, axis=1)\n",
    "accuracy_score(y_test, predicted_classes)"
   ]
  },
  {
   "cell_type": "code",
   "execution_count": null,
   "metadata": {},
   "outputs": [],
   "source": [
    "motion_data20240510 = process_apple_watch_csv(\"datasets/kawano/20240510/MotionData_20240510_151453.csv\")\n",
    "eye_data20240510 = process_tobii_csv('datasets/kawano/20240510/kawano Data Export.csv')\n",
    "data20240510 = process_watch_and_tobii_data(motion_data20240510, eye_data20240510)"
   ]
  },
  {
   "cell_type": "code",
   "execution_count": null,
   "metadata": {},
   "outputs": [],
   "source": [
    "eye = process_tobii_csv(\"datasets/kawano/20240510/kawano_one_hour.csv\")"
   ]
  },
  {
   "cell_type": "code",
   "execution_count": null,
   "metadata": {},
   "outputs": [],
   "source": [
    "data20240504"
   ]
  },
  {
   "cell_type": "code",
   "execution_count": null,
   "metadata": {},
   "outputs": [],
   "source": [
    "motion_data = process_apple_watch_csv(\"datasets/kawano/20240510/MotionData_20240510_151453.csv\")"
   ]
  },
  {
   "cell_type": "code",
   "execution_count": null,
   "metadata": {},
   "outputs": [],
   "source": [
    "window_size = 150\n",
    "step_size = 50"
   ]
  },
  {
   "cell_type": "code",
   "execution_count": null,
   "metadata": {},
   "outputs": [],
   "source": [
    "# スライディングウィンドウの適用\n",
    "num_windows = (len(motion_data) - window_size) // step_size + 1\n",
    "windows = [motion_data.iloc[i:i+window_size] for i in range(0, len(motion_data) - window_size + 1, step_size)]\n"
   ]
  },
  {
   "cell_type": "code",
   "execution_count": null,
   "metadata": {},
   "outputs": [],
   "source": [
    "# モデルの予測とタイムスタンプの抽出\n",
    "gesture_intervals = []\n",
    "for window in windows:\n",
    "    # 加速度データの抽出\n",
    "    window_data = window[['AccelerationX',  'AccelerationY', 'AccelerationZ', 'GyroX', 'GyroY', 'GyroZ']].values[None, :, :]\n",
    "    # モデルの予測\n",
    "    prediction = model.predict(window_data)\n",
    "    max_prediction = np.max(prediction)\n",
    "    predicted_class = np.argmax(prediction)\n",
    "\n",
    "    if max_prediction > 0.7:\n",
    "        # タイムスタンプの取得\n",
    "        start_time = window.iloc[0]['Timestamp']\n",
    "        end_time = window.iloc[-1]['Timestamp']\n",
    "        gesture_intervals.append((start_time, end_time, predicted_class, max_prediction))\n",
    "\n",
    "# 結果の表示\n",
    "print(\"Detected gesture intervals with timestamps and confidence:\")\n",
    "for start, end, cls, conf in gesture_intervals:\n",
    "    print(f\"Start: {start}, End: {end}, Class: {cls}, Confidence: {conf:.2f}\")"
   ]
  },
  {
   "cell_type": "code",
   "execution_count": null,
   "metadata": {},
   "outputs": [],
   "source": [
    "num_windows"
   ]
  },
  {
   "cell_type": "code",
   "execution_count": null,
   "metadata": {},
   "outputs": [],
   "source": [
    "motion_data['Timestamp'].diff().sort_values(ascending=0)"
   ]
  },
  {
   "cell_type": "code",
   "execution_count": null,
   "metadata": {},
   "outputs": [],
   "source": [
    "motion_data['Timestamp'].diff().mean()"
   ]
  },
  {
   "cell_type": "code",
   "execution_count": null,
   "metadata": {},
   "outputs": [],
   "source": [
    "base_timestamps = [\n",
    "    [pd.to_datetime('2024-05-04 18:30:00'), '0'],\n",
    "    [pd.to_datetime('2024-05-04 18:31:00'), '1'],\n",
    "    [pd.to_datetime('2024-05-04 18:32:00'), '2'],\n",
    "    [pd.to_datetime('2024-05-04 18:33:00'), '3'],\n",
    "    [pd.to_datetime('2024-05-04 18:34:00'), '5'],\n",
    "    [pd.to_datetime('2024-05-04 18:35:00'), '4'],\n",
    "    [pd.to_datetime('2024-05-04 18:36:00'), '6'],\n",
    "    [pd.to_datetime('2024-05-04 18:37:00'), '7'],\n",
    "    [pd.to_datetime('2024-05-04 18:38:00'), '8'],\n",
    "    [pd.to_datetime('2024-05-04 18:39:00'), '9'],\n",
    "    [pd.to_datetime('2024-05-04 18:44:00'), '0'],\n",
    "    [pd.to_datetime('2024-05-04 18:44:30'), '1'],\n",
    "    [pd.to_datetime('2024-05-04 18:45:00'), '2'],\n",
    "    [pd.to_datetime('2024-05-04 18:45:30'), '3'],\n",
    "    [pd.to_datetime('2024-05-04 18:46:00'), '4'],\n",
    "    [pd.to_datetime('2024-05-04 18:46:35'), '4'],\n",
    "    [pd.to_datetime('2024-05-04 18:47:00'), '5'],\n",
    "    [pd.to_datetime('2024-05-04 18:47:30'), '6'],\n",
    "    [pd.to_datetime('2024-05-04 18:48:00'), '7'],\n",
    "    [pd.to_datetime('2024-05-04 18:48:30'), '8'],\n",
    "    [pd.to_datetime('2024-05-04 18:49:00'), '9'],\n",
    "]"
   ]
  },
  {
   "cell_type": "code",
   "execution_count": null,
   "metadata": {},
   "outputs": [],
   "source": [
    "# intervals リストを計算\n",
    "intervals = [(timestamp + pd.Timedelta(seconds=-2), timestamp + pd.Timedelta(seconds=3), label) for timestamp, label in base_timestamps]\n",
    "\n",
    "# 結果の表示\n",
    "for start, end, label in intervals:\n",
    "    print(f\"Start: {start}, End: {end}, Label: {label}\")"
   ]
  },
  {
   "cell_type": "code",
   "execution_count": null,
   "metadata": {},
   "outputs": [],
   "source": [
    "import matplotlib.pyplot as plt\n",
    "import matplotlib.dates as mdates\n",
    "import pandas as pd\n",
    "\n",
    "# プロットの初期設定\n",
    "plt.figure(figsize=(60, 10))\n",
    "\n",
    "# グレーで全データをプロット\n",
    "plt.plot(data20240504['Timestamp'], data20240504['Pupil diameter filtered'], color='gray', label='Pupil Diameter Filtered') #瞳孔径\n",
    "plt.plot(data20240504['Timestamp'], data20240504['EuclideanNorm'], color='gray', label='Euclidean Norm')    #3軸合成加速度\n",
    "\n",
    "# intervals リストを使用して特定の区間を色付きでハイライト\n",
    "colors = ['red', 'blue', 'green', 'orange', 'purple']  # カラーリスト\n",
    "for i, (start, end, label) in enumerate(intervals):\n",
    "    # 指定区間のデータを抽出\n",
    "    highlight_data = data20240504[(data20240504['Timestamp'] >= start) & (data20240504['Timestamp'] <= end)]\n",
    "\n",
    "    # 特定区間をプロット\n",
    "    plt.plot(highlight_data['Timestamp'], highlight_data['Pupil diameter filtered'], color=colors[i % len(colors)], label=f'Pupil Dia: {label}')\n",
    "    plt.plot(highlight_data['Timestamp'], highlight_data['EuclideanNorm'], color=colors[i % len(colors)], label=f'Euclidean Norm: {label}')\n",
    "\n",
    "# グラフの装飾\n",
    "plt.xlabel('Timestamp')\n",
    "plt.ylabel('Values')\n",
    "plt.title('Highlighted Intervals in Pupil Diameter and Motion Data')\n",
    "plt.xticks(rotation=45)\n",
    "plt.legend()\n",
    "plt.grid(True)\n",
    "plt.gca().xaxis.set_major_formatter(mdates.DateFormatter('%M:%S:%f'))  # Timestampフォーマット設定\n",
    "plt.tight_layout()\n",
    "\n",
    "# プロットを表示\n",
    "plt.show()\n"
   ]
  },
  {
   "cell_type": "code",
   "execution_count": null,
   "metadata": {},
   "outputs": [],
   "source": [
    "import matplotlib.pyplot as plt\n",
    "import matplotlib.dates as mdates\n",
    "import pandas as pd\n",
    "\n",
    "# プロットの初期設定\n",
    "plt.figure(figsize=(60, 10))\n",
    "\n",
    "# Pupil diameter filtered の差分の二乗を計算\n",
    "diff_squared = data20240504['Pupil diameter filtered'].diff()**2\n",
    "\n",
    "# グレーで全データをプロット\n",
    "plt.plot(data20240504['Timestamp'], diff_squared * -1, color='gray', label='Squared Diff of Pupil Diameter (Inverted)')  # 瞳孔径の差分の二乗（逆転表示）\n",
    "plt.plot(data20240504['Timestamp'], data20240504['EuclideanNorm'], color='gray', label='Euclidean Norm')  # 3軸合成加速度\n",
    "\n",
    "# intervals リストを使用して特定の区間を色付きでハイライト\n",
    "colors = ['red', 'blue', 'green', 'orange', 'purple']  # カラーリスト\n",
    "for i, (start, end, label) in enumerate(intervals):\n",
    "    # 指定区間のデータを抽出\n",
    "    highlight_data = data20240504[(data20240504['Timestamp'] >= start) & (data20240504['Timestamp'] <= end)]\n",
    "\n",
    "    # 特定区間をプロット\n",
    "    plt.plot(highlight_data['Timestamp'], highlight_data['Pupil diameter filtered'].diff()**2 * -1, color=colors[i % len(colors)], label=f'Sq Diff Pupil Dia (Inverted): {label}')\n",
    "    plt.plot(highlight_data['Timestamp'], highlight_data['EuclideanNorm'], color=colors[i % len(colors)], label=f'Euclidean Norm: {label}')\n",
    "\n",
    "# グラフの装飾\n",
    "plt.xlabel('Timestamp')\n",
    "plt.ylabel('Values (Inverted for Pupil Diameter Diff Squared)')\n",
    "plt.title('Highlighted Intervals in Pupil Diameter and Motion Data')\n",
    "plt.xticks(rotation=45)\n",
    "plt.legend()\n",
    "plt.grid(True)\n",
    "plt.gca().xaxis.set_major_formatter(mdates.DateFormatter('%M:%S:%f'))  # Timestampフォーマット設定\n",
    "plt.tight_layout()\n",
    "\n",
    "# プロットを表示\n",
    "plt.show()\n"
   ]
  },
  {
   "cell_type": "code",
   "execution_count": null,
   "metadata": {},
   "outputs": [],
   "source": [
    "# プロットの初期設定\n",
    "plt.figure(figsize=(160, 10))\n",
    "\n",
    "# 注視点の移動距離を計算\n",
    "data20240504['idouryou'] = np.sqrt(data20240504['Gaze point X'].diff()**2 + data20240504['Gaze point Y'].diff()**2)\n",
    "\n",
    "# グレーで全データをプロット\n",
    "plt.plot(data20240504['Timestamp'], data20240504['idouryou'], color='gray', label='Inverted - Gaze Movement Distance')  # 注視点の移動距離（逆転表示）\n",
    "#plt.plot(data20240504['Timestamp'], data20240504['EuclideanNorm'], color='gray', label='Euclidean Norm')  # 3軸合成加速度\n",
    "\n",
    "# intervals リストを使用して特定の区間を色付きでハイライト\n",
    "colors = ['red', 'blue', 'green', 'orange', 'purple']  # カラーリスト\n",
    "for i, (start, end, label) in enumerate(intervals):\n",
    "    # 指定区間のデータを抽出\n",
    "    highlight_data = data20240504[(data20240504['Timestamp'] >= start) & (data20240504['Timestamp'] <= end)]\n",
    "\n",
    "    # 特定区間をプロット\n",
    "    plt.plot(highlight_data['Timestamp'], highlight_data['idouryou'], color=colors[i % len(colors)], label=f'Inverted Gaze Move: {label}')\n",
    "    #plt.plot(highlight_data['Timestamp'], highlight_data['EuclideanNorm'], color=colors[i % len(colors)], label=f'Euclidean Norm: {label}')\n",
    "\n",
    "# グラフの装飾\n",
    "plt.xlabel('Timestamp')\n",
    "plt.ylabel('Gaze Movement Distance (downward)')\n",
    "plt.title('Highlighted Intervals in Gaze Movement')\n",
    "plt.xticks(rotation=45)\n",
    "plt.legend()\n",
    "plt.grid(True)\n",
    "plt.gca().xaxis.set_major_formatter(mdates.DateFormatter('%M:%S:%f'))  # Timestampフォーマット設定\n",
    "plt.tight_layout()\n",
    "\n",
    "# プロットを表示\n",
    "plt.show()\n"
   ]
  }
 ],
 "metadata": {
  "kernelspec": {
   "display_name": "Python 3",
   "language": "python",
   "name": "python3"
  },
  "language_info": {
   "codemirror_mode": {
    "name": "ipython",
    "version": 3
   },
   "file_extension": ".py",
   "mimetype": "text/x-python",
   "name": "python",
   "nbconvert_exporter": "python",
   "pygments_lexer": "ipython3",
   "version": "3.11.3"
  }
 },
 "nbformat": 4,
 "nbformat_minor": 2
}
