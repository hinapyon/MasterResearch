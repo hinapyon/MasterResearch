{
 "cells": [
  {
   "cell_type": "code",
   "execution_count": null,
   "metadata": {},
   "outputs": [],
   "source": [
    "#作った関数\n",
    "import MasterResearchFunction as mr\n",
    "# 基本ライブラリ\n",
    "import os, re, csv, math, statistics\n",
    "from datetime import datetime, timedelta\n",
    "from decimal import Decimal\n",
    "\n",
    "# 数値計算とデータ処理\n",
    "import numpy as np\n",
    "import pandas as pd\n",
    "import bottleneck as bn\n",
    "\n",
    "# 機械学習ライブラリ\n",
    "from sklearn import preprocessing\n",
    "from sklearn.preprocessing import LabelEncoder\n",
    "from sklearn.model_selection import train_test_split\n",
    "from sklearn.metrics import accuracy_score\n",
    "\n",
    "# ディープラーニングライブラリ\n",
    "import tensorflow as tf\n",
    "from tensorflow.keras import layers, Sequential\n",
    "from tensorflow.keras.layers import LSTM, Dense, Activation, Conv1D, MaxPooling1D, Flatten\n",
    "\n",
    "# プロットと可視化\n",
    "import matplotlib.pyplot as plt\n",
    "import matplotlib.dates as mdates\n",
    "import japanize_matplotlib\n",
    "\n",
    "# その他のライブラリ\n",
    "from scipy import signal, stats\n",
    "from scipy.signal import savgol_filter\n",
    "from tslearn.metrics import dtw_path"
   ]
  },
  {
   "cell_type": "code",
   "execution_count": null,
   "metadata": {},
   "outputs": [],
   "source": [
    "motion_data = mr.process_apple_watch_csv(\"datasets/kawano/20240517/MotionData_20240517_220252.csv\")"
   ]
  },
  {
   "cell_type": "code",
   "execution_count": null,
   "metadata": {},
   "outputs": [],
   "source": [
    "check = mr.process_all_apple_watch_csv_in_directory(\"datasets/kawano/train_gesture/kawano_check\")\n",
    "circle = mr.process_all_apple_watch_csv_in_directory(\"datasets/kawano/train_gesture/kawano_circle\")\n",
    "cross = mr.process_all_apple_watch_csv_in_directory(\"datasets/kawano/train_gesture/kawano_cross\")\n",
    "tri = mr.process_all_apple_watch_csv_in_directory(\"datasets/kawano/train_gesture/kawano_tri\")"
   ]
  },
  {
   "cell_type": "code",
   "execution_count": null,
   "metadata": {},
   "outputs": [],
   "source": [
    "eye_data = mr.process_tobii_csv(\"datasets/kawano/20240517/kawano Recording002.csv\")"
   ]
  },
  {
   "cell_type": "code",
   "execution_count": null,
   "metadata": {},
   "outputs": [],
   "source": [
    "times_x, times_y, times_z = []\n",
    "epsilon = 0.\n",
    "for train in circle:\n",
    "    _, times = mr.plot_spring(motion_data['SG_AccelerationX'], train['SG_AccelerationX'], motion_data['Timestamp'], epsilon)\n",
    "    times_x.append(times)\n",
    "    _, times = mr.plot_spring(motion_data['SG_AccelerationY'], train['SG_AccelerationY'], motion_data['Timestamp'], epsilon)\n",
    "    times_y.append(times)\n",
    "    _, times = mr.plot_spring(motion_data['SG_AccelerationZ'], train['SG_AccelerationZ'], motion_data['Timestamp'], epsilon)\n",
    "    times_z.append(times)"
   ]
  },
  {
   "cell_type": "code",
   "execution_count": null,
   "metadata": {},
   "outputs": [],
   "source": [
    "S = 0.1\n",
    "N = 50"
   ]
  },
  {
   "cell_type": "code",
   "execution_count": null,
   "metadata": {},
   "outputs": [],
   "source": [
    "mask = motion_data['EuclideanNorm'] <= S\n",
    "# 連続する True のブロックにグループ番号を割り当てる\n",
    "mask_shifted = mask.ne(mask.shift(1))  # 状態が変わる箇所を検出\n",
    "cumsum = mask_shifted.cumsum()  # 変化点で番号を増やしていく"
   ]
  },
  {
   "cell_type": "code",
   "execution_count": null,
   "metadata": {},
   "outputs": [],
   "source": [
    "# N サンプル以上連続する True のグループを見つける\n",
    "N = 50  # 例として 5 を連続カウントの閾値に設定\n",
    "groups = mask.groupby(cumsum).transform('sum')  # グループごとの True の合計数を求める\n",
    "to_remove = groups >= N  # N サンプル以上のグループを True とする\n",
    "\n",
    "# 条件に一致する区間を削除\n",
    "filtered_data = motion_data[~to_remove]"
   ]
  },
  {
   "cell_type": "code",
   "execution_count": null,
   "metadata": {},
   "outputs": [],
   "source": [
    "filtered_data['Timestamp']"
   ]
  },
  {
   "cell_type": "code",
   "execution_count": null,
   "metadata": {},
   "outputs": [],
   "source": [
    "pathes, times = mr.plot_spring(filtered_data['SG_AccelerationX'], circle1['AccelerationX'], filtered_data['Timestamp'], 0.1)"
   ]
  },
  {
   "cell_type": "code",
   "execution_count": null,
   "metadata": {},
   "outputs": [],
   "source": []
  }
 ],
 "metadata": {
  "kernelspec": {
   "display_name": "Python 3",
   "language": "python",
   "name": "python3"
  },
  "language_info": {
   "codemirror_mode": {
    "name": "ipython",
    "version": 3
   },
   "file_extension": ".py",
   "mimetype": "text/x-python",
   "name": "python",
   "nbconvert_exporter": "python",
   "pygments_lexer": "ipython3",
   "version": "3.11.3"
  }
 },
 "nbformat": 4,
 "nbformat_minor": 2
}
