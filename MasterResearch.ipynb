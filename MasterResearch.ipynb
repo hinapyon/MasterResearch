{
  "cells": [
    {
      "cell_type": "code",
      "execution_count": null,
      "metadata": {
        "id": "VGJb1ScIJE-J"
      },
      "outputs": [],
      "source": [
        "from google.colab import files\n",
        "uploaded = files.upload()"
      ]
    },
    {
      "cell_type": "code",
      "execution_count": null,
      "metadata": {
        "id": "FI3b2MALJQG9"
      },
      "outputs": [],
      "source": [
        "from google.colab import drive\n",
        "drive.mount('/content/drive')"
      ]
    },
    {
      "cell_type": "code",
      "execution_count": null,
      "metadata": {
        "id": "5P9aOSopJUiL"
      },
      "outputs": [],
      "source": [
        "!pip install japanize_matplotlib bottleneck tslearn"
      ]
    },
    {
      "cell_type": "code",
      "execution_count": null,
      "metadata": {
        "id": "1Lq-ZkyCJJbu"
      },
      "outputs": [],
      "source": [
        "#作った関数\n",
        "import MasterResearchFunction as mr\n",
        "# 基本ライブラリ\n",
        "import os, re, csv, math, statistics\n",
        "from datetime import datetime, timedelta\n",
        "from decimal import Decimal\n",
        "\n",
        "# 数値計算とデータ処理\n",
        "import numpy as np\n",
        "import pandas as pd\n",
        "import bottleneck as bn\n",
        "\n",
        "# 機械学習ライブラリ\n",
        "from sklearn import preprocessing\n",
        "from sklearn.preprocessing import LabelEncoder\n",
        "from sklearn.model_selection import train_test_split\n",
        "from sklearn.metrics import accuracy_score\n",
        "\n",
        "# ディープラーニングライブラリ\n",
        "import tensorflow as tf\n",
        "from tensorflow.keras import layers, Sequential\n",
        "from tensorflow.keras.layers import LSTM, Dense, Activation, Conv1D, MaxPooling1D, Flatten\n",
        "\n",
        "# プロットと可視化\n",
        "import matplotlib.pyplot as plt\n",
        "import matplotlib.dates as mdates\n",
        "import japanize_matplotlib\n",
        "\n",
        "# その他のライブラリ\n",
        "from scipy import signal, stats\n",
        "from scipy.signal import savgol_filter\n",
        "from tslearn.metrics import dtw_path"
      ]
    },
    {
      "cell_type": "code",
      "execution_count": null,
      "metadata": {
        "id": "xSPIQYV9JE-O"
      },
      "outputs": [],
      "source": [
        "#Apple Watchのモーションデータの読み込み\n",
        "a_yuuma_motion_data = mr.process_apple_watch_csv(\"datasets/yuuma/20240604/yuuma_motion.csv\")\n",
        "b_sakamoto_motion_data = mr.process_apple_watch_csv(\"datasets/sakamoto/20240604/sakamoto_motion.csv\")\n",
        "c_watabe_motion_data = mr.process_apple_watch_csv(\"datasets/watabe/20240605/watabe_motion.csv\")\n",
        "d_nakazawa_motion_data = mr.process_apple_watch_csv(\"datasets/nakazawa/20240606/nakazawa_motion.csv\")\n",
        "e_okede_motion_data = mr.process_apple_watch_csv(\"datasets/okeda/20240607/okeda_motion.csv\")\n",
        "# a_yuuma_motion_data = mr.process_apple_watch_csv(\"/content/drive/MyDrive/datasets/yuuma/20240604/yuuma_motion.csv\")\n",
        "# b_sakamoto_motion_data = mr.process_apple_watch_csv(\"/content/drive/MyDrive/datasets/sakamoto/20240604/sakamoto_motion.csv\")\n",
        "# c_watabe_motion_data = mr.process_apple_watch_csv(\"/content/drive/MyDrive/datasets/watabe/20240605/watabe_motion.csv\")\n",
        "# d_nakazawa_motion_data = mr.process_apple_watch_csv(\"/content/drive/MyDrive/datasets/nakazawa/20240606/nakazawa_motion.csv\")\n",
        "# e_okeda_motion_data = mr.process_apple_watch_csv(\"/content/drive/MyDrive/datasets/okeda/20240607/okeda_motion.csv\")"
      ]
    },
    {
      "cell_type": "code",
      "execution_count": null,
      "metadata": {
        "id": "DwuLVlktIfm9"
      },
      "outputs": [],
      "source": [
        "#Tobiiのモーションデータの読み込み\n",
        "a_yuuma_eye_data = mr.process_tobii_csv(\"datasets/yuuma/20240604/yuuma_eye.csv\")\n",
        "b_sakamoto_eye_data = mr.process_tobii_csv(\"datasets/sakamoto/20240604/sakamoto_eye.csv\")\n",
        "c_watabe_eye_data = mr.process_tobii_csv(\"datasets/watabe/20240605/watabe_eye.csv\")\n",
        "d_nakazawa_eye_data = mr.process_tobii_csv(\"datasets/nakazawa/20240606/nakazawa_eye.csv\")\n",
        "e_okede_eye_data = mr.process_tobii_csv(\"datasets/okeda/20240607/okeda_eye.csv\")\n",
        "# a_yuuma_eye_data = mr.process_tobii_csv(\"/content/drive/MyDrive/datasets/yuuma/20240604/yuuma_eye.csv\")\n",
        "# b_sakamoto_eye_data = mr.process_tobii_csv(\"/content/drive/MyDrive/datasets/sakamoto/20240604/sakamoto_eye.csv\")\n",
        "# c_watabe_eye_data = mr.process_tobii_csv(\"/content/drive/MyDrive/datasets/watabe/20240605/watabe_eye.csv\")\n",
        "# d_nakazawa_eye_data = mr.process_tobii_csv(\"/content/drive/MyDrive/datasets/nakazawa/20240606/nakazawa_eye.csv\")\n",
        "# e_okeda_eye_data = mr.process_tobii_csv(\"/content/drive/MyDrive/datasets/okeda/20240607/okeda_eye.csv\")"
      ]
    },
    {
      "cell_type": "code",
      "execution_count": null,
      "metadata": {
        "id": "oOEsc9-3fnXT"
      },
      "outputs": [],
      "source": [
        "#a_yuumaくんの教師データ読み込み\n",
        "a_yuuma_check = mr.process_all_apple_watch_csv_in_directory(\"datasets/yuuma/train_gesture/check\")\n",
        "a_yuuma_circle = mr.process_all_apple_watch_csv_in_directory(\"datasets/yuuma/train_gesture/circle\")\n",
        "a_yuuma_cross = mr.process_all_apple_watch_csv_in_directory(\"datasets/yuuma/train_gesture/cross\")\n",
        "a_yuuma_tri = mr.process_all_apple_watch_csv_in_directory(\"datasets/yuuma/train_gesture/tri\")\n",
        "# a_yuuma_check = mr.process_all_apple_watch_csv_in_directory(\"/content/drive/MyDrive/datasets/yuuma/train_gesture/check\")\n",
        "# a_yuuma_circle = mr.process_all_apple_watch_csv_in_directory(\"/content/drive/MyDrive/datasets/yuuma/train_gesture/circle\")\n",
        "# a_yuuma_cross = mr.process_all_apple_watch_csv_in_directory(\"/content/drive/MyDrive/datasets/yuuma/train_gesture/cross\")\n",
        "# a_yuuma_tri = mr.process_all_apple_watch_csv_in_directory(\"/content/drive/MyDrive/datasets/yuuma/train_gesture/tri\")"
      ]
    },
    {
      "cell_type": "code",
      "execution_count": null,
      "metadata": {
        "id": "uK2kISJYI71I"
      },
      "outputs": [],
      "source": [
        "#b_sakamotoくんの教師データ読み込み\n",
        "# b_sakamoto_check = mr.process_all_apple_watch_csv_in_directory(\"datasets/sakamoto/train_gesture/check\")\n",
        "# b_sakamoto_circle = mr.process_all_apple_watch_csv_in_directory(\"datasets/sakamoto/train_gesture/circle\")\n",
        "# b_sakamoto_cross = mr.process_all_apple_watch_csv_in_directory(\"datasets/sakamoto/train_gesture/cross\")\n",
        "# b_sakamoto_tri = mr.process_all_apple_watch_csv_in_directory(\"datasets/sakamoto/train_gesture/tri\")\n",
        "b_sakamoto_check = mr.process_all_apple_watch_csv_in_directory(\"/content/drive/MyDrive/datasets/sakamoto/train_gesture/check\")\n",
        "b_sakamoto_circle = mr.process_all_apple_watch_csv_in_directory(\"/content/drive/MyDrive/datasets/sakamoto/train_gesture/circle\")\n",
        "b_sakamoto_cross = mr.process_all_apple_watch_csv_in_directory(\"/content/drive/MyDrive/datasets/sakamoto/train_gesture/cross\")\n",
        "b_sakamoto_tri = mr.process_all_apple_watch_csv_in_directory(\"/content/drive/MyDrive/datasets/sakamoto/train_gesture/tri\")"
      ]
    },
    {
      "cell_type": "code",
      "execution_count": null,
      "metadata": {
        "id": "diEoQTluAkuW"
      },
      "outputs": [],
      "source": [
        "#c_watabeくんの教師データ読み込み\n",
        "# c_watabe_check = mr.process_all_apple_watch_csv_in_directory(\"datasets/watabe/train_gesture/check\")\n",
        "# c_watabe_circle = mr.process_all_apple_watch_csv_in_directory(\"datasets/watabe/train_gesture/circle\")\n",
        "# c_watabe_cross = mr.process_all_apple_watch_csv_in_directory(\"datasets/watabe/train_gesture/cross\")\n",
        "# c_watabe_tri = mr.process_all_apple_watch_csv_in_directory(\"datasets/watabe/train_gesture/tri\")\n",
        "c_watabe_check = mr.process_all_apple_watch_csv_in_directory(\"/content/drive/MyDrive/datasets/watabe/train_gesture/check\")\n",
        "c_watabe_circle = mr.process_all_apple_watch_csv_in_directory(\"/content/drive/MyDrive/datasets/watabe/train_gesture/circle\")\n",
        "c_watabe_cross = mr.process_all_apple_watch_csv_in_directory(\"/content/drive/MyDrive/datasets/watabe/train_gesture/cross\")\n",
        "c_watabe_tri = mr.process_all_apple_watch_csv_in_directory(\"/content/drive/MyDrive/datasets/watabe/train_gesture/tri\")"
      ]
    },
    {
      "cell_type": "code",
      "execution_count": null,
      "metadata": {
        "id": "lE7CC2oFKDi8"
      },
      "outputs": [],
      "source": [
        "#d_nakazawaくんの教師データ読み込み\n",
        "# d_nakazawa_check = mr.process_all_apple_watch_csv_in_directory(\"datasets/nakazawa/train_gesture/check\")\n",
        "# d_nakazawa_circle = mr.process_all_apple_watch_csv_in_directory(\"datasets/nakazawa/train_gesture/circle\")\n",
        "# d_nakazawa_cross = mr.process_all_apple_watch_csv_in_directory(\"datasets/nakazawa/train_gesture/cross\")\n",
        "# d_nakazawa_tri = mr.process_all_apple_watch_csv_in_directory(\"datasets/nakazawa/train_gesture/tri\")\n",
        "d_nakazawa_check = mr.process_all_apple_watch_csv_in_directory(\"/content/drive/MyDrive/datasets/nakazawa/train_gesture/check\")\n",
        "d_nakazawa_circle = mr.process_all_apple_watch_csv_in_directory(\"/content/drive/MyDrive/datasets/nakazawa/train_gesture/circle\")\n",
        "d_nakazawa_cross = mr.process_all_apple_watch_csv_in_directory(\"/content/drive/MyDrive/datasets/nakazawa/train_gesture/cross\")\n",
        "d_nakazawa_tri = mr.process_all_apple_watch_csv_in_directory(\"/content/drive/MyDrive/datasets/nakazawa/train_gesture/tri\")"
      ]
    },
    {
      "cell_type": "code",
      "execution_count": null,
      "metadata": {
        "id": "wrS9POJEKLrV"
      },
      "outputs": [],
      "source": [
        "#e_okedaくんの教師データ読み込み\n",
        "# e_okeda_check = mr.process_all_apple_watch_csv_in_directory(\"datasets/okeda/train_gesture/check\")\n",
        "# e_okeda_circle = mr.process_all_apple_watch_csv_in_directory(\"datasets/okeda/train_gesture/circle\")\n",
        "# e_okeda_cross = mr.process_all_apple_watch_csv_in_directory(\"datasets/okeda/train_gesture/cross\")\n",
        "# e_okeda_tri = mr.process_all_apple_watch_csv_in_directory(\"datasets/okeda/train_gesture/tri\")\n",
        "e_okeda_check = mr.process_all_apple_watch_csv_in_directory(\"/content/drive/MyDrive/datasets/okeda/train_gesture/check\")\n",
        "e_okeda_circle = mr.process_all_apple_watch_csv_in_directory(\"/content/drive/MyDrive/datasets/okeda/train_gesture/circle\")\n",
        "e_okeda_cross = mr.process_all_apple_watch_csv_in_directory(\"/content/drive/MyDrive/datasets/okeda/train_gesture/cross\")\n",
        "e_okeda_tri = mr.process_all_apple_watch_csv_in_directory(\"/content/drive/MyDrive/datasets/okeda/train_gesture/tri\")"
      ]
    },
    {
      "cell_type": "code",
      "execution_count": null,
      "metadata": {
        "id": "h_T-6BZefnXU"
      },
      "outputs": [],
      "source": [
        "Th = 20\n",
        "segx, segy, segz = [], [], []"
      ]
    },
    {
      "cell_type": "code",
      "execution_count": null,
      "metadata": {},
      "outputs": [],
      "source": [
        "segx = mr.spring_ogawa(a_yuuma_motion_data['GyroX'], a_yuuma_circle[0]['GyroX'], Th)\n",
        "segy = mr.spring_ogawa(a_yuuma_motion_data['GyroY'], a_yuuma_circle[0]['GyroY'], Th)\n",
        "segz = mr.spring_ogawa(a_yuuma_motion_data['GyroZ'], a_yuuma_circle[0]['GyroZ'], Th)"
      ]
    },
    {
      "cell_type": "code",
      "execution_count": null,
      "metadata": {},
      "outputs": [],
      "source": [
        "segy"
      ]
    },
    {
      "cell_type": "code",
      "execution_count": null,
      "metadata": {},
      "outputs": [],
      "source": [
        "overlap = mr.combine_and_find_overlapping_segments(segx, segy, segz)"
      ]
    },
    {
      "cell_type": "code",
      "execution_count": null,
      "metadata": {},
      "outputs": [],
      "source": [
        "Type = 'acc'\n",
        "Type = 'gyro'"
      ]
    },
    {
      "cell_type": "code",
      "execution_count": null,
      "metadata": {
        "collapsed": true,
        "id": "uAlkohqJx_bq"
      },
      "outputs": [],
      "source": [
        "a_yuuma_circle_segx, a_yuuma_circle_segy, a_yuuma_circle_segz = mr.three_axis_spring_ogawa(a_yuuma_motion_data, a_yuuma_circle, Th, Type)\n",
        "# a_yuuma_cross_segx, a_yuuma_cross_segy, a_yuuma_cross_segz = mr.three_axis_spring_ogawa(a_yuuma_motion_data, a_yuuma_cross, Th)\n",
        "# a_yuuma_tri_segx, a_yuuma_tri_segy, a_yuuma_tri_segz = mr.three_axis_spring_ogawa(a_yuuma_motion_data, a_yuuma_tri, Th)\n",
        "# a_yuuma_check_segx, a_yuuma_check_segy, a_yuuma_check_segz = mr.three_axis_spring_ogawa(a_yuuma_motion_data, a_yuuma_check, Th)"
      ]
    },
    {
      "cell_type": "code",
      "execution_count": null,
      "metadata": {
        "id": "lWR2tM1H3abu"
      },
      "outputs": [],
      "source": [
        "a_yuuma_circle_overlap = mr.overlap_from_three_segments(a_yuuma_circle_segx, a_yuuma_circle_segy, a_yuuma_circle_segz)"
      ]
    },
    {
      "cell_type": "code",
      "execution_count": null,
      "metadata": {
        "id": "7Rwtty_U-rzq"
      },
      "outputs": [],
      "source": [
        "# 経過時間のフィルタリングを適用\n",
        "filtered_overlap = mr.filter_overlap_by_elapsed_time(a_yuuma_circle_overlap, a_yuuma_motion_data, min_time=2, max_time=5)"
      ]
    },
    {
      "cell_type": "code",
      "execution_count": null,
      "metadata": {
        "collapsed": true,
        "id": "u4etFLIm-6TA"
      },
      "outputs": [],
      "source": [
        "filtered_overlap"
      ]
    },
    {
      "cell_type": "code",
      "execution_count": null,
      "metadata": {
        "id": "iSlplOgB_kQe"
      },
      "outputs": [],
      "source": [
        "combine_overlap = mr.combine_all_overlaps(filtered_overlap)"
      ]
    },
    {
      "cell_type": "code",
      "execution_count": null,
      "metadata": {
        "collapsed": true,
        "id": "uuv2SHYW_ujt"
      },
      "outputs": [],
      "source": [
        "len(combine_overlap)"
      ]
    },
    {
      "cell_type": "code",
      "execution_count": null,
      "metadata": {
        "id": "X6CqfLMvi6WA"
      },
      "outputs": [],
      "source": [
        "a_yuuma_circle_overlap = combine_overlap"
      ]
    },
    {
      "cell_type": "code",
      "execution_count": null,
      "metadata": {
        "collapsed": true,
        "id": "IA2TbK7uqgIc"
      },
      "outputs": [],
      "source": [
        "results =  mr.extract_timestamp_from_overlap(a_yuuma_motion_data, combine_overlap)"
      ]
    },
    {
      "cell_type": "code",
      "execution_count": null,
      "metadata": {
        "id": "IiACPa9eYAnW"
      },
      "outputs": [],
      "source": [
        "# 各組の時間の長さが2秒以下と5秒以上のものを弾く\n",
        "filtered_results = mr.filter_segments_by_time_length(results, 2, 5)"
      ]
    },
    {
      "cell_type": "code",
      "execution_count": null,
      "metadata": {
        "id": "VbzAHC-mYC0I"
      },
      "outputs": [],
      "source": [
        "# 各組の時間の長さが2秒以下と5秒以上のものを弾く\n",
        "len(filtered_results)"
      ]
    },
    {
      "cell_type": "code",
      "execution_count": null,
      "metadata": {
        "collapsed": true,
        "id": "Q2OyHc9A703G"
      },
      "outputs": [],
      "source": [
        "filtered_results"
      ]
    },
    {
      "cell_type": "code",
      "execution_count": null,
      "metadata": {
        "id": "oisJO41W0zfE"
      },
      "outputs": [],
      "source": [
        "# タイムスタンプの範囲内のデータを抽出\n",
        "extracted_eye_data = mr.extract_eye_data_within_intervals(filtered_results, a_yuuma_eye_data)"
      ]
    },
    {
      "cell_type": "code",
      "execution_count": null,
      "metadata": {
        "id": "9bX0ZmoLa-EW"
      },
      "outputs": [],
      "source": [
        "len(extracted_eye_data)"
      ]
    },
    {
      "cell_type": "code",
      "execution_count": null,
      "metadata": {
        "id": "AdzCQdD33jJG"
      },
      "outputs": [],
      "source": [
        "def filter_by_variance(extracted_eye_data, filtered_results, threshold):\n",
        "    filtered_extracted_eye_data = []\n",
        "    filtered_filtered_results = []\n",
        "\n",
        "    for i in range(len(extracted_eye_data)):\n",
        "        diff_x = extracted_eye_data[i]['Gaze point X'].diff().fillna(0)\n",
        "        diff_y = extracted_eye_data[i]['Gaze point Y'].diff().fillna(0)\n",
        "        distance = np.sqrt(diff_x**2 + diff_y**2)  # ユークリッド距離\n",
        "        variance = distance.var()  # ユークリッド距離の分散を計算\n",
        "\n",
        "        if variance < threshold:\n",
        "            filtered_extracted_eye_data.append(extracted_eye_data[i])\n",
        "            filtered_filtered_results.append(filtered_results[i])\n",
        "\n",
        "    return filtered_extracted_eye_data, filtered_filtered_results"
      ]
    },
    {
      "cell_type": "code",
      "execution_count": null,
      "metadata": {
        "id": "zzrNFs6q3pgX"
      },
      "outputs": [],
      "source": [
        "Th = 360"
      ]
    },
    {
      "cell_type": "code",
      "execution_count": null,
      "metadata": {
        "id": "t3u5QwsJ3k-S"
      },
      "outputs": [],
      "source": [
        "# 分散を計算し、閾値を上回る区間を削除\n",
        "filtered_extracted_eye_data, filtered_filtered_results = filter_by_variance(extracted_eye_data, filtered_results, Th)"
      ]
    },
    {
      "cell_type": "code",
      "execution_count": null,
      "metadata": {
        "id": "NmXDsZqaMyvl"
      },
      "outputs": [],
      "source": [
        "len(filtered_filtered_results)"
      ]
    },
    {
      "cell_type": "code",
      "execution_count": null,
      "metadata": {
        "id": "L7Ocl9CHNHnE"
      },
      "outputs": [],
      "source": [
        "filtered_filtered_results"
      ]
    },
    {
      "cell_type": "code",
      "execution_count": null,
      "metadata": {},
      "outputs": [],
      "source": [
        "circle_start_time = pd.Timestamp('2024-06-07 15:33:19')\n",
        "circle_end_time = pd.Timestamp('2024-06-07 15:33:22')\n",
        "cross_start_time = pd.Timestamp('2024-06-07 15:43:54')\n",
        "cross_end_time = pd.Timestamp('2024-06-07 15:43:57')\n",
        "tri_start_time = pd.Timestamp('2024-06-07 16:01:46')\n",
        "tri_end_time = pd.Timestamp('2024-06-07 16:01:49')\n",
        "check_start_time = pd.Timestamp('2024-06-07 16:17:07')\n",
        "check_end_time = pd.Timestamp('2024-06-07 16:17:09')\n",
        "\n",
        "# ジェスチャの設定\n",
        "gestures = [\n",
        "    (circle_start_time, circle_end_time, \"Circle\"),\n",
        "    (cross_start_time, cross_end_time, \"Cross\"),\n",
        "    (tri_start_time, tri_end_time, \"Triangle\"),\n",
        "    (check_start_time, check_end_time, \"Check\")\n",
        "]\n",
        "# プロットの作成\n",
        "fig, axes = plt.subplots(4, 1, figsize=(18, 24))  # 4行1列のサブプロットを作成\n",
        "fig.subplots_adjust(hspace=0.3)  # グラフ間のスペースを広く取る\n",
        "\n",
        "for i, (start_time, end_time, label) in enumerate(gestures):\n",
        "    data = e_okede_eye_data[\n",
        "        (e_okede_eye_data['Timestamp'] >= (start_time - pd.Timedelta(seconds=5))) &\n",
        "        (e_okede_eye_data['Timestamp'] <= (end_time + pd.Timedelta(seconds=5)))\n",
        "    ]\n",
        "\n",
        "    diff_x = data['Gaze point X'].diff()\n",
        "    diff_y = data['Gaze point Y'].diff()\n",
        "    distance = np.sqrt(diff_x**2 + diff_y**2)  # ユークリッド距離\n",
        "\n",
        "    axes[i].plot(data['Timestamp'], distance, label='Gaze Movement Distance')\n",
        "\n",
        "    axes[i].grid(True)\n",
        "    axes[i].set_ylabel('Gaze Movement Distance (pixels)', fontsize=14)\n",
        "    axes[i].set_xlabel('Timestamp (JST, H:M:S)', fontsize=14)  # 各グラフにx軸ラベルを設定\n",
        "    axes[i].set_ylim(0, 1000)  # y軸の範囲をデータに合わせる\n",
        "    axes[i].set_title(f'{label} Gesture', fontsize=24)\n",
        "    axes[i].axvspan(start_time, end_time, color='yellow', alpha=0.3, label='Gesture Execution Interval')\n",
        "    axes[i].legend(loc='upper right', fontsize=14)\n",
        "    axes[i].xaxis.set_major_formatter(mdates.DateFormatter('%H:%M:%S'))  # Timestampフォーマット設定\n",
        "    experiment_date = start_time.strftime('%Y-%m-%d')\n",
        "    axes[i].text(0.01, 0.98, f'Experiment Date: {experiment_date}', transform=axes[i].transAxes, fontsize=12, verticalalignment='top')\n",
        "\n",
        "# プロットの保存（EPS形式）\n",
        "plt.savefig(\"/Users/hinase/Downloads/e_okeda_Gaze_Movement_Distance.eps\", format='eps', bbox_inches='tight')  # 論文用に図を保存\n",
        "\n",
        "plt.show()  # プロットを表示"
      ]
    }
  ],
  "metadata": {
    "accelerator": "TPU",
    "colab": {
      "gpuType": "V28",
      "machine_shape": "hm",
      "provenance": []
    },
    "kernelspec": {
      "display_name": "Python 3",
      "name": "python3"
    },
    "language_info": {
      "codemirror_mode": {
        "name": "ipython",
        "version": 3
      },
      "file_extension": ".py",
      "mimetype": "text/x-python",
      "name": "python",
      "nbconvert_exporter": "python",
      "pygments_lexer": "ipython3",
      "version": "3.11.3"
    }
  },
  "nbformat": 4,
  "nbformat_minor": 0
}
