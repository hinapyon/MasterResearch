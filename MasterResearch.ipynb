{
 "cells": [
  {
   "cell_type": "code",
   "execution_count": 2,
   "metadata": {},
   "outputs": [
    {
     "name": "stderr",
     "output_type": "stream",
     "text": [
      "2024-05-08 17:08:16.047788: I tensorflow/core/platform/cpu_feature_guard.cc:182] This TensorFlow binary is optimized to use available CPU instructions in performance-critical operations.\n",
      "To enable the following instructions: AVX2 FMA, in other operations, rebuild TensorFlow with the appropriate compiler flags.\n"
     ]
    }
   ],
   "source": [
    "#ライブラリをインクルード\n",
    "import numpy as np\n",
    "import pandas as pd\n",
    "import matplotlib.pyplot as plt\n",
    "import matplotlib.dates as mdates\n",
    "from tslearn.metrics import dtw_path\n",
    "from datetime import datetime, timedelta\n",
    "import os, re, csv, statistics, math\n",
    "from decimal import Decimal\n",
    "import bottleneck as bn\n",
    "from scipy import signal, stats\n",
    "from sklearn.model_selection import train_test_split\n",
    "from sklearn import preprocessing\n",
    "from tensorflow.keras.models import Sequential\n",
    "from tensorflow.keras.layers import Activation\n",
    "from tensorflow.keras import layers, Sequential\n",
    "from tensorflow.keras.layers import LSTM, Dense\n",
    "import japanize_matplotlib"
   ]
  },
  {
   "cell_type": "code",
   "execution_count": 3,
   "metadata": {},
   "outputs": [],
   "source": [
    "#Apple Watchからのモーションデータを読み込む関数\n",
    "def process_apple_watch_csv(file_path):\n",
    "    # CSVファイルの読み込み\n",
    "    motion_data = pd.read_csv(file_path, header=0, names=['UnixTime', 'AccelerationX', 'AccelerationY', 'AccelerationZ', 'GyroX', 'GyroY', 'GyroZ'])\n",
    "    # Unixタイムスタンプを日本時間に変換し、タイムゾーン情報を削除して表示する\n",
    "    motion_data['Timestamp'] = pd.to_datetime(motion_data['UnixTime'], unit='s').dt.tz_localize('UTC').dt.tz_convert('Asia/Tokyo').dt.tz_localize(None)\n",
    "    # 加速度のユークリッドノルムを計算してデータフレームに追加\n",
    "    motion_data['EuclideanNorm'] = np.sqrt(motion_data['AccelerationX']**2 + motion_data['AccelerationY']**2 + motion_data['AccelerationZ']**2)\n",
    "    # FFTのサンプル数を取得\n",
    "    N = len(motion_data)\n",
    "    # サンプリングレートを定義 (50Hzとする)\n",
    "    Fs = 50\n",
    "    # FFT解析を行い、3軸加速度のパワースペクトルを計算してデータフレームに追加\n",
    "    for axis in ['AccelerationX', 'AccelerationY', 'AccelerationZ', 'EuclideanNorm']:\n",
    "        accel_fft = np.fft.fft(motion_data[axis])\n",
    "        power_spectrum = np.abs(accel_fft)**2\n",
    "        motion_data[f'PowerSpectrum_{axis}'] = power_spectrum\n",
    "\n",
    "    return motion_data"
   ]
  },
  {
   "cell_type": "code",
   "execution_count": null,
   "metadata": {},
   "outputs": [],
   "source": [
    "#Tobii Pro Glasses 2からのアイトラッキングデータを読み込む関数\n",
    "def process_tobii_csv(file_path):\n",
    "    # CSVファイルの読み込み\n",
    "    eye_data = pd.read_csv(file_path, header=0)\n",
    "    #タイムスタンプをYYYY-MM-DD HH:MM:SS.fff形式に変換\n",
    "    eye_data['Recording start time'] = pd.to_datetime(eye_data['Recording start time'], format='%H:%M:%S.%f')\n",
    "    eye_data['Recording date'] = pd.to_datetime(eye_data['Recording date'], format='%m/%d/%Y')\n",
    "    eye_data['Recording timestamp'] = pd.to_datetime(eye_data['Recording timestamp'], unit='us')\n",
    "    eye_data['Timestamp'] = eye_data['Recording date'] + pd.to_timedelta(eye_data['Recording start time'].dt.strftime('%H:%M:%S.%f')) + pd.to_timedelta(eye_data['Recording timestamp'].dt.strftime('%H:%M:%S.%f'))\n",
    "\n",
    "    return eye_data[(eye_data['Sensor'] == 'Eye Tracker')].drop(columns=['Recording timestamp', 'Computer timestamp', 'Recording start time UTC', 'Recording duration', 'Recording Fixation filter name', 'Project name', 'Export date', 'Recording name','Recording date', 'Recording date UTC', 'Recording start time', 'Recording media name', 'Recording media width', 'Recording media height', 'Gyro X', 'Gyro Y', 'Gyro Z', 'Accelerometer X', 'Accelerometer Y', 'Accelerometer Z'])"
   ]
  },
  {
   "cell_type": "code",
   "execution_count": null,
   "metadata": {},
   "outputs": [],
   "source": [
    "def process_watch_and_tobii_data(motion_data, eye_data):\n",
    "    # データをマージ\n",
    "    merged_data = pd.merge(eye_data, motion_data, on=\"Timestamp\", how='outer')\n",
    "    # eye_dataとmotion_dataのタイムスタンプ範囲を取得\n",
    "    start_time = max(eye_data['Timestamp'].min(), motion_data['Timestamp'].min())\n",
    "    end_time = min(eye_data['Timestamp'].max(), motion_data['Timestamp'].max())\n",
    "\n",
    "    # マージ後のデータフレームを調整\n",
    "    filtered_data = merged_data[(merged_data['Timestamp'] >= start_time) & (merged_data['Timestamp'] <= end_time)]\n",
    "\n",
    "    return filtered_data"
   ]
  },
  {
   "cell_type": "code",
   "execution_count": null,
   "metadata": {},
   "outputs": [],
   "source": [
    "def dist(x, y):\n",
    "    return (x - y)**2\n",
    "\n",
    "def get_min(m0, m1, m2, i, j):\n",
    "    if m0 < m1:\n",
    "        if m0 < m2:\n",
    "            return i - 1, j, m0\n",
    "        else:\n",
    "            return i - 1, j - 1, m2\n",
    "    else:\n",
    "        if m1 < m2:\n",
    "            return i, j - 1, m1\n",
    "        else:\n",
    "            return i - 1, j - 1, m2"
   ]
  },
  {
   "cell_type": "code",
   "execution_count": null,
   "metadata": {},
   "outputs": [],
   "source": [
    "def spring(x, y, epsilon):\n",
    "    Tx = len(x)\n",
    "    Ty = len(y)\n",
    "\n",
    "    C = np.zeros((Tx, Ty))\n",
    "    B = np.zeros((Tx, Ty, 2), int)\n",
    "    S = np.zeros((Tx, Ty), int)\n",
    "\n",
    "    C[0, 0] = dist(x[0], y[0])\n",
    "\n",
    "    for j in range(1, Ty):\n",
    "        C[0, j] = C[0, j - 1] + dist(x[0], y[j])\n",
    "        B[0, j] = [0, j - 1]\n",
    "        S[0, j] = S[0, j - 1]\n",
    "\n",
    "    for i in range(1, Tx):\n",
    "        C[i, 0] = dist(x[i], y[0])\n",
    "        B[i, 0] = [0, 0]\n",
    "        S[i, 0] = i\n",
    "\n",
    "        for j in range(1, Ty):\n",
    "            pi, pj, m = get_min(C[i - 1, j],\n",
    "                                C[i, j - 1],\n",
    "                                C[i - 1, j - 1],\n",
    "                                i, j)\n",
    "            C[i, j] = dist(x[i], y[j]) + m\n",
    "            B[i, j] = [pi, pj]\n",
    "            S[i, j] = S[pi, pj]\n",
    "\n",
    "        imin = np.argmin(C[:(i+1), -1])\n",
    "        dmin = C[imin, -1]\n",
    "\n",
    "        if dmin > epsilon:\n",
    "            continue\n",
    "\n",
    "        for j in range(1, Ty):\n",
    "            if (C[i,j] < dmin) and (S[i, j] < imin):\n",
    "                break\n",
    "        else:\n",
    "            path = [[imin, Ty - 1]]\n",
    "            temp_i = imin\n",
    "            temp_j = Ty - 1\n",
    "\n",
    "            while (B[temp_i, temp_j][0] != 0 or B[temp_i, temp_j][1] != 0):\n",
    "                path.append(B[temp_i, temp_j])\n",
    "                temp_i, temp_j = B[temp_i, temp_j].astype(int)\n",
    "\n",
    "            C[S <= imin] = 100000000\n",
    "            yield np.array(path), dmin"
   ]
  },
  {
   "cell_type": "code",
   "execution_count": null,
   "metadata": {},
   "outputs": [],
   "source": [
    "def plot_spring(data_x, data_y, timestamps, epsilon=0.1):\n",
    "    pathes = []\n",
    "    times = []\n",
    "\n",
    "    for path, cost in spring(data_x, data_y, epsilon):\n",
    "        plt.figure(figsize=(18, 6))  # グラフを横長にする\n",
    "        for line in path:\n",
    "            plt.plot(line, [data_x[line[0]], data_y[line[1]]], linewidth=0.8, c=\"gray\")\n",
    "        plt.plot(data_x, label='long data')\n",
    "        plt.plot(data_y, label='gesuture data')\n",
    "\n",
    "\n",
    "        plt.plot(path[:,0], data_x[path[:,0]], c=\"C2\", label='simular')\n",
    "        plt.grid(True)  # グリッド表示\n",
    "        plt.legend()  # 凡例表示\n",
    "        plt.xticks(rotation=45)  # x軸のラベルを45度回転\n",
    "\n",
    "        plt.show()\n",
    "        times.append(timestamps[path[:,0]])\n",
    "        pathes.append(path)\n",
    "\n",
    "    return pathes, times\n",
    "#pathes, times = plot_spring(data2['EuclideanNorm'], circle2['EuclideanNorm'], data2['Timestamp'])"
   ]
  },
  {
   "cell_type": "code",
   "execution_count": null,
   "metadata": {},
   "outputs": [],
   "source": [
    "# モデルの定義\n",
    "model = Sequential()\n",
    "model.add(LSTM(units=64, input_shape=(150, 6)))\n",
    "model.add(Dense(units=5, activation='softmax'))\n",
    "\n",
    "# モデルのコンパイル\n",
    "model.compile(optimizer='adam', loss='sparse_categorical_crossentropy', metrics=['accuracy'])"
   ]
  },
  {
   "cell_type": "code",
   "execution_count": null,
   "metadata": {},
   "outputs": [],
   "source": [
    "motion_data20240504 = process_apple_watch_csv(\"datasets/kawano/20240504/1回目/MotionData_20240504_182506.csv\")\n",
    "eye_data20240504 = process_tobii_csv('datasets/kawano/20240504/1回目/kawano1回目.csv')\n",
    "data20240504 = process_watch_and_tobii_data(motion_data20240504, eye_data20240504)"
   ]
  },
  {
   "cell_type": "code",
   "execution_count": null,
   "metadata": {},
   "outputs": [],
   "source": [
    "data20240504"
   ]
  },
  {
   "cell_type": "code",
   "execution_count": 12,
   "metadata": {},
   "outputs": [],
   "source": [
    "motion_data = process_apple_watch_csv(\"/Users/hinase/Downloads/MotionData_20240508_173037.csv\")"
   ]
  },
  {
   "cell_type": "code",
   "execution_count": 13,
   "metadata": {},
   "outputs": [
    {
     "data": {
      "text/plain": [
       "8223     0 days 00:00:00.024598016\n",
       "36846    0 days 00:00:00.022172928\n",
       "170666   0 days 00:00:00.021945088\n",
       "110781   0 days 00:00:00.021890304\n",
       "108503   0 days 00:00:00.021852160\n",
       "                    ...           \n",
       "5        0 days 00:00:00.018149888\n",
       "110782   0 days 00:00:00.018121472\n",
       "42633    0 days 00:00:00.018029824\n",
       "8224     0 days 00:00:00.014931200\n",
       "0                              NaT\n",
       "Name: Timestamp, Length: 189631, dtype: timedelta64[ns]"
      ]
     },
     "execution_count": 13,
     "metadata": {},
     "output_type": "execute_result"
    }
   ],
   "source": [
    "motion_data['Timestamp'].diff().sort_values(ascending=0)"
   ]
  },
  {
   "cell_type": "code",
   "execution_count": 11,
   "metadata": {},
   "outputs": [
    {
     "data": {
      "text/plain": [
       "Timedelta('0 days 00:00:00.019989281')"
      ]
     },
     "execution_count": 11,
     "metadata": {},
     "output_type": "execute_result"
    }
   ],
   "source": [
    "motion_data['Timestamp'].diff().mean()"
   ]
  },
  {
   "cell_type": "code",
   "execution_count": null,
   "metadata": {},
   "outputs": [],
   "source": [
    "base_timestamps = [\n",
    "    [pd.to_datetime('2024-05-04 18:30:00'), '0'],\n",
    "    [pd.to_datetime('2024-05-04 18:31:00'), '1'],\n",
    "    [pd.to_datetime('2024-05-04 18:32:00'), '2'],\n",
    "    [pd.to_datetime('2024-05-04 18:33:00'), '3'],\n",
    "    [pd.to_datetime('2024-05-04 18:34:00'), '5'],\n",
    "    [pd.to_datetime('2024-05-04 18:35:00'), '4'],\n",
    "    [pd.to_datetime('2024-05-04 18:36:00'), '6'],\n",
    "    [pd.to_datetime('2024-05-04 18:37:00'), '7'],\n",
    "    [pd.to_datetime('2024-05-04 18:38:00'), '8'],\n",
    "    [pd.to_datetime('2024-05-04 18:39:00'), '9'],\n",
    "    [pd.to_datetime('2024-05-04 18:44:00'), '0'],\n",
    "    [pd.to_datetime('2024-05-04 18:44:30'), '1'],\n",
    "    [pd.to_datetime('2024-05-04 18:45:00'), '2'],\n",
    "    [pd.to_datetime('2024-05-04 18:45:30'), '3'],\n",
    "    [pd.to_datetime('2024-05-04 18:46:00'), '4'],\n",
    "    [pd.to_datetime('2024-05-04 18:46:35'), '4'],\n",
    "    [pd.to_datetime('2024-05-04 18:47:00'), '5'],\n",
    "    [pd.to_datetime('2024-05-04 18:47:30'), '6'],\n",
    "    [pd.to_datetime('2024-05-04 18:48:00'), '7'],\n",
    "    [pd.to_datetime('2024-05-04 18:48:30'), '8'],\n",
    "    [pd.to_datetime('2024-05-04 18:49:00'), '9'],\n",
    "]"
   ]
  },
  {
   "cell_type": "code",
   "execution_count": null,
   "metadata": {},
   "outputs": [],
   "source": [
    "# intervals リストを計算\n",
    "intervals = [(timestamp + pd.Timedelta(seconds=-2), timestamp + pd.Timedelta(seconds=3), label) for timestamp, label in base_timestamps]\n",
    "\n",
    "# 結果の表示\n",
    "for start, end, label in intervals:\n",
    "    print(f\"Start: {start}, End: {end}, Label: {label}\")"
   ]
  },
  {
   "cell_type": "code",
   "execution_count": null,
   "metadata": {},
   "outputs": [],
   "source": [
    "import matplotlib.pyplot as plt\n",
    "import matplotlib.dates as mdates\n",
    "import pandas as pd\n",
    "\n",
    "# プロットの初期設定\n",
    "plt.figure(figsize=(60, 10))\n",
    "\n",
    "# グレーで全データをプロット\n",
    "plt.plot(data20240504['Timestamp'], data20240504['Pupil diameter filtered'], color='gray', label='Pupil Diameter Filtered') #瞳孔径\n",
    "plt.plot(data20240504['Timestamp'], data20240504['EuclideanNorm'], color='gray', label='Euclidean Norm')    #3軸合成加速度\n",
    "\n",
    "# intervals リストを使用して特定の区間を色付きでハイライト\n",
    "colors = ['red', 'blue', 'green', 'orange', 'purple']  # カラーリスト\n",
    "for i, (start, end, label) in enumerate(intervals):\n",
    "    # 指定区間のデータを抽出\n",
    "    highlight_data = data20240504[(data20240504['Timestamp'] >= start) & (data20240504['Timestamp'] <= end)]\n",
    "\n",
    "    # 特定区間をプロット\n",
    "    plt.plot(highlight_data['Timestamp'], highlight_data['Pupil diameter filtered'], color=colors[i % len(colors)], label=f'Pupil Dia: {label}')\n",
    "    plt.plot(highlight_data['Timestamp'], highlight_data['EuclideanNorm'], color=colors[i % len(colors)], label=f'Euclidean Norm: {label}')\n",
    "\n",
    "# グラフの装飾\n",
    "plt.xlabel('Timestamp')\n",
    "plt.ylabel('Values')\n",
    "plt.title('Highlighted Intervals in Pupil Diameter and Motion Data')\n",
    "plt.xticks(rotation=45)\n",
    "plt.legend()\n",
    "plt.grid(True)\n",
    "plt.gca().xaxis.set_major_formatter(mdates.DateFormatter('%M:%S:%f'))  # Timestampフォーマット設定\n",
    "plt.tight_layout()\n",
    "\n",
    "# プロットを表示\n",
    "plt.show()\n"
   ]
  },
  {
   "cell_type": "code",
   "execution_count": null,
   "metadata": {},
   "outputs": [],
   "source": [
    "import matplotlib.pyplot as plt\n",
    "import matplotlib.dates as mdates\n",
    "import pandas as pd\n",
    "\n",
    "# プロットの初期設定\n",
    "plt.figure(figsize=(60, 10))\n",
    "\n",
    "# Pupil diameter filtered の差分の二乗を計算\n",
    "diff_squared = data20240504['Pupil diameter filtered'].diff()**2\n",
    "\n",
    "# グレーで全データをプロット\n",
    "plt.plot(data20240504['Timestamp'], diff_squared * -1, color='gray', label='Squared Diff of Pupil Diameter (Inverted)')  # 瞳孔径の差分の二乗（逆転表示）\n",
    "plt.plot(data20240504['Timestamp'], data20240504['EuclideanNorm'], color='gray', label='Euclidean Norm')  # 3軸合成加速度\n",
    "\n",
    "# intervals リストを使用して特定の区間を色付きでハイライト\n",
    "colors = ['red', 'blue', 'green', 'orange', 'purple']  # カラーリスト\n",
    "for i, (start, end, label) in enumerate(intervals):\n",
    "    # 指定区間のデータを抽出\n",
    "    highlight_data = data20240504[(data20240504['Timestamp'] >= start) & (data20240504['Timestamp'] <= end)]\n",
    "\n",
    "    # 特定区間をプロット\n",
    "    plt.plot(highlight_data['Timestamp'], highlight_data['Pupil diameter filtered'].diff()**2 * -1, color=colors[i % len(colors)], label=f'Sq Diff Pupil Dia (Inverted): {label}')\n",
    "    plt.plot(highlight_data['Timestamp'], highlight_data['EuclideanNorm'], color=colors[i % len(colors)], label=f'Euclidean Norm: {label}')\n",
    "\n",
    "# グラフの装飾\n",
    "plt.xlabel('Timestamp')\n",
    "plt.ylabel('Values (Inverted for Pupil Diameter Diff Squared)')\n",
    "plt.title('Highlighted Intervals in Pupil Diameter and Motion Data')\n",
    "plt.xticks(rotation=45)\n",
    "plt.legend()\n",
    "plt.grid(True)\n",
    "plt.gca().xaxis.set_major_formatter(mdates.DateFormatter('%M:%S:%f'))  # Timestampフォーマット設定\n",
    "plt.tight_layout()\n",
    "\n",
    "# プロットを表示\n",
    "plt.show()\n"
   ]
  },
  {
   "cell_type": "code",
   "execution_count": null,
   "metadata": {},
   "outputs": [],
   "source": [
    "# プロットの初期設定\n",
    "plt.figure(figsize=(160, 10))\n",
    "\n",
    "# 注視点の移動距離を計算\n",
    "data20240504['idouryou'] = np.sqrt(data20240504['Gaze point X'].diff()**2 + data20240504['Gaze point Y'].diff()**2)\n",
    "\n",
    "# グレーで全データをプロット\n",
    "plt.plot(data20240504['Timestamp'], data20240504['idouryou'], color='gray', label='Inverted - Gaze Movement Distance')  # 注視点の移動距離（逆転表示）\n",
    "#plt.plot(data20240504['Timestamp'], data20240504['EuclideanNorm'], color='gray', label='Euclidean Norm')  # 3軸合成加速度\n",
    "\n",
    "# intervals リストを使用して特定の区間を色付きでハイライト\n",
    "colors = ['red', 'blue', 'green', 'orange', 'purple']  # カラーリスト\n",
    "for i, (start, end, label) in enumerate(intervals):\n",
    "    # 指定区間のデータを抽出\n",
    "    highlight_data = data20240504[(data20240504['Timestamp'] >= start) & (data20240504['Timestamp'] <= end)]\n",
    "\n",
    "    # 特定区間をプロット\n",
    "    plt.plot(highlight_data['Timestamp'], highlight_data['idouryou'], color=colors[i % len(colors)], label=f'Inverted Gaze Move: {label}')\n",
    "    #plt.plot(highlight_data['Timestamp'], highlight_data['EuclideanNorm'], color=colors[i % len(colors)], label=f'Euclidean Norm: {label}')\n",
    "\n",
    "# グラフの装飾\n",
    "plt.xlabel('Timestamp')\n",
    "plt.ylabel('Gaze Movement Distance (downward)')\n",
    "plt.title('Highlighted Intervals in Gaze Movement')\n",
    "plt.xticks(rotation=45)\n",
    "plt.legend()\n",
    "plt.grid(True)\n",
    "plt.gca().xaxis.set_major_formatter(mdates.DateFormatter('%M:%S:%f'))  # Timestampフォーマット設定\n",
    "plt.tight_layout()\n",
    "\n",
    "# プロットを表示\n",
    "plt.show()\n"
   ]
  }
 ],
 "metadata": {
  "kernelspec": {
   "display_name": "Python 3",
   "language": "python",
   "name": "python3"
  },
  "language_info": {
   "codemirror_mode": {
    "name": "ipython",
    "version": 3
   },
   "file_extension": ".py",
   "mimetype": "text/x-python",
   "name": "python",
   "nbconvert_exporter": "python",
   "pygments_lexer": "ipython3",
   "version": "3.11.3"
  }
 },
 "nbformat": 4,
 "nbformat_minor": 2
}
