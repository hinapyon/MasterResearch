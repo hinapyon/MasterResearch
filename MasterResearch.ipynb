{
  "cells": [
    {
      "cell_type": "code",
      "execution_count": null,
      "metadata": {
        "colab": {
          "base_uri": "https://localhost:8080/",
          "height": 69
        },
        "id": "VGJb1ScIJE-J",
        "outputId": "5265e456-b22d-4ffd-c6ac-1534b4d3de44"
      },
      "outputs": [],
      "source": [
        "from google.colab import files\n",
        "uploaded = files.upload()"
      ]
    },
    {
      "cell_type": "code",
      "execution_count": null,
      "metadata": {
        "colab": {
          "base_uri": "https://localhost:8080/"
        },
        "id": "FI3b2MALJQG9",
        "outputId": "fea1655c-1fcf-4d22-e7c0-c91ba32b2d7c"
      },
      "outputs": [],
      "source": [
        "from google.colab import drive\n",
        "drive.mount('/content/drive')"
      ]
    },
    {
      "cell_type": "code",
      "execution_count": null,
      "metadata": {
        "colab": {
          "base_uri": "https://localhost:8080/"
        },
        "id": "5P9aOSopJUiL",
        "outputId": "507355a3-deb9-4ee7-d6a4-fee467203faa"
      },
      "outputs": [],
      "source": [
        "!pip install japanize_matplotlib bottleneck tslearn"
      ]
    },
    {
      "cell_type": "code",
      "execution_count": 2,
      "metadata": {
        "id": "1Lq-ZkyCJJbu"
      },
      "outputs": [
        {
          "name": "stderr",
          "output_type": "stream",
          "text": [
            "2024-06-10 12:25:18.892451: I tensorflow/core/platform/cpu_feature_guard.cc:182] This TensorFlow binary is optimized to use available CPU instructions in performance-critical operations.\n",
            "To enable the following instructions: AVX2 FMA, in other operations, rebuild TensorFlow with the appropriate compiler flags.\n"
          ]
        }
      ],
      "source": [
        "#作った関数\n",
        "import MasterResearchFunction as mr\n",
        "# 基本ライブラリ\n",
        "import os, re, csv, math, statistics\n",
        "from datetime import datetime, timedelta\n",
        "from decimal import Decimal\n",
        "\n",
        "# 数値計算とデータ処理\n",
        "import numpy as np\n",
        "import pandas as pd\n",
        "import bottleneck as bn\n",
        "\n",
        "# 機械学習ライブラリ\n",
        "from sklearn import preprocessing\n",
        "from sklearn.preprocessing import LabelEncoder\n",
        "from sklearn.model_selection import train_test_split\n",
        "from sklearn.metrics import accuracy_score\n",
        "\n",
        "# ディープラーニングライブラリ\n",
        "import tensorflow as tf\n",
        "from tensorflow.keras import layers, Sequential\n",
        "from tensorflow.keras.layers import LSTM, Dense, Activation, Conv1D, MaxPooling1D, Flatten\n",
        "\n",
        "# プロットと可視化\n",
        "import matplotlib.pyplot as plt\n",
        "import matplotlib.dates as mdates\n",
        "import japanize_matplotlib\n",
        "\n",
        "# その他のライブラリ\n",
        "from scipy import signal, stats\n",
        "from scipy.signal import savgol_filter\n",
        "from tslearn.metrics import dtw_path"
      ]
    },
    {
      "cell_type": "code",
      "execution_count": 3,
      "metadata": {
        "id": "xSPIQYV9JE-O"
      },
      "outputs": [],
      "source": [
        "motion_data = mr.process_apple_watch_csv(\"datasets/sakamoto/20240604/sakamoto_motion.csv\")\n",
        "#motion_data = mr.process_apple_watch_csv(\"/content/drive/MyDrive/datasets/kawano/20240517/MotionData_20240517_220252.csv\")"
      ]
    },
    {
      "cell_type": "code",
      "execution_count": 4,
      "metadata": {
        "id": "2jImJPduJE-R"
      },
      "outputs": [
        {
          "name": "stderr",
          "output_type": "stream",
          "text": [
            "/Users/hinase/CodeChord/MasterResearch/MasterResearchFunction.py:51: DtypeWarning: Columns (36) have mixed types. Specify dtype option on import or set low_memory=False.\n",
            "  eye_data = pd.read_csv(file_path, header=0)\n"
          ]
        }
      ],
      "source": [
        "eye_data = mr.process_tobii_csv(\"datasets/sakamoto/20240604/sakamoto_eye.csv\")"
      ]
    },
    {
      "cell_type": "code",
      "execution_count": 5,
      "metadata": {},
      "outputs": [],
      "source": [
        "check = mr.process_all_apple_watch_csv_in_directory(\"datasets/sakamoto/train_gesture/check\")\n",
        "circle = mr.process_all_apple_watch_csv_in_directory(\"datasets/sakamoto/train_gesture/circle\")\n",
        "cross = mr.process_all_apple_watch_csv_in_directory(\"datasets/sakamoto/train_gesture/cross\")\n",
        "tri = mr.process_all_apple_watch_csv_in_directory(\"datasets/sakamoto/train_gesture/tri\")"
      ]
    },
    {
      "cell_type": "code",
      "execution_count": 9,
      "metadata": {},
      "outputs": [],
      "source": [
        "Th = 5"
      ]
    },
    {
      "cell_type": "code",
      "execution_count": 10,
      "metadata": {},
      "outputs": [
        {
          "name": "stdout",
          "output_type": "stream",
          "text": [
            "****\n"
          ]
        }
      ],
      "source": [
        "for i in range(len(circle)):\n",
        "  segx, segy, segz = [], [], []\n",
        "  segx.append(mr.spring_ogawa(motion_data['AccelerationX'], circle[i]['AccelerationX'], Th))\n",
        "  segy.append(mr.spring_ogawa(motion_data['AccelerationY'], circle[i]['AccelerationY'], Th))\n",
        "  segz.append(mr.spring_ogawa(motion_data['AccelerationZ'], circle[i]['AccelerationZ'], Th))"
      ]
    },
    {
      "cell_type": "code",
      "execution_count": null,
      "metadata": {},
      "outputs": [],
      "source": []
    },
    {
      "cell_type": "code",
      "execution_count": null,
      "metadata": {},
      "outputs": [],
      "source": [
        "# 指定された範囲のデータをフィルタリング\n",
        "circle_start_time = '2024-06-04 16:00:31'\n",
        "circle_end_time = '2024-06-04 16:00:34'\n",
        "cross_start_time = '2024-06-04 16:10:55'\n",
        "cross_end_time = '2024-06-04 16:10:58'\n",
        "tri_start_time = '2024-06-04 16:31:37'\n",
        "tri_end_time = '2024-06-04 16:31:40'\n",
        "check_start_time = '2024-06-04 16:46:43'\n",
        "check_end_time = '2024-06-04 16:46:46'\n",
        "circle = motion_data[(motion_data['Timestamp'] >= circle_start_time) & (motion_data['Timestamp'] <= circle_end_time)].reset_index(drop=True)\n",
        "cross = motion_data[(motion_data['Timestamp'] >= cross_start_time) & (motion_data['Timestamp'] <= cross_end_time)].reset_index(drop=True)\n",
        "tri = motion_data[(motion_data['Timestamp'] >= tri_start_time) & (motion_data['Timestamp'] <= tri_end_time)].reset_index(drop=True)\n",
        "check = motion_data[(motion_data['Timestamp'] >= check_start_time) & (motion_data['Timestamp'] <= check_end_time)].reset_index(drop=True)"
      ]
    },
    {
      "cell_type": "code",
      "execution_count": null,
      "metadata": {},
      "outputs": [],
      "source": [
        "Th = 3.5"
      ]
    },
    {
      "cell_type": "code",
      "execution_count": null,
      "metadata": {},
      "outputs": [],
      "source": [
        "segx = mr.spring_ogawa(motion_data['AccelerationX'], circle['AccelerationX'], Th)\n",
        "segy = mr.spring_ogawa(motion_data['AccelerationY'], circle['AccelerationY'], Th)\n",
        "segz = mr.spring_ogawa(motion_data['AccelerationZ'], circle['AccelerationZ'], Th)"
      ]
    },
    {
      "cell_type": "code",
      "execution_count": null,
      "metadata": {},
      "outputs": [],
      "source": [
        "overlap_ranges = mr.combine_and_find_overlapping_segments(segx, segy, segz)"
      ]
    },
    {
      "cell_type": "code",
      "execution_count": null,
      "metadata": {},
      "outputs": [],
      "source": [
        "overlap_ranges = mr.combine_and_find_all_overlapping_segments(segx, segy, segz)"
      ]
    },
    {
      "cell_type": "code",
      "execution_count": null,
      "metadata": {},
      "outputs": [],
      "source": [
        "circle35 = overlap_ranges"
      ]
    },
    {
      "cell_type": "code",
      "execution_count": null,
      "metadata": {},
      "outputs": [],
      "source": [
        "motion_data['Timestamp'][9760]"
      ]
    },
    {
      "cell_type": "code",
      "execution_count": null,
      "metadata": {},
      "outputs": [],
      "source": [
        "cross3 = overlap_ranges"
      ]
    },
    {
      "cell_type": "code",
      "execution_count": null,
      "metadata": {},
      "outputs": [],
      "source": [
        "tri35[36]"
      ]
    },
    {
      "cell_type": "code",
      "execution_count": null,
      "metadata": {},
      "outputs": [],
      "source": [
        "check35"
      ]
    },
    {
      "cell_type": "code",
      "execution_count": null,
      "metadata": {},
      "outputs": [],
      "source": [
        "motion_data['Timestamp'][66190]"
      ]
    },
    {
      "cell_type": "code",
      "execution_count": null,
      "metadata": {},
      "outputs": [],
      "source": [
        "gesture_eye_data = []"
      ]
    },
    {
      "cell_type": "code",
      "execution_count": null,
      "metadata": {},
      "outputs": [],
      "source": [
        "results = []\n",
        "for start, end in circle35:\n",
        "    a = [motion_data['Timestamp'][start], motion_data['Timestamp'][end]]\n",
        "    results.append(a)"
      ]
    },
    {
      "cell_type": "code",
      "execution_count": null,
      "metadata": {},
      "outputs": [],
      "source": [
        "# 経過時間を計算して格納するリスト\n",
        "elapsed_times = []\n",
        "\n",
        "# 各区間の経過時間を計算\n",
        "for start_time, end_time in results:\n",
        "    # タイムスタンプをdatetimeオブジェクトに変換\n",
        "    start_dt = start_time\n",
        "    end_dt = end_time\n",
        "\n",
        "    # 経過時間を計算\n",
        "    elapsed_time = (end_dt - start_dt).total_seconds()\n",
        "\n",
        "    # 経過時間をリストに追加\n",
        "    elapsed_times.append(elapsed_time)\n",
        "\n",
        "# 経過時間のリストを表示\n",
        "print(\"Elapsed times (seconds):\", elapsed_times)"
      ]
    },
    {
      "cell_type": "code",
      "execution_count": null,
      "metadata": {},
      "outputs": [],
      "source": [
        "gesture_eye_data = []"
      ]
    },
    {
      "cell_type": "code",
      "execution_count": null,
      "metadata": {},
      "outputs": [],
      "source": [
        "for i in range(len(results)):\n",
        "  gesture_eye_data.append(eye_data[(eye_data['Timestamp'] >= (results[i][0] - pd.Timedelta(seconds=5))) & (eye_data['Timestamp'] <= (results[i][1]) + pd.Timedelta(seconds=5))])"
      ]
    },
    {
      "cell_type": "code",
      "execution_count": null,
      "metadata": {},
      "outputs": [],
      "source": [
        "len(gesture_eye_data)"
      ]
    },
    {
      "cell_type": "code",
      "execution_count": null,
      "metadata": {},
      "outputs": [],
      "source": [
        "plt.figure(figsize=(72, 6))\n",
        "plt.plot(gesture_eye_data[36]['Timestamp'], gesture_eye_data[36]['Gaze point X'].diff(), label='Gaze point X diff')  # 時系列データのプロット\n",
        "plt.plot(gesture_eye_data[36]['Timestamp'], gesture_eye_data[36]['Gaze point Y'].diff(), label='Gaze point Y diff')  # 時系列データのプロット\n",
        "# plt.plot(gesture_eye_data[i]['Timestamp'], gesture_eye_data[i]['Pupil diameter right'].diff(), label='Pupil diameter right diff')  # 時系列データのプロット\n",
        "# plt.plot(gesture_eye_data[i]['Timestamp'], gesture_eye_data[i]['Pupil diameter left'].diff(), label='Pupil diameter left diff')  # 時系列データのプロット\n",
        "plt.grid(True)  # グリッド表示\n",
        "plt.legend()  # 凡例表示\n",
        "plt.xticks(rotation=45)  # x軸のラベルを45度回転\n",
        "plt.gca().xaxis.set_major_formatter(mdates.DateFormatter('%M:%S:%f'))  # Timestampフォーマット設定\n",
        "# ハイライト\n",
        "plt.axvspan(results[36][0], results[36][1], color='yellow', alpha=0.3)\n",
        "plt.show()"
      ]
    },
    {
      "cell_type": "code",
      "execution_count": null,
      "metadata": {},
      "outputs": [],
      "source": [
        "for i in range(len(gesture_eye_data)):\n",
        "    plt.figure(figsize=(72, 6))\n",
        "    plt.plot(gesture_eye_data[i]['Timestamp'], gesture_eye_data[i]['Gaze point X'].diff(), label='Gaze point X diff')  # 時系列データのプロット\n",
        "    plt.plot(gesture_eye_data[i]['Timestamp'], gesture_eye_data[i]['Gaze point Y'].diff(), label='Gaze point Y diff')  # 時系列データのプロット\n",
        "    # plt.plot(gesture_eye_data[i]['Timestamp'], gesture_eye_data[i]['Pupil diameter right'].diff(), label='Pupil diameter right diff')  # 時系列データのプロット\n",
        "    # plt.plot(gesture_eye_data[i]['Timestamp'], gesture_eye_data[i]['Pupil diameter left'].diff(), label='Pupil diameter left diff')  # 時系列データのプロット\n",
        "    plt.grid(True)  # グリッド表示\n",
        "    plt.legend()  # 凡例表示\n",
        "    plt.xticks(rotation=45)  # x軸のラベルを45度回転\n",
        "    plt.gca().xaxis.set_major_formatter(mdates.DateFormatter('%M:%S:%f'))  # Timestampフォーマット設定\n",
        "    # ハイライト\n",
        "    plt.axvspan(results[i][0], results[i][1], color='yellow', alpha=0.3)\n",
        "    plt.show()"
      ]
    },
    {
      "cell_type": "code",
      "execution_count": null,
      "metadata": {},
      "outputs": [],
      "source": [
        "def calculate_variance(data, start_time, end_time):\n",
        "    # 指定された期間内のデータをフィルタリング\n",
        "    filtered_data = data[(data['Timestamp'] >= start_time) & (data['Timestamp'] <= end_time)]\n",
        "    # 差分の分散を計算\n",
        "    gaze_x_var = filtered_data['Gaze point X'].diff().var()\n",
        "    gaze_y_var = filtered_data['Gaze point Y'].diff().var()\n",
        "    return gaze_x_var, gaze_y_var\n"
      ]
    },
    {
      "cell_type": "code",
      "execution_count": null,
      "metadata": {},
      "outputs": [],
      "source": [
        "# 分散を格納する配列\n",
        "variances_x = []\n",
        "variances_y = []\n",
        "# グラフのプロットと分散の計算\n",
        "for i in range(len(gesture_eye_data)):\n",
        "    plt.figure(figsize=(72, 6))\n",
        "    plt.plot(gesture_eye_data[i]['Timestamp'], gesture_eye_data[i]['Gaze point X'].diff(), label='Gaze point X diff')\n",
        "    plt.plot(gesture_eye_data[i]['Timestamp'], gesture_eye_data[i]['Gaze point Y'].diff(), label='Gaze point Y diff')\n",
        "    plt.grid(True)\n",
        "    plt.legend()\n",
        "    plt.xticks(rotation=45)\n",
        "    plt.gca().xaxis.set_major_formatter(mdates.DateFormatter('%M:%S:%f'))\n",
        "\n",
        "    # ハイライト区間の開始と終了時刻\n",
        "    start_time = results[i][0]\n",
        "    end_time = results[i][1]\n",
        "\n",
        "    # ハイライト\n",
        "    plt.axvspan(start_time, end_time, color='yellow', alpha=0.3)\n",
        "\n",
        "    # 分散の計算\n",
        "    gaze_x_var, gaze_y_var = calculate_variance(gesture_eye_data[i], start_time, end_time)\n",
        "\n",
        "    # 分散を配列に格納\n",
        "    variances_x.append(gaze_x_var)\n",
        "    variances_y.append(gaze_y_var)\n",
        "\n",
        "    # 分散の表示\n",
        "    plt.title(f'Gaze point X variance: {gaze_x_var:.5f}, Gaze point Y variance: {gaze_y_var:.5f}')\n",
        "\n",
        "    plt.show()\n",
        "\n",
        "# 分散の配列を表示\n",
        "print(\"Gaze point X variances:\", variances_x)\n",
        "print(\"Gaze point Y variances:\", variances_y)"
      ]
    },
    {
      "cell_type": "code",
      "execution_count": null,
      "metadata": {},
      "outputs": [],
      "source": [
        "np.sqrt(variances_x)"
      ]
    },
    {
      "cell_type": "code",
      "execution_count": null,
      "metadata": {},
      "outputs": [],
      "source": [
        "np.sqrt(variances_y)"
      ]
    },
    {
      "cell_type": "code",
      "execution_count": null,
      "metadata": {},
      "outputs": [],
      "source": [
        "for i in range(len(gesture_eye_data)):\n",
        "    plt.figure(figsize=(72, 6))\n",
        "    # plt.plot(gesture_eye_data[i]['Timestamp'], gesture_eye_data[i]['Gaze point X'].diff(), label='Gaze point X diff')  # 時系列データのプロット\n",
        "    # plt.plot(gesture_eye_data[i]['Timestamp'], gesture_eye_data[i]['Gaze point Y'].diff(), label='Gaze point Y diff')  # 時系列データのプロット\n",
        "    plt.plot(gesture_eye_data[i]['Timestamp'], gesture_eye_data[i]['Pupil diameter right'].diff(), label='Pupil diameter right diff')  # 時系列データのプロット\n",
        "    plt.plot(gesture_eye_data[i]['Timestamp'], gesture_eye_data[i]['Pupil diameter left'].diff(), label='Pupil diameter left diff')  # 時系列データのプロット\n",
        "    plt.grid(True)  # グリッド表示\n",
        "    plt.legend()  # 凡例表示\n",
        "    plt.xticks(rotation=45)  # x軸のラベルを45度回転\n",
        "    plt.gca().xaxis.set_major_formatter(mdates.DateFormatter('%M:%S:%f'))  # Timestampフォーマット設定\n",
        "    # ハイライト\n",
        "    plt.axvspan(results[i][0], results[i][1], color='yellow', alpha=0.3)\n",
        "    plt.show()"
      ]
    },
    {
      "cell_type": "code",
      "execution_count": null,
      "metadata": {},
      "outputs": [],
      "source": []
    }
  ],
  "metadata": {
    "colab": {
      "provenance": []
    },
    "kernelspec": {
      "display_name": "Python 3",
      "language": "python",
      "name": "python3"
    },
    "language_info": {
      "codemirror_mode": {
        "name": "ipython",
        "version": 3
      },
      "file_extension": ".py",
      "mimetype": "text/x-python",
      "name": "python",
      "nbconvert_exporter": "python",
      "pygments_lexer": "ipython3",
      "version": "3.11.3"
    }
  },
  "nbformat": 4,
  "nbformat_minor": 0
}
